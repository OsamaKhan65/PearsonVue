{
 "cells": [
  {
   "cell_type": "markdown",
   "id": "5c6ece06",
   "metadata": {},
   "source": [
    "# Built-in modules/libraries\n",
    "\n",
    "There are various libraries and modules built -into python, that contains functions for making our coding problems easier. We are going to study about some of the functions from three librairies:\n",
    "1. Math\n",
    "2. Datetime\n",
    "3. Random\n",
    "\n",
    "But befor that we have to import these libraries. The syntax for importing libraries is as follows:"
   ]
  },
  {
   "cell_type": "raw",
   "id": "bf224445",
   "metadata": {},
   "source": [
    "import library_name\n",
    "\n",
    "library.func1()\n",
    "\n",
    "import math\n",
    "math.sqrt()"
   ]
  },
  {
   "cell_type": "markdown",
   "id": "a09848b0",
   "metadata": {},
   "source": [
    "We can write like this to import the library and use its functions. We can also assign an alias or a nickname to a library like so:"
   ]
  },
  {
   "cell_type": "raw",
   "id": "a3e436f0",
   "metadata": {},
   "source": [
    "import library_name as lib\n",
    "\n",
    "lib.func1()"
   ]
  },
  {
   "cell_type": "markdown",
   "id": "a05b4ac3",
   "metadata": {},
   "source": [
    "And if we only plan to use a couple of functions so we can only import those functions instead of the entire library."
   ]
  },
  {
   "cell_type": "raw",
   "id": "a41dba57",
   "metadata": {},
   "source": [
    "from library import func1, func2\n",
    "\n",
    "func1()\n",
    "func2()"
   ]
  },
  {
   "cell_type": "markdown",
   "id": "a724442d",
   "metadata": {},
   "source": [
    "# Math\n",
    "\n",
    "Python has a built-in module that you can use for mathematical tasks. The math module has a set of methods and constants."
   ]
  },
  {
   "cell_type": "code",
   "execution_count": 2,
   "id": "28ca94fc",
   "metadata": {},
   "outputs": [],
   "source": [
    "import math"
   ]
  },
  {
   "cell_type": "code",
   "execution_count": null,
   "id": "bf18f016",
   "metadata": {},
   "outputs": [],
   "source": [
    "# write a function to calculate the area of a circle using its radius"
   ]
  },
  {
   "cell_type": "markdown",
   "id": "d2b74bc6",
   "metadata": {},
   "source": [
    "#### fabs()\n",
    "\n",
    "The math.fabs() method returns the absolute value of a number, as a float. Absolute denotes a non-negative number. This removes the negative sign of the value if it has any."
   ]
  },
  {
   "cell_type": "raw",
   "id": "c4b72f5c",
   "metadata": {},
   "source": [
    "math.fabs(x)"
   ]
  },
  {
   "cell_type": "code",
   "execution_count": 3,
   "id": "a15e5e25",
   "metadata": {},
   "outputs": [
    {
     "ename": "AttributeError",
     "evalue": "module 'math' has no attribute 'abs'",
     "output_type": "error",
     "traceback": [
      "\u001b[1;31m---------------------------------------------------------------------------\u001b[0m",
      "\u001b[1;31mAttributeError\u001b[0m                            Traceback (most recent call last)",
      "Cell \u001b[1;32mIn [3], line 1\u001b[0m\n\u001b[1;32m----> 1\u001b[0m \u001b[38;5;28mprint\u001b[39m(\u001b[43mmath\u001b[49m\u001b[38;5;241;43m.\u001b[39;49m\u001b[43mabs\u001b[49m(\u001b[38;5;241m-\u001b[39m\u001b[38;5;241m2\u001b[39m))\n\u001b[0;32m      2\u001b[0m \u001b[38;5;28mprint\u001b[39m(math\u001b[38;5;241m.\u001b[39mfabs(\u001b[38;5;241m2\u001b[39m))\n\u001b[0;32m      3\u001b[0m \u001b[38;5;28mprint\u001b[39m(math\u001b[38;5;241m.\u001b[39mfabs(\u001b[38;5;241m-\u001b[39m\u001b[38;5;241m2.5\u001b[39m))\n",
      "\u001b[1;31mAttributeError\u001b[0m: module 'math' has no attribute 'abs'"
     ]
    }
   ],
   "source": [
    "print(math.fabs(-2))\n",
    "print(math.fabs(2))\n",
    "print(math.fabs(-2.5))\n",
    "print(math.fabs(2.5))\n",
    "print(math.fabs(\"2\"))"
   ]
  },
  {
   "cell_type": "code",
   "execution_count": 247,
   "id": "aaea4ade",
   "metadata": {},
   "outputs": [],
   "source": [
    "def fabs(x):\n",
    "    if type(x) not in [int, float, bool]:\n",
    "        raise TypeError(\"must be real number, not \" + type(x).__name__)\n",
    "    x = float(x)\n",
    "    if x < 0:\n",
    "        x *= -1\n",
    "    return x"
   ]
  },
  {
   "cell_type": "code",
   "execution_count": 248,
   "id": "0f703ef7",
   "metadata": {},
   "outputs": [
    {
     "name": "stdout",
     "output_type": "stream",
     "text": [
      "2.0\n",
      "2.0\n",
      "2.5\n",
      "2.5\n"
     ]
    },
    {
     "ename": "TypeError",
     "evalue": "must be real number, not str",
     "output_type": "error",
     "traceback": [
      "\u001b[1;31m---------------------------------------------------------------------------\u001b[0m",
      "\u001b[1;31mTypeError\u001b[0m                                 Traceback (most recent call last)",
      "Cell \u001b[1;32mIn [248], line 5\u001b[0m\n\u001b[0;32m      3\u001b[0m \u001b[38;5;28mprint\u001b[39m(fabs(\u001b[38;5;241m-\u001b[39m\u001b[38;5;241m2.5\u001b[39m))\n\u001b[0;32m      4\u001b[0m \u001b[38;5;28mprint\u001b[39m(fabs(\u001b[38;5;241m2.5\u001b[39m))\n\u001b[1;32m----> 5\u001b[0m \u001b[38;5;28mprint\u001b[39m(\u001b[43mfabs\u001b[49m\u001b[43m(\u001b[49m\u001b[38;5;124;43m\"\u001b[39;49m\u001b[38;5;124;43m2\u001b[39;49m\u001b[38;5;124;43m\"\u001b[39;49m\u001b[43m)\u001b[49m)\n",
      "Cell \u001b[1;32mIn [247], line 3\u001b[0m, in \u001b[0;36mfabs\u001b[1;34m(x)\u001b[0m\n\u001b[0;32m      1\u001b[0m \u001b[38;5;28;01mdef\u001b[39;00m \u001b[38;5;21mfabs\u001b[39m(x):\n\u001b[0;32m      2\u001b[0m     \u001b[38;5;28;01mif\u001b[39;00m \u001b[38;5;28mtype\u001b[39m(x) \u001b[38;5;129;01mnot\u001b[39;00m \u001b[38;5;129;01min\u001b[39;00m [\u001b[38;5;28mint\u001b[39m, \u001b[38;5;28mfloat\u001b[39m, \u001b[38;5;28mbool\u001b[39m]:\n\u001b[1;32m----> 3\u001b[0m         \u001b[38;5;28;01mraise\u001b[39;00m \u001b[38;5;167;01mTypeError\u001b[39;00m(\u001b[38;5;124m\"\u001b[39m\u001b[38;5;124mmust be real number, not \u001b[39m\u001b[38;5;124m\"\u001b[39m \u001b[38;5;241m+\u001b[39m \u001b[38;5;28mtype\u001b[39m(x)\u001b[38;5;241m.\u001b[39m\u001b[38;5;18m__name__\u001b[39m)\n\u001b[0;32m      4\u001b[0m     x \u001b[38;5;241m=\u001b[39m \u001b[38;5;28mfloat\u001b[39m(x)\n\u001b[0;32m      5\u001b[0m     \u001b[38;5;28;01mif\u001b[39;00m x \u001b[38;5;241m<\u001b[39m \u001b[38;5;241m0\u001b[39m:\n",
      "\u001b[1;31mTypeError\u001b[0m: must be real number, not str"
     ]
    }
   ],
   "source": [
    "print(fabs(-2))\n",
    "print(fabs(2))\n",
    "print(fabs(-2.5))\n",
    "print(fabs(2.5))\n",
    "print(fabs(\"2\"))"
   ]
  },
  {
   "cell_type": "markdown",
   "id": "077b82e4",
   "metadata": {},
   "source": [
    "#### ceil()\n",
    "\n",
    "The math.ceil() method rounds a number UP to the nearest integer, if necessary, and returns the result."
   ]
  },
  {
   "cell_type": "raw",
   "id": "4cb96876",
   "metadata": {},
   "source": [
    "math.ceil(x)"
   ]
  },
  {
   "cell_type": "code",
   "execution_count": 5,
   "id": "3ad35a69",
   "metadata": {},
   "outputs": [
    {
     "data": {
      "text/plain": [
       "3"
      ]
     },
     "execution_count": 5,
     "metadata": {},
     "output_type": "execute_result"
    }
   ],
   "source": [
    "round(2.9)"
   ]
  },
  {
   "cell_type": "code",
   "execution_count": 249,
   "id": "59401aa8",
   "metadata": {},
   "outputs": [
    {
     "name": "stdout",
     "output_type": "stream",
     "text": [
      "2\n",
      "2\n",
      "3\n",
      "3\n",
      "-2\n",
      "-2\n"
     ]
    },
    {
     "ename": "TypeError",
     "evalue": "must be real number, not str",
     "output_type": "error",
     "traceback": [
      "\u001b[1;31m---------------------------------------------------------------------------\u001b[0m",
      "\u001b[1;31mTypeError\u001b[0m                                 Traceback (most recent call last)",
      "Cell \u001b[1;32mIn [249], line 7\u001b[0m\n\u001b[0;32m      5\u001b[0m \u001b[38;5;28mprint\u001b[39m(math\u001b[38;5;241m.\u001b[39mceil(\u001b[38;5;241m-\u001b[39m\u001b[38;5;241m2\u001b[39m))\n\u001b[0;32m      6\u001b[0m \u001b[38;5;28mprint\u001b[39m(math\u001b[38;5;241m.\u001b[39mceil(\u001b[38;5;241m-\u001b[39m\u001b[38;5;241m2.1\u001b[39m))\n\u001b[1;32m----> 7\u001b[0m \u001b[38;5;28mprint\u001b[39m(\u001b[43mmath\u001b[49m\u001b[38;5;241;43m.\u001b[39;49m\u001b[43mceil\u001b[49m\u001b[43m(\u001b[49m\u001b[38;5;124;43m\"\u001b[39;49m\u001b[38;5;124;43m2\u001b[39;49m\u001b[38;5;124;43m\"\u001b[39;49m\u001b[43m)\u001b[49m)\n",
      "\u001b[1;31mTypeError\u001b[0m: must be real number, not str"
     ]
    }
   ],
   "source": [
    "print(math.ceil(2))\n",
    "print(math.ceil(2.0))\n",
    "print(math.ceil(2.1))\n",
    "print(math.ceil(2.9))\n",
    "print(math.ceil(-2))\n",
    "print(math.ceil(-2.1))\n",
    "print(math.ceil(\"2\"))"
   ]
  },
  {
   "cell_type": "code",
   "execution_count": 250,
   "id": "6987e4df",
   "metadata": {},
   "outputs": [],
   "source": [
    "def ceil(x):\n",
    "    if type(x) not in [int, float, bool]:\n",
    "        raise TypeError(\"must be real number, not \" + type(x).__name__)\n",
    "    if x % 1 > 0:\n",
    "        x += 1\n",
    "    return int(x//1)"
   ]
  },
  {
   "cell_type": "code",
   "execution_count": 251,
   "id": "bcbf6ac5",
   "metadata": {},
   "outputs": [
    {
     "name": "stdout",
     "output_type": "stream",
     "text": [
      "2\n",
      "2\n",
      "3\n",
      "3\n",
      "-2\n",
      "-2\n"
     ]
    },
    {
     "ename": "TypeError",
     "evalue": "must be real number, not str",
     "output_type": "error",
     "traceback": [
      "\u001b[1;31m---------------------------------------------------------------------------\u001b[0m",
      "\u001b[1;31mTypeError\u001b[0m                                 Traceback (most recent call last)",
      "Cell \u001b[1;32mIn [251], line 7\u001b[0m\n\u001b[0;32m      5\u001b[0m \u001b[38;5;28mprint\u001b[39m(ceil(\u001b[38;5;241m-\u001b[39m\u001b[38;5;241m2\u001b[39m))\n\u001b[0;32m      6\u001b[0m \u001b[38;5;28mprint\u001b[39m(ceil(\u001b[38;5;241m-\u001b[39m\u001b[38;5;241m2.1\u001b[39m))\n\u001b[1;32m----> 7\u001b[0m \u001b[38;5;28mprint\u001b[39m(\u001b[43mceil\u001b[49m\u001b[43m(\u001b[49m\u001b[38;5;124;43m\"\u001b[39;49m\u001b[38;5;124;43m2\u001b[39;49m\u001b[38;5;124;43m\"\u001b[39;49m\u001b[43m)\u001b[49m)\n",
      "Cell \u001b[1;32mIn [250], line 3\u001b[0m, in \u001b[0;36mceil\u001b[1;34m(x)\u001b[0m\n\u001b[0;32m      1\u001b[0m \u001b[38;5;28;01mdef\u001b[39;00m \u001b[38;5;21mceil\u001b[39m(x):\n\u001b[0;32m      2\u001b[0m     \u001b[38;5;28;01mif\u001b[39;00m \u001b[38;5;28mtype\u001b[39m(x) \u001b[38;5;129;01mnot\u001b[39;00m \u001b[38;5;129;01min\u001b[39;00m [\u001b[38;5;28mint\u001b[39m, \u001b[38;5;28mfloat\u001b[39m, \u001b[38;5;28mbool\u001b[39m]:\n\u001b[1;32m----> 3\u001b[0m         \u001b[38;5;28;01mraise\u001b[39;00m \u001b[38;5;167;01mTypeError\u001b[39;00m(\u001b[38;5;124m\"\u001b[39m\u001b[38;5;124mmust be real number, not \u001b[39m\u001b[38;5;124m\"\u001b[39m \u001b[38;5;241m+\u001b[39m \u001b[38;5;28mtype\u001b[39m(x)\u001b[38;5;241m.\u001b[39m\u001b[38;5;18m__name__\u001b[39m)\n\u001b[0;32m      4\u001b[0m     \u001b[38;5;28;01mif\u001b[39;00m x \u001b[38;5;241m%\u001b[39m \u001b[38;5;241m1\u001b[39m \u001b[38;5;241m>\u001b[39m \u001b[38;5;241m0\u001b[39m:\n\u001b[0;32m      5\u001b[0m         x \u001b[38;5;241m+\u001b[39m\u001b[38;5;241m=\u001b[39m \u001b[38;5;241m1\u001b[39m\n",
      "\u001b[1;31mTypeError\u001b[0m: must be real number, not str"
     ]
    }
   ],
   "source": [
    "print(ceil(2))\n",
    "print(ceil(2.0))\n",
    "print(ceil(2.1))\n",
    "print(ceil(2.9))\n",
    "print(ceil(-2))\n",
    "print(ceil(-2.1))\n",
    "print(ceil(\"2\"))"
   ]
  },
  {
   "cell_type": "markdown",
   "id": "6c9e6edf",
   "metadata": {},
   "source": [
    "#### floor()\n",
    "\n",
    "The math.floor() method rounds a number DOWN to the nearest integer, if necessary, and returns the result."
   ]
  },
  {
   "cell_type": "raw",
   "id": "4447de27",
   "metadata": {},
   "source": [
    "math.floor(x)"
   ]
  },
  {
   "cell_type": "code",
   "execution_count": 252,
   "id": "398c19bd",
   "metadata": {},
   "outputs": [
    {
     "name": "stdout",
     "output_type": "stream",
     "text": [
      "2\n",
      "2\n",
      "2\n",
      "2\n",
      "-2\n",
      "-3\n"
     ]
    },
    {
     "ename": "TypeError",
     "evalue": "must be real number, not str",
     "output_type": "error",
     "traceback": [
      "\u001b[1;31m---------------------------------------------------------------------------\u001b[0m",
      "\u001b[1;31mTypeError\u001b[0m                                 Traceback (most recent call last)",
      "Cell \u001b[1;32mIn [252], line 7\u001b[0m\n\u001b[0;32m      5\u001b[0m \u001b[38;5;28mprint\u001b[39m(math\u001b[38;5;241m.\u001b[39mfloor(\u001b[38;5;241m-\u001b[39m\u001b[38;5;241m2\u001b[39m))\n\u001b[0;32m      6\u001b[0m \u001b[38;5;28mprint\u001b[39m(math\u001b[38;5;241m.\u001b[39mfloor(\u001b[38;5;241m-\u001b[39m\u001b[38;5;241m2.1\u001b[39m))\n\u001b[1;32m----> 7\u001b[0m \u001b[38;5;28mprint\u001b[39m(\u001b[43mmath\u001b[49m\u001b[38;5;241;43m.\u001b[39;49m\u001b[43mfloor\u001b[49m\u001b[43m(\u001b[49m\u001b[38;5;124;43m\"\u001b[39;49m\u001b[38;5;124;43m2\u001b[39;49m\u001b[38;5;124;43m\"\u001b[39;49m\u001b[43m)\u001b[49m)\n",
      "\u001b[1;31mTypeError\u001b[0m: must be real number, not str"
     ]
    }
   ],
   "source": [
    "print(math.floor(2))\n",
    "print(math.floor(2.0))\n",
    "print(math.floor(2.1))\n",
    "print(math.floor(2.9))\n",
    "print(math.floor(-2))\n",
    "print(math.floor(-2.1))\n",
    "print(math.floor(\"2\"))"
   ]
  },
  {
   "cell_type": "code",
   "execution_count": 253,
   "id": "5238de78",
   "metadata": {},
   "outputs": [],
   "source": [
    "def floor(x):\n",
    "    if type(x) not in [int, float, bool]:\n",
    "        raise TypeError(\"must be real number, not \" + type(x).__name__)\n",
    "    return int(x//1)"
   ]
  },
  {
   "cell_type": "code",
   "execution_count": 254,
   "id": "e40db30d",
   "metadata": {},
   "outputs": [
    {
     "name": "stdout",
     "output_type": "stream",
     "text": [
      "2\n",
      "2\n",
      "2\n",
      "2\n",
      "-2\n",
      "-3\n"
     ]
    },
    {
     "ename": "TypeError",
     "evalue": "must be real number, not str",
     "output_type": "error",
     "traceback": [
      "\u001b[1;31m---------------------------------------------------------------------------\u001b[0m",
      "\u001b[1;31mTypeError\u001b[0m                                 Traceback (most recent call last)",
      "Cell \u001b[1;32mIn [254], line 7\u001b[0m\n\u001b[0;32m      5\u001b[0m \u001b[38;5;28mprint\u001b[39m(floor(\u001b[38;5;241m-\u001b[39m\u001b[38;5;241m2\u001b[39m))\n\u001b[0;32m      6\u001b[0m \u001b[38;5;28mprint\u001b[39m(floor(\u001b[38;5;241m-\u001b[39m\u001b[38;5;241m2.1\u001b[39m))\n\u001b[1;32m----> 7\u001b[0m \u001b[38;5;28mprint\u001b[39m(\u001b[43mfloor\u001b[49m\u001b[43m(\u001b[49m\u001b[38;5;124;43m\"\u001b[39;49m\u001b[38;5;124;43m2\u001b[39;49m\u001b[38;5;124;43m\"\u001b[39;49m\u001b[43m)\u001b[49m)\n",
      "Cell \u001b[1;32mIn [253], line 3\u001b[0m, in \u001b[0;36mfloor\u001b[1;34m(x)\u001b[0m\n\u001b[0;32m      1\u001b[0m \u001b[38;5;28;01mdef\u001b[39;00m \u001b[38;5;21mfloor\u001b[39m(x):\n\u001b[0;32m      2\u001b[0m     \u001b[38;5;28;01mif\u001b[39;00m \u001b[38;5;28mtype\u001b[39m(x) \u001b[38;5;129;01mnot\u001b[39;00m \u001b[38;5;129;01min\u001b[39;00m [\u001b[38;5;28mint\u001b[39m, \u001b[38;5;28mfloat\u001b[39m, \u001b[38;5;28mbool\u001b[39m]:\n\u001b[1;32m----> 3\u001b[0m         \u001b[38;5;28;01mraise\u001b[39;00m \u001b[38;5;167;01mTypeError\u001b[39;00m(\u001b[38;5;124m\"\u001b[39m\u001b[38;5;124mmust be real number, not \u001b[39m\u001b[38;5;124m\"\u001b[39m \u001b[38;5;241m+\u001b[39m \u001b[38;5;28mtype\u001b[39m(x)\u001b[38;5;241m.\u001b[39m\u001b[38;5;18m__name__\u001b[39m)\n\u001b[0;32m      4\u001b[0m     \u001b[38;5;28;01mreturn\u001b[39;00m \u001b[38;5;28mint\u001b[39m(x\u001b[38;5;241m/\u001b[39m\u001b[38;5;241m/\u001b[39m\u001b[38;5;241m1\u001b[39m)\n",
      "\u001b[1;31mTypeError\u001b[0m: must be real number, not str"
     ]
    }
   ],
   "source": [
    "print(floor(2))\n",
    "print(floor(2.0))\n",
    "print(floor(2.1))\n",
    "print(floor(2.9))\n",
    "print(floor(-2))\n",
    "print(floor(-2.1))\n",
    "print(floor(\"2\"))"
   ]
  },
  {
   "cell_type": "markdown",
   "id": "610333a2",
   "metadata": {},
   "source": [
    "#### trunc()\n",
    "\n",
    "The math.trunc() method returns the truncated integer part of a number. This method will NOT round the number up/down to the nearest integer, but simply remove the decimals."
   ]
  },
  {
   "cell_type": "raw",
   "id": "b0c15037",
   "metadata": {},
   "source": [
    "math.trunc(x)"
   ]
  },
  {
   "cell_type": "code",
   "execution_count": 255,
   "id": "4968107e",
   "metadata": {},
   "outputs": [
    {
     "name": "stdout",
     "output_type": "stream",
     "text": [
      "2\n",
      "2\n",
      "2\n",
      "2\n",
      "-2\n",
      "-2\n"
     ]
    },
    {
     "ename": "TypeError",
     "evalue": "type str doesn't define __trunc__ method",
     "output_type": "error",
     "traceback": [
      "\u001b[1;31m---------------------------------------------------------------------------\u001b[0m",
      "\u001b[1;31mTypeError\u001b[0m                                 Traceback (most recent call last)",
      "Cell \u001b[1;32mIn [255], line 7\u001b[0m\n\u001b[0;32m      5\u001b[0m \u001b[38;5;28mprint\u001b[39m(math\u001b[38;5;241m.\u001b[39mtrunc(\u001b[38;5;241m-\u001b[39m\u001b[38;5;241m2\u001b[39m))\n\u001b[0;32m      6\u001b[0m \u001b[38;5;28mprint\u001b[39m(math\u001b[38;5;241m.\u001b[39mtrunc(\u001b[38;5;241m-\u001b[39m\u001b[38;5;241m2.1\u001b[39m))\n\u001b[1;32m----> 7\u001b[0m \u001b[38;5;28mprint\u001b[39m(\u001b[43mmath\u001b[49m\u001b[38;5;241;43m.\u001b[39;49m\u001b[43mtrunc\u001b[49m\u001b[43m(\u001b[49m\u001b[38;5;124;43m\"\u001b[39;49m\u001b[38;5;124;43m2\u001b[39;49m\u001b[38;5;124;43m\"\u001b[39;49m\u001b[43m)\u001b[49m)\n",
      "\u001b[1;31mTypeError\u001b[0m: type str doesn't define __trunc__ method"
     ]
    }
   ],
   "source": [
    "print(math.trunc(2))\n",
    "print(math.trunc(2.0))\n",
    "print(math.trunc(2.1))\n",
    "print(math.trunc(2.9))\n",
    "print(math.trunc(-2))\n",
    "print(math.trunc(-2.1))\n",
    "print(math.trunc(\"2\"))"
   ]
  },
  {
   "cell_type": "code",
   "execution_count": 256,
   "id": "d2b0d165",
   "metadata": {},
   "outputs": [],
   "source": [
    "def trunc(x):\n",
    "    if type(x) not in [int, float, bool]:\n",
    "        raise TypeError(\"type \" + type(x).__name__ + \" doesn't define __trunc__ method\")\n",
    "    return int(x)"
   ]
  },
  {
   "cell_type": "code",
   "execution_count": 257,
   "id": "ad30093f",
   "metadata": {},
   "outputs": [
    {
     "name": "stdout",
     "output_type": "stream",
     "text": [
      "2\n",
      "2\n",
      "2\n",
      "2\n",
      "-2\n",
      "-2\n"
     ]
    },
    {
     "ename": "TypeError",
     "evalue": "type str doesn't define __trunc__ method",
     "output_type": "error",
     "traceback": [
      "\u001b[1;31m---------------------------------------------------------------------------\u001b[0m",
      "\u001b[1;31mTypeError\u001b[0m                                 Traceback (most recent call last)",
      "Cell \u001b[1;32mIn [257], line 7\u001b[0m\n\u001b[0;32m      5\u001b[0m \u001b[38;5;28mprint\u001b[39m(trunc(\u001b[38;5;241m-\u001b[39m\u001b[38;5;241m2\u001b[39m))\n\u001b[0;32m      6\u001b[0m \u001b[38;5;28mprint\u001b[39m(trunc(\u001b[38;5;241m-\u001b[39m\u001b[38;5;241m2.1\u001b[39m))\n\u001b[1;32m----> 7\u001b[0m \u001b[38;5;28mprint\u001b[39m(\u001b[43mtrunc\u001b[49m\u001b[43m(\u001b[49m\u001b[38;5;124;43m\"\u001b[39;49m\u001b[38;5;124;43m2\u001b[39;49m\u001b[38;5;124;43m\"\u001b[39;49m\u001b[43m)\u001b[49m)\n",
      "Cell \u001b[1;32mIn [256], line 3\u001b[0m, in \u001b[0;36mtrunc\u001b[1;34m(x)\u001b[0m\n\u001b[0;32m      1\u001b[0m \u001b[38;5;28;01mdef\u001b[39;00m \u001b[38;5;21mtrunc\u001b[39m(x):\n\u001b[0;32m      2\u001b[0m     \u001b[38;5;28;01mif\u001b[39;00m \u001b[38;5;28mtype\u001b[39m(x) \u001b[38;5;129;01mnot\u001b[39;00m \u001b[38;5;129;01min\u001b[39;00m [\u001b[38;5;28mint\u001b[39m, \u001b[38;5;28mfloat\u001b[39m, \u001b[38;5;28mbool\u001b[39m]:\n\u001b[1;32m----> 3\u001b[0m         \u001b[38;5;28;01mraise\u001b[39;00m \u001b[38;5;167;01mTypeError\u001b[39;00m(\u001b[38;5;124m\"\u001b[39m\u001b[38;5;124mtype \u001b[39m\u001b[38;5;124m\"\u001b[39m \u001b[38;5;241m+\u001b[39m \u001b[38;5;28mtype\u001b[39m(x)\u001b[38;5;241m.\u001b[39m\u001b[38;5;18m__name__\u001b[39m \u001b[38;5;241m+\u001b[39m \u001b[38;5;124m\"\u001b[39m\u001b[38;5;124m doesn\u001b[39m\u001b[38;5;124m'\u001b[39m\u001b[38;5;124mt define __trunc__ method\u001b[39m\u001b[38;5;124m\"\u001b[39m)\n\u001b[0;32m      4\u001b[0m     \u001b[38;5;28;01mreturn\u001b[39;00m \u001b[38;5;28mint\u001b[39m(x)\n",
      "\u001b[1;31mTypeError\u001b[0m: type str doesn't define __trunc__ method"
     ]
    }
   ],
   "source": [
    "print(trunc(2))\n",
    "print(trunc(2.0))\n",
    "print(trunc(2.1))\n",
    "print(trunc(2.9))\n",
    "print(trunc(-2))\n",
    "print(trunc(-2.1))\n",
    "print(trunc(\"2\"))"
   ]
  },
  {
   "cell_type": "markdown",
   "id": "f9a1527d",
   "metadata": {},
   "source": [
    "#### fmod()\n",
    "\n",
    "The math.fmod() method returns the remainder (modulo) of x/y."
   ]
  },
  {
   "cell_type": "raw",
   "id": "a7c15e40",
   "metadata": {},
   "source": [
    "math.fmod(x, y)"
   ]
  },
  {
   "cell_type": "code",
   "execution_count": 7,
   "id": "0854779b",
   "metadata": {},
   "outputs": [
    {
     "name": "stdout",
     "output_type": "stream",
     "text": [
      "2.0\n",
      "2.0\n"
     ]
    }
   ],
   "source": [
    "print(float(22%4))\n",
    "print(float(18%4))"
   ]
  },
  {
   "cell_type": "code",
   "execution_count": 258,
   "id": "754b63f8",
   "metadata": {},
   "outputs": [
    {
     "name": "stdout",
     "output_type": "stream",
     "text": [
      "0.0\n",
      "2.0\n",
      "2.0\n",
      "-2.0\n",
      "-2.0\n"
     ]
    },
    {
     "ename": "ValueError",
     "evalue": "math domain error",
     "output_type": "error",
     "traceback": [
      "\u001b[1;31m---------------------------------------------------------------------------\u001b[0m",
      "\u001b[1;31mValueError\u001b[0m                                Traceback (most recent call last)",
      "Cell \u001b[1;32mIn [258], line 6\u001b[0m\n\u001b[0;32m      4\u001b[0m \u001b[38;5;28mprint\u001b[39m(math\u001b[38;5;241m.\u001b[39mfmod(\u001b[38;5;241m-\u001b[39m\u001b[38;5;241m20\u001b[39m, \u001b[38;5;241m3\u001b[39m))\n\u001b[0;32m      5\u001b[0m \u001b[38;5;28mprint\u001b[39m(math\u001b[38;5;241m.\u001b[39mfmod(\u001b[38;5;241m-\u001b[39m\u001b[38;5;241m20\u001b[39m, \u001b[38;5;241m-\u001b[39m\u001b[38;5;241m3\u001b[39m))\n\u001b[1;32m----> 6\u001b[0m \u001b[38;5;28mprint\u001b[39m(\u001b[43mmath\u001b[49m\u001b[38;5;241;43m.\u001b[39;49m\u001b[43mfmod\u001b[49m\u001b[43m(\u001b[49m\u001b[38;5;241;43m0\u001b[39;49m\u001b[43m,\u001b[49m\u001b[43m \u001b[49m\u001b[38;5;241;43m0\u001b[39;49m\u001b[43m)\u001b[49m)\n\u001b[0;32m      7\u001b[0m \u001b[38;5;28mprint\u001b[39m(math\u001b[38;5;241m.\u001b[39mfmod(\u001b[38;5;241m0\u001b[39m, \u001b[38;5;124m\"\u001b[39m\u001b[38;5;124ma\u001b[39m\u001b[38;5;124m\"\u001b[39m))\n",
      "\u001b[1;31mValueError\u001b[0m: math domain error"
     ]
    }
   ],
   "source": [
    "print(math.fmod(20, 4))\n",
    "print(math.fmod(20, 3))\n",
    "print(math.fmod(20, -3))\n",
    "print(math.fmod(-20, 3))\n",
    "print(math.fmod(-20, -3))\n",
    "print(math.fmod(0, 0))\n",
    "print(math.fmod(0, \"a\"))"
   ]
  },
  {
   "cell_type": "code",
   "execution_count": 259,
   "id": "0c5f4db4",
   "metadata": {},
   "outputs": [],
   "source": [
    "def fmod(x, y):\n",
    "    if type(x) not in [int, float, bool]:\n",
    "        raise TypeError(\"must be real number, not \" + type(x).__name__)\n",
    "    if type(y) not in [int, float, bool]:\n",
    "        raise TypeError(\"must be real number, not \" + type(y).__name__)\n",
    "    if y == 0:\n",
    "        raise ValueError(\"math domain error\")\n",
    "    if x < 0 and y > 0:\n",
    "        y *= -1\n",
    "    if x > 0 and y < 0:\n",
    "        y *= -1\n",
    "    return float(x%y)"
   ]
  },
  {
   "cell_type": "code",
   "execution_count": 260,
   "id": "a602e109",
   "metadata": {},
   "outputs": [
    {
     "name": "stdout",
     "output_type": "stream",
     "text": [
      "0.0\n",
      "2.0\n",
      "2.0\n",
      "-2.0\n",
      "-2.0\n"
     ]
    },
    {
     "ename": "ValueError",
     "evalue": "math domain error",
     "output_type": "error",
     "traceback": [
      "\u001b[1;31m---------------------------------------------------------------------------\u001b[0m",
      "\u001b[1;31mValueError\u001b[0m                                Traceback (most recent call last)",
      "Cell \u001b[1;32mIn [260], line 6\u001b[0m\n\u001b[0;32m      4\u001b[0m \u001b[38;5;28mprint\u001b[39m(fmod(\u001b[38;5;241m-\u001b[39m\u001b[38;5;241m20\u001b[39m, \u001b[38;5;241m3\u001b[39m))\n\u001b[0;32m      5\u001b[0m \u001b[38;5;28mprint\u001b[39m(fmod(\u001b[38;5;241m-\u001b[39m\u001b[38;5;241m20\u001b[39m, \u001b[38;5;241m-\u001b[39m\u001b[38;5;241m3\u001b[39m))\n\u001b[1;32m----> 6\u001b[0m \u001b[38;5;28mprint\u001b[39m(\u001b[43mfmod\u001b[49m\u001b[43m(\u001b[49m\u001b[38;5;241;43m0\u001b[39;49m\u001b[43m,\u001b[49m\u001b[43m \u001b[49m\u001b[38;5;241;43m0\u001b[39;49m\u001b[43m)\u001b[49m)\n\u001b[0;32m      7\u001b[0m \u001b[38;5;28mprint\u001b[39m(fmod(\u001b[38;5;241m0\u001b[39m, \u001b[38;5;124m\"\u001b[39m\u001b[38;5;124ma\u001b[39m\u001b[38;5;124m\"\u001b[39m))\n",
      "Cell \u001b[1;32mIn [259], line 7\u001b[0m, in \u001b[0;36mfmod\u001b[1;34m(x, y)\u001b[0m\n\u001b[0;32m      5\u001b[0m     \u001b[38;5;28;01mraise\u001b[39;00m \u001b[38;5;167;01mTypeError\u001b[39;00m(\u001b[38;5;124m\"\u001b[39m\u001b[38;5;124mmust be real number, not \u001b[39m\u001b[38;5;124m\"\u001b[39m \u001b[38;5;241m+\u001b[39m \u001b[38;5;28mtype\u001b[39m(y)\u001b[38;5;241m.\u001b[39m\u001b[38;5;18m__name__\u001b[39m)\n\u001b[0;32m      6\u001b[0m \u001b[38;5;28;01mif\u001b[39;00m y \u001b[38;5;241m==\u001b[39m \u001b[38;5;241m0\u001b[39m:\n\u001b[1;32m----> 7\u001b[0m     \u001b[38;5;28;01mraise\u001b[39;00m \u001b[38;5;167;01mValueError\u001b[39;00m(\u001b[38;5;124m\"\u001b[39m\u001b[38;5;124mmath domain error\u001b[39m\u001b[38;5;124m\"\u001b[39m)\n\u001b[0;32m      8\u001b[0m \u001b[38;5;28;01mif\u001b[39;00m x \u001b[38;5;241m<\u001b[39m \u001b[38;5;241m0\u001b[39m \u001b[38;5;129;01mand\u001b[39;00m y \u001b[38;5;241m>\u001b[39m \u001b[38;5;241m0\u001b[39m:\n\u001b[0;32m      9\u001b[0m     y \u001b[38;5;241m*\u001b[39m\u001b[38;5;241m=\u001b[39m \u001b[38;5;241m-\u001b[39m\u001b[38;5;241m1\u001b[39m\n",
      "\u001b[1;31mValueError\u001b[0m: math domain error"
     ]
    }
   ],
   "source": [
    "print(fmod(20, 4))\n",
    "print(fmod(20, 3))\n",
    "print(fmod(20, -3))\n",
    "print(fmod(-20, 3))\n",
    "print(fmod(-20, -3))\n",
    "print(fmod(0, 0))\n",
    "print(fmod(0, \"a\"))"
   ]
  },
  {
   "cell_type": "markdown",
   "id": "dea4fe52",
   "metadata": {},
   "source": [
    "#### frexp()\n",
    "\n",
    "The math.frexp() method returns the mantissa and the exponent of a specified number, as a pair (m,e). The mathematical formula for this method is:"
   ]
  },
  {
   "cell_type": "raw",
   "id": "283aeb77",
   "metadata": {},
   "source": [
    "number = m*2^e"
   ]
  },
  {
   "cell_type": "raw",
   "id": "ce730c6a",
   "metadata": {},
   "source": [
    "math.frexp(x)"
   ]
  },
  {
   "cell_type": "code",
   "execution_count": 9,
   "id": "15c4973b",
   "metadata": {},
   "outputs": [
    {
     "data": {
      "text/plain": [
       "-5.0"
      ]
     },
     "execution_count": 9,
     "metadata": {},
     "output_type": "execute_result"
    }
   ],
   "source": [
    "-0.625*2**3"
   ]
  },
  {
   "cell_type": "code",
   "execution_count": 261,
   "id": "d0b0c1b2",
   "metadata": {},
   "outputs": [
    {
     "name": "stdout",
     "output_type": "stream",
     "text": [
      "-5 (-0.625, 3)\n",
      "-4 (-0.5, 3)\n",
      "-3 (-0.75, 2)\n",
      "-2 (-0.5, 2)\n",
      "-1 (-0.5, 1)\n",
      "0 (0.0, 0)\n",
      "1 (0.5, 1)\n",
      "2 (0.5, 2)\n",
      "3 (0.75, 2)\n",
      "4 (0.5, 3)\n",
      "5 (0.625, 3)\n"
     ]
    }
   ],
   "source": [
    "for i in range(-5, 6):\n",
    "    print(i, math.frexp(i))"
   ]
  },
  {
   "cell_type": "code",
   "execution_count": 262,
   "id": "670a07c3",
   "metadata": {},
   "outputs": [
    {
     "ename": "TypeError",
     "evalue": "must be real number, not str",
     "output_type": "error",
     "traceback": [
      "\u001b[1;31m---------------------------------------------------------------------------\u001b[0m",
      "\u001b[1;31mTypeError\u001b[0m                                 Traceback (most recent call last)",
      "Cell \u001b[1;32mIn [262], line 1\u001b[0m\n\u001b[1;32m----> 1\u001b[0m \u001b[38;5;28mprint\u001b[39m(i, \u001b[43mmath\u001b[49m\u001b[38;5;241;43m.\u001b[39;49m\u001b[43mfrexp\u001b[49m\u001b[43m(\u001b[49m\u001b[38;5;124;43m\"\u001b[39;49m\u001b[38;5;124;43m1\u001b[39;49m\u001b[38;5;124;43m\"\u001b[39;49m\u001b[43m)\u001b[49m)\n",
      "\u001b[1;31mTypeError\u001b[0m: must be real number, not str"
     ]
    }
   ],
   "source": [
    "print(i, math.frexp(\"1\"))"
   ]
  },
  {
   "cell_type": "code",
   "execution_count": 263,
   "id": "92aad80d",
   "metadata": {},
   "outputs": [],
   "source": [
    "def frexp(x):\n",
    "    if type(x) not in [int, float, bool]:\n",
    "        raise TypeError(\"must be real number, not \" + type(x).__name__)\n",
    "    neg = 1\n",
    "    if x < 0:\n",
    "        neg = -1\n",
    "        x *= -1\n",
    "    e = 0\n",
    "    while x/2**e >= 1:\n",
    "        e+=1\n",
    "    return neg*x/2**e, e"
   ]
  },
  {
   "cell_type": "code",
   "execution_count": 264,
   "id": "951a00d3",
   "metadata": {},
   "outputs": [
    {
     "name": "stdout",
     "output_type": "stream",
     "text": [
      "-5 (-0.625, 3)\n",
      "-4 (-0.5, 3)\n",
      "-3 (-0.75, 2)\n",
      "-2 (-0.5, 2)\n",
      "-1 (-0.5, 1)\n",
      "0 (0.0, 0)\n",
      "1 (0.5, 1)\n",
      "2 (0.5, 2)\n",
      "3 (0.75, 2)\n",
      "4 (0.5, 3)\n",
      "5 (0.625, 3)\n"
     ]
    }
   ],
   "source": [
    "for i in range(-5, 6):\n",
    "    print(i, frexp(i))"
   ]
  },
  {
   "cell_type": "markdown",
   "id": "201df55a",
   "metadata": {},
   "source": [
    "#### nan\n",
    "\n",
    "The math.nan constant returns a not-a-number value that is of type float."
   ]
  },
  {
   "cell_type": "markdown",
   "id": "c0cf120a",
   "metadata": {},
   "source": [
    "math.nan"
   ]
  },
  {
   "cell_type": "code",
   "execution_count": 2,
   "id": "4065e37c",
   "metadata": {},
   "outputs": [
    {
     "name": "stdout",
     "output_type": "stream",
     "text": [
      "nan\n"
     ]
    },
    {
     "ename": "TypeError",
     "evalue": "unsupported operand type(s) for +: 'NoneType' and 'int'",
     "output_type": "error",
     "traceback": [
      "\u001b[1;31m---------------------------------------------------------------------------\u001b[0m",
      "\u001b[1;31mTypeError\u001b[0m                                 Traceback (most recent call last)",
      "Cell \u001b[1;32mIn [2], line 3\u001b[0m\n\u001b[0;32m      1\u001b[0m \u001b[38;5;28;01mimport\u001b[39;00m \u001b[38;5;21;01mmath\u001b[39;00m\n\u001b[0;32m      2\u001b[0m \u001b[38;5;28mprint\u001b[39m(math\u001b[38;5;241m.\u001b[39mnan\u001b[38;5;241m+\u001b[39m\u001b[38;5;241m1\u001b[39m)\n\u001b[1;32m----> 3\u001b[0m \u001b[38;5;28mprint\u001b[39m(\u001b[38;5;28;43;01mNone\u001b[39;49;00m\u001b[38;5;241;43m+\u001b[39;49m\u001b[38;5;241;43m1\u001b[39;49m)\n",
      "\u001b[1;31mTypeError\u001b[0m: unsupported operand type(s) for +: 'NoneType' and 'int'"
     ]
    }
   ],
   "source": [
    "import math\n",
    "print(math.nan+1)\n",
    "print(None+1)"
   ]
  },
  {
   "cell_type": "code",
   "execution_count": 265,
   "id": "8c145a31",
   "metadata": {},
   "outputs": [
    {
     "name": "stdout",
     "output_type": "stream",
     "text": [
      "nan\n",
      "<class 'float'>\n",
      "False\n"
     ]
    }
   ],
   "source": [
    "print(math.nan)\n",
    "print(type(math.nan))\n",
    "print(math.nan == math.nan)"
   ]
  },
  {
   "cell_type": "code",
   "execution_count": 266,
   "id": "d7ccc8db",
   "metadata": {},
   "outputs": [],
   "source": [
    "nan = float(\"nan\")"
   ]
  },
  {
   "cell_type": "code",
   "execution_count": 267,
   "id": "9d4ed216",
   "metadata": {},
   "outputs": [
    {
     "name": "stdout",
     "output_type": "stream",
     "text": [
      "nan\n",
      "<class 'float'>\n",
      "False\n"
     ]
    }
   ],
   "source": [
    "print(nan)\n",
    "print(type(nan))\n",
    "print(nan == nan)"
   ]
  },
  {
   "cell_type": "markdown",
   "id": "51cf72d0",
   "metadata": {},
   "source": [
    "#### isnan()\n",
    "\n",
    "The math.isnan() method checks whether a value is NaN (Not a Number), or not. This method returns True if the specified value is a NaN, otherwise it returns False."
   ]
  },
  {
   "cell_type": "raw",
   "id": "adbb3e34",
   "metadata": {},
   "source": [
    "math.isnan(x)"
   ]
  },
  {
   "cell_type": "code",
   "execution_count": 268,
   "id": "cb41466a",
   "metadata": {},
   "outputs": [
    {
     "name": "stdout",
     "output_type": "stream",
     "text": [
      "True\n"
     ]
    }
   ],
   "source": [
    "print(math.isnan(math.nan))"
   ]
  },
  {
   "cell_type": "code",
   "execution_count": 269,
   "id": "6f46225b",
   "metadata": {},
   "outputs": [],
   "source": [
    "def isnan(x):\n",
    "    if type(x) not in [int, float, bool]:\n",
    "        raise TypeError(\"must be real number, not \" + type(x).__name__)\n",
    "    if x == x:\n",
    "        return False\n",
    "    return True"
   ]
  },
  {
   "cell_type": "code",
   "execution_count": 270,
   "id": "76f8f171",
   "metadata": {},
   "outputs": [
    {
     "name": "stdout",
     "output_type": "stream",
     "text": [
      "True\n"
     ]
    }
   ],
   "source": [
    "print(isnan(nan))"
   ]
  },
  {
   "cell_type": "markdown",
   "id": "aefa987b",
   "metadata": {},
   "source": [
    "#### sqrt()\n",
    "\n",
    "The math.sqrt() method returns the square root of a number. The number must be greater than or equal to 0."
   ]
  },
  {
   "cell_type": "raw",
   "id": "b67c1731",
   "metadata": {},
   "source": [
    "math.sqrt(x)"
   ]
  },
  {
   "cell_type": "code",
   "execution_count": null,
   "id": "278f6055",
   "metadata": {},
   "outputs": [],
   "source": [
    "7**0.5"
   ]
  },
  {
   "cell_type": "code",
   "execution_count": 271,
   "id": "d7851758",
   "metadata": {},
   "outputs": [
    {
     "name": "stdout",
     "output_type": "stream",
     "text": [
      "1.4142135623730951\n",
      "1.5811388300841898\n"
     ]
    },
    {
     "ename": "ValueError",
     "evalue": "math domain error",
     "output_type": "error",
     "traceback": [
      "\u001b[1;31m---------------------------------------------------------------------------\u001b[0m",
      "\u001b[1;31mValueError\u001b[0m                                Traceback (most recent call last)",
      "Cell \u001b[1;32mIn [271], line 3\u001b[0m\n\u001b[0;32m      1\u001b[0m \u001b[38;5;28mprint\u001b[39m(math\u001b[38;5;241m.\u001b[39msqrt(\u001b[38;5;241m2\u001b[39m))\n\u001b[0;32m      2\u001b[0m \u001b[38;5;28mprint\u001b[39m(math\u001b[38;5;241m.\u001b[39msqrt(\u001b[38;5;241m2.5\u001b[39m))\n\u001b[1;32m----> 3\u001b[0m \u001b[38;5;28mprint\u001b[39m(\u001b[43mmath\u001b[49m\u001b[38;5;241;43m.\u001b[39;49m\u001b[43msqrt\u001b[49m\u001b[43m(\u001b[49m\u001b[38;5;241;43m-\u001b[39;49m\u001b[38;5;241;43m2\u001b[39;49m\u001b[43m)\u001b[49m)\n\u001b[0;32m      4\u001b[0m \u001b[38;5;28mprint\u001b[39m(math\u001b[38;5;241m.\u001b[39msqrt(\u001b[38;5;124m\"\u001b[39m\u001b[38;5;124m2\u001b[39m\u001b[38;5;124m\"\u001b[39m))\n",
      "\u001b[1;31mValueError\u001b[0m: math domain error"
     ]
    }
   ],
   "source": [
    "print(math.sqrt(2))\n",
    "print(math.sqrt(2.5))\n",
    "print(math.sqrt(-2))\n",
    "print(math.sqrt(\"2\"))"
   ]
  },
  {
   "cell_type": "code",
   "execution_count": 272,
   "id": "f512fc6a",
   "metadata": {},
   "outputs": [],
   "source": [
    "def sqrt(x):\n",
    "    if type(x) not in [int, float, bool]:\n",
    "        raise TypeError(\"must be real number, not \" + type(x).__name__)\n",
    "    if x < 0:\n",
    "        raise ValueError(\"math domai error\")\n",
    "    return x**0.5"
   ]
  },
  {
   "cell_type": "code",
   "execution_count": 273,
   "id": "4b57a5db",
   "metadata": {},
   "outputs": [
    {
     "name": "stdout",
     "output_type": "stream",
     "text": [
      "1.4142135623730951\n",
      "1.5811388300841898\n"
     ]
    },
    {
     "ename": "ValueError",
     "evalue": "math domai error",
     "output_type": "error",
     "traceback": [
      "\u001b[1;31m---------------------------------------------------------------------------\u001b[0m",
      "\u001b[1;31mValueError\u001b[0m                                Traceback (most recent call last)",
      "Cell \u001b[1;32mIn [273], line 3\u001b[0m\n\u001b[0;32m      1\u001b[0m \u001b[38;5;28mprint\u001b[39m(sqrt(\u001b[38;5;241m2\u001b[39m))\n\u001b[0;32m      2\u001b[0m \u001b[38;5;28mprint\u001b[39m(sqrt(\u001b[38;5;241m2.5\u001b[39m))\n\u001b[1;32m----> 3\u001b[0m \u001b[38;5;28mprint\u001b[39m(\u001b[43msqrt\u001b[49m\u001b[43m(\u001b[49m\u001b[38;5;241;43m-\u001b[39;49m\u001b[38;5;241;43m2\u001b[39;49m\u001b[43m)\u001b[49m)\n\u001b[0;32m      4\u001b[0m \u001b[38;5;28mprint\u001b[39m(sqrt(\u001b[38;5;124m\"\u001b[39m\u001b[38;5;124m2\u001b[39m\u001b[38;5;124m\"\u001b[39m))\n",
      "Cell \u001b[1;32mIn [272], line 5\u001b[0m, in \u001b[0;36msqrt\u001b[1;34m(x)\u001b[0m\n\u001b[0;32m      3\u001b[0m     \u001b[38;5;28;01mraise\u001b[39;00m \u001b[38;5;167;01mTypeError\u001b[39;00m(\u001b[38;5;124m\"\u001b[39m\u001b[38;5;124mmust be real number, not \u001b[39m\u001b[38;5;124m\"\u001b[39m \u001b[38;5;241m+\u001b[39m \u001b[38;5;28mtype\u001b[39m(x)\u001b[38;5;241m.\u001b[39m\u001b[38;5;18m__name__\u001b[39m)\n\u001b[0;32m      4\u001b[0m \u001b[38;5;28;01mif\u001b[39;00m x \u001b[38;5;241m<\u001b[39m \u001b[38;5;241m0\u001b[39m:\n\u001b[1;32m----> 5\u001b[0m     \u001b[38;5;28;01mraise\u001b[39;00m \u001b[38;5;167;01mValueError\u001b[39;00m(\u001b[38;5;124m\"\u001b[39m\u001b[38;5;124mmath domai error\u001b[39m\u001b[38;5;124m\"\u001b[39m)\n\u001b[0;32m      6\u001b[0m \u001b[38;5;28;01mreturn\u001b[39;00m x\u001b[38;5;241m*\u001b[39m\u001b[38;5;241m*\u001b[39m\u001b[38;5;241m0.5\u001b[39m\n",
      "\u001b[1;31mValueError\u001b[0m: math domai error"
     ]
    }
   ],
   "source": [
    "print(sqrt(2))\n",
    "print(sqrt(2.5))\n",
    "print(sqrt(-2))\n",
    "print(sqrt(\"2\"))"
   ]
  },
  {
   "cell_type": "markdown",
   "id": "fae0ca1a",
   "metadata": {},
   "source": [
    "#### isqrt()\n",
    "\n",
    "The math.isqrt() method rounds a square root number downwards to the nearest integer. The number must be greater than or equal to 0."
   ]
  },
  {
   "cell_type": "raw",
   "id": "12308f84",
   "metadata": {},
   "source": [
    "math.isqrt(x)"
   ]
  },
  {
   "cell_type": "code",
   "execution_count": 12,
   "id": "175d8b0e",
   "metadata": {},
   "outputs": [
    {
     "name": "stdout",
     "output_type": "stream",
     "text": [
      "1\n",
      "1.5811388300841898\n"
     ]
    },
    {
     "ename": "ValueError",
     "evalue": "isqrt() argument must be nonnegative",
     "output_type": "error",
     "traceback": [
      "\u001b[1;31m---------------------------------------------------------------------------\u001b[0m",
      "\u001b[1;31mValueError\u001b[0m                                Traceback (most recent call last)",
      "Cell \u001b[1;32mIn [12], line 3\u001b[0m\n\u001b[0;32m      1\u001b[0m \u001b[38;5;28mprint\u001b[39m(math\u001b[38;5;241m.\u001b[39misqrt(\u001b[38;5;241m2\u001b[39m))\n\u001b[0;32m      2\u001b[0m \u001b[38;5;28mprint\u001b[39m(math\u001b[38;5;241m.\u001b[39msqrt(\u001b[38;5;241m2.5\u001b[39m))\n\u001b[1;32m----> 3\u001b[0m \u001b[38;5;28mprint\u001b[39m(\u001b[43mmath\u001b[49m\u001b[38;5;241;43m.\u001b[39;49m\u001b[43misqrt\u001b[49m\u001b[43m(\u001b[49m\u001b[38;5;241;43m-\u001b[39;49m\u001b[38;5;241;43m2\u001b[39;49m\u001b[43m)\u001b[49m)\n\u001b[0;32m      4\u001b[0m \u001b[38;5;28mprint\u001b[39m(math\u001b[38;5;241m.\u001b[39misqrt(\u001b[38;5;124m\"\u001b[39m\u001b[38;5;124m2\u001b[39m\u001b[38;5;124m\"\u001b[39m))\n",
      "\u001b[1;31mValueError\u001b[0m: isqrt() argument must be nonnegative"
     ]
    }
   ],
   "source": [
    "print(math.isqrt(2))\n",
    "print(math.isqrt(2.5))\n",
    "print(math.isqrt(-2))\n",
    "print(math.isqrt(\"2\"))"
   ]
  },
  {
   "cell_type": "code",
   "execution_count": 275,
   "id": "9c0f1c65",
   "metadata": {},
   "outputs": [],
   "source": [
    "def isqrt(x):\n",
    "    if type(x) not in [int, bool]:\n",
    "        raise TypeError(f\"'{type(x).__name__}' object cannot be interpreted as an integer\")\n",
    "    if x < 0:\n",
    "        raise ValueError(\"isqrt() argument must be nonnegative\")\n",
    "    return int(x**0.5)"
   ]
  },
  {
   "cell_type": "code",
   "execution_count": 276,
   "id": "84bf8f62",
   "metadata": {},
   "outputs": [
    {
     "name": "stdout",
     "output_type": "stream",
     "text": [
      "1\n"
     ]
    },
    {
     "ename": "TypeError",
     "evalue": "'float' object cannot be interpreted as an integer",
     "output_type": "error",
     "traceback": [
      "\u001b[1;31m---------------------------------------------------------------------------\u001b[0m",
      "\u001b[1;31mTypeError\u001b[0m                                 Traceback (most recent call last)",
      "Cell \u001b[1;32mIn [276], line 2\u001b[0m\n\u001b[0;32m      1\u001b[0m \u001b[38;5;28mprint\u001b[39m(isqrt(\u001b[38;5;241m2\u001b[39m))\n\u001b[1;32m----> 2\u001b[0m \u001b[38;5;28mprint\u001b[39m(\u001b[43misqrt\u001b[49m\u001b[43m(\u001b[49m\u001b[38;5;241;43m2.5\u001b[39;49m\u001b[43m)\u001b[49m)\n\u001b[0;32m      3\u001b[0m \u001b[38;5;28mprint\u001b[39m(isqrt(\u001b[38;5;241m-\u001b[39m\u001b[38;5;241m2\u001b[39m))\n\u001b[0;32m      4\u001b[0m \u001b[38;5;28mprint\u001b[39m(isqrt(\u001b[38;5;124m\"\u001b[39m\u001b[38;5;124m2\u001b[39m\u001b[38;5;124m\"\u001b[39m))\n",
      "Cell \u001b[1;32mIn [275], line 3\u001b[0m, in \u001b[0;36misqrt\u001b[1;34m(x)\u001b[0m\n\u001b[0;32m      1\u001b[0m \u001b[38;5;28;01mdef\u001b[39;00m \u001b[38;5;21misqrt\u001b[39m(x):\n\u001b[0;32m      2\u001b[0m     \u001b[38;5;28;01mif\u001b[39;00m \u001b[38;5;28mtype\u001b[39m(x) \u001b[38;5;129;01mnot\u001b[39;00m \u001b[38;5;129;01min\u001b[39;00m [\u001b[38;5;28mint\u001b[39m, \u001b[38;5;28mbool\u001b[39m]:\n\u001b[1;32m----> 3\u001b[0m         \u001b[38;5;28;01mraise\u001b[39;00m \u001b[38;5;167;01mTypeError\u001b[39;00m(\u001b[38;5;124mf\u001b[39m\u001b[38;5;124m\"\u001b[39m\u001b[38;5;124m'\u001b[39m\u001b[38;5;132;01m{\u001b[39;00m\u001b[38;5;28mtype\u001b[39m(x)\u001b[38;5;241m.\u001b[39m\u001b[38;5;18m__name__\u001b[39m\u001b[38;5;132;01m}\u001b[39;00m\u001b[38;5;124m'\u001b[39m\u001b[38;5;124m object cannot be interpreted as an integer\u001b[39m\u001b[38;5;124m\"\u001b[39m)\n\u001b[0;32m      4\u001b[0m     \u001b[38;5;28;01mif\u001b[39;00m x \u001b[38;5;241m<\u001b[39m \u001b[38;5;241m0\u001b[39m:\n\u001b[0;32m      5\u001b[0m         \u001b[38;5;28;01mraise\u001b[39;00m \u001b[38;5;167;01mValueError\u001b[39;00m(\u001b[38;5;124m\"\u001b[39m\u001b[38;5;124misqrt() argument must be nonnegative\u001b[39m\u001b[38;5;124m\"\u001b[39m)\n",
      "\u001b[1;31mTypeError\u001b[0m: 'float' object cannot be interpreted as an integer"
     ]
    }
   ],
   "source": [
    "print(isqrt(2))\n",
    "print(isqrt(2.5))\n",
    "print(isqrt(-2))\n",
    "print(isqrt(\"2\"))"
   ]
  },
  {
   "cell_type": "markdown",
   "id": "7800bcca",
   "metadata": {},
   "source": [
    "#### pow()\n",
    "\n",
    "The math.pow() method returns the value of x raised to power y. If x is negative and y is not an integer, it returns a ValueError. This method converts both arguments into a float."
   ]
  },
  {
   "cell_type": "raw",
   "id": "d4905ddd",
   "metadata": {},
   "source": [
    "math.pow(x, y)"
   ]
  },
  {
   "cell_type": "code",
   "execution_count": 277,
   "id": "80285b70",
   "metadata": {},
   "outputs": [
    {
     "name": "stdout",
     "output_type": "stream",
     "text": [
      "8.0\n",
      "0.125\n",
      "-8.0\n",
      "-0.125\n"
     ]
    },
    {
     "ename": "ValueError",
     "evalue": "math domain error",
     "output_type": "error",
     "traceback": [
      "\u001b[1;31m---------------------------------------------------------------------------\u001b[0m",
      "\u001b[1;31mValueError\u001b[0m                                Traceback (most recent call last)",
      "Cell \u001b[1;32mIn [277], line 5\u001b[0m\n\u001b[0;32m      3\u001b[0m \u001b[38;5;28mprint\u001b[39m(math\u001b[38;5;241m.\u001b[39mpow(\u001b[38;5;241m-\u001b[39m\u001b[38;5;241m2\u001b[39m, \u001b[38;5;241m3\u001b[39m))\n\u001b[0;32m      4\u001b[0m \u001b[38;5;28mprint\u001b[39m(math\u001b[38;5;241m.\u001b[39mpow(\u001b[38;5;241m-\u001b[39m\u001b[38;5;241m2\u001b[39m, \u001b[38;5;241m-\u001b[39m\u001b[38;5;241m3\u001b[39m))\n\u001b[1;32m----> 5\u001b[0m \u001b[38;5;28mprint\u001b[39m(\u001b[43mmath\u001b[49m\u001b[38;5;241;43m.\u001b[39;49m\u001b[43mpow\u001b[49m\u001b[43m(\u001b[49m\u001b[38;5;241;43m-\u001b[39;49m\u001b[38;5;241;43m2\u001b[39;49m\u001b[43m,\u001b[49m\u001b[43m \u001b[49m\u001b[38;5;241;43m3.1\u001b[39;49m\u001b[43m)\u001b[49m)\n\u001b[0;32m      6\u001b[0m \u001b[38;5;28mprint\u001b[39m(math\u001b[38;5;241m.\u001b[39mpow(\u001b[38;5;241m2\u001b[39m, \u001b[38;5;124m\"\u001b[39m\u001b[38;5;124m3\u001b[39m\u001b[38;5;124m\"\u001b[39m))\n",
      "\u001b[1;31mValueError\u001b[0m: math domain error"
     ]
    }
   ],
   "source": [
    "print(math.pow(2, 3))\n",
    "print(math.pow(2, -3))\n",
    "print(math.pow(-2, 3))\n",
    "print(math.pow(-2, -3))\n",
    "print(math.pow(-2, 3.1))\n",
    "print(math.pow(2, \"3\"))"
   ]
  },
  {
   "cell_type": "code",
   "execution_count": 278,
   "id": "8e2d81f1",
   "metadata": {},
   "outputs": [],
   "source": [
    "def power(x, y):\n",
    "    if type(x) not in [int, float, bool]:\n",
    "        raise TypeError(\"must be real number, not \" + type(x).__name__)\n",
    "    if type(y) not in [int, float, bool]:\n",
    "        raise TypeError(\"must be real number, not \" + type(y).__name__)\n",
    "    if x < 0 and y % 1 != 0:\n",
    "        raise ValueError(\"math domain error\")\n",
    "    return float(x**y)"
   ]
  },
  {
   "cell_type": "code",
   "execution_count": 279,
   "id": "4c415ddf",
   "metadata": {},
   "outputs": [
    {
     "name": "stdout",
     "output_type": "stream",
     "text": [
      "8.0\n",
      "0.125\n",
      "-8.0\n",
      "-0.125\n"
     ]
    },
    {
     "ename": "ValueError",
     "evalue": "math domain error",
     "output_type": "error",
     "traceback": [
      "\u001b[1;31m---------------------------------------------------------------------------\u001b[0m",
      "\u001b[1;31mValueError\u001b[0m                                Traceback (most recent call last)",
      "Cell \u001b[1;32mIn [279], line 5\u001b[0m\n\u001b[0;32m      3\u001b[0m \u001b[38;5;28mprint\u001b[39m(power(\u001b[38;5;241m-\u001b[39m\u001b[38;5;241m2\u001b[39m, \u001b[38;5;241m3\u001b[39m))\n\u001b[0;32m      4\u001b[0m \u001b[38;5;28mprint\u001b[39m(power(\u001b[38;5;241m-\u001b[39m\u001b[38;5;241m2\u001b[39m, \u001b[38;5;241m-\u001b[39m\u001b[38;5;241m3\u001b[39m))\n\u001b[1;32m----> 5\u001b[0m \u001b[38;5;28mprint\u001b[39m(\u001b[43mpower\u001b[49m\u001b[43m(\u001b[49m\u001b[38;5;241;43m-\u001b[39;49m\u001b[38;5;241;43m2\u001b[39;49m\u001b[43m,\u001b[49m\u001b[43m \u001b[49m\u001b[38;5;241;43m3.1\u001b[39;49m\u001b[43m)\u001b[49m)\n\u001b[0;32m      6\u001b[0m \u001b[38;5;28mprint\u001b[39m(power(\u001b[38;5;241m2\u001b[39m, \u001b[38;5;124m\"\u001b[39m\u001b[38;5;124m3\u001b[39m\u001b[38;5;124m\"\u001b[39m))\n",
      "Cell \u001b[1;32mIn [278], line 7\u001b[0m, in \u001b[0;36mpower\u001b[1;34m(x, y)\u001b[0m\n\u001b[0;32m      5\u001b[0m     \u001b[38;5;28;01mraise\u001b[39;00m \u001b[38;5;167;01mTypeError\u001b[39;00m(\u001b[38;5;124m\"\u001b[39m\u001b[38;5;124mmust be real number, not \u001b[39m\u001b[38;5;124m\"\u001b[39m \u001b[38;5;241m+\u001b[39m \u001b[38;5;28mtype\u001b[39m(y)\u001b[38;5;241m.\u001b[39m\u001b[38;5;18m__name__\u001b[39m)\n\u001b[0;32m      6\u001b[0m \u001b[38;5;28;01mif\u001b[39;00m x \u001b[38;5;241m<\u001b[39m \u001b[38;5;241m0\u001b[39m \u001b[38;5;129;01mand\u001b[39;00m y \u001b[38;5;241m%\u001b[39m \u001b[38;5;241m1\u001b[39m \u001b[38;5;241m!=\u001b[39m \u001b[38;5;241m0\u001b[39m:\n\u001b[1;32m----> 7\u001b[0m     \u001b[38;5;28;01mraise\u001b[39;00m \u001b[38;5;167;01mValueError\u001b[39;00m(\u001b[38;5;124m\"\u001b[39m\u001b[38;5;124mmath domain error\u001b[39m\u001b[38;5;124m\"\u001b[39m)\n\u001b[0;32m      8\u001b[0m \u001b[38;5;28;01mreturn\u001b[39;00m \u001b[38;5;28mfloat\u001b[39m(x\u001b[38;5;241m*\u001b[39m\u001b[38;5;241m*\u001b[39my)\n",
      "\u001b[1;31mValueError\u001b[0m: math domain error"
     ]
    }
   ],
   "source": [
    "print(power(2, 3))\n",
    "print(power(2, -3))\n",
    "print(power(-2, 3))\n",
    "print(power(-2, -3))\n",
    "print(power(-2, 3.1))\n",
    "print(power(2, \"3\"))"
   ]
  },
  {
   "cell_type": "markdown",
   "id": "faffe3ba",
   "metadata": {},
   "source": [
    "#### pi\n",
    "\n",
    "The math.pi is a constant value 3.141592653589793, which represents the ratio of circumference to the diameter of any circle."
   ]
  },
  {
   "cell_type": "raw",
   "id": "3d0a0849",
   "metadata": {},
   "source": [
    "math.pi"
   ]
  },
  {
   "cell_type": "code",
   "execution_count": 280,
   "id": "7c039388",
   "metadata": {},
   "outputs": [
    {
     "name": "stdout",
     "output_type": "stream",
     "text": [
      "3.141592653589793\n"
     ]
    }
   ],
   "source": [
    "print(math.pi)"
   ]
  },
  {
   "cell_type": "code",
   "execution_count": 281,
   "id": "03fdb449",
   "metadata": {},
   "outputs": [],
   "source": [
    "pi = 3.141592653589793"
   ]
  },
  {
   "cell_type": "code",
   "execution_count": 282,
   "id": "49ed18b6",
   "metadata": {},
   "outputs": [
    {
     "name": "stdout",
     "output_type": "stream",
     "text": [
      "3.141592653589793\n"
     ]
    }
   ],
   "source": [
    "print(pi)"
   ]
  },
  {
   "cell_type": "markdown",
   "id": "6691ccbd",
   "metadata": {},
   "source": [
    "# Datetime\n",
    "\n",
    "A datetime in Python is not a data type of its own, but we can import a module named datetime to work with dates and time as datetime objects."
   ]
  },
  {
   "cell_type": "code",
   "execution_count": 1,
   "id": "716d5acc",
   "metadata": {},
   "outputs": [],
   "source": [
    "import datetime"
   ]
  },
  {
   "cell_type": "markdown",
   "id": "7388ed92",
   "metadata": {},
   "source": [
    "We can use datetime.datetime.now() to get the current date and time. It contains year, month, day, hour, minute, second, and microsecond, which follows the format shown below:"
   ]
  },
  {
   "cell_type": "raw",
   "id": "2727ee37",
   "metadata": {},
   "source": [
    "yyyy-mm-dd hh:mm:ss.micros"
   ]
  },
  {
   "cell_type": "code",
   "execution_count": 2,
   "id": "ecea93aa",
   "metadata": {},
   "outputs": [
    {
     "name": "stdout",
     "output_type": "stream",
     "text": [
      "2024-01-26 09:12:30.672050\n"
     ]
    }
   ],
   "source": [
    "import datetime\n",
    "print(datetime.datetime.now())"
   ]
  },
  {
   "cell_type": "code",
   "execution_count": 5,
   "id": "8d817565",
   "metadata": {},
   "outputs": [
    {
     "ename": "TypeError",
     "evalue": "function missing required argument 'day' (pos 3)",
     "output_type": "error",
     "traceback": [
      "\u001b[1;31m---------------------------------------------------------------------------\u001b[0m",
      "\u001b[1;31mTypeError\u001b[0m                                 Traceback (most recent call last)",
      "Cell \u001b[1;32mIn [5], line 1\u001b[0m\n\u001b[1;32m----> 1\u001b[0m \u001b[38;5;28mprint\u001b[39m(\u001b[43mdatetime\u001b[49m\u001b[38;5;241;43m.\u001b[39;49m\u001b[43mdatetime\u001b[49m\u001b[43m(\u001b[49m\u001b[38;5;241;43m2024\u001b[39;49m\u001b[43m,\u001b[49m\u001b[43m \u001b[49m\u001b[38;5;241;43m1\u001b[39;49m\u001b[43m)\u001b[49m)\n\u001b[0;32m      2\u001b[0m \u001b[38;5;28mprint\u001b[39m(datetime\u001b[38;5;241m.\u001b[39mtime(\u001b[38;5;241m9\u001b[39m, \u001b[38;5;241m30\u001b[39m, \u001b[38;5;241m30\u001b[39m))\n",
      "\u001b[1;31mTypeError\u001b[0m: function missing required argument 'day' (pos 3)"
     ]
    }
   ],
   "source": [
    "print(datetime.datetime(2024, 1, 31))\n",
    "print(datetime.time(9, 30, 30))"
   ]
  },
  {
   "cell_type": "code",
   "execution_count": 4,
   "id": "b6745062",
   "metadata": {},
   "outputs": [
    {
     "name": "stdout",
     "output_type": "stream",
     "text": [
      "<class 'datetime.datetime'>\n"
     ]
    }
   ],
   "source": [
    "print(type(datetime.datetime.now()))"
   ]
  },
  {
   "cell_type": "code",
   "execution_count": 13,
   "id": "48866b89",
   "metadata": {},
   "outputs": [
    {
     "name": "stdout",
     "output_type": "stream",
     "text": [
      "6593 days, 9:24:20.811326\n",
      "<class 'datetime.timedelta'>\n"
     ]
    }
   ],
   "source": [
    "x = datetime.datetime.now()\n",
    "y = datetime.datetime(2006, 1, 7)\n",
    "\n",
    "print(x - y)\n",
    "print(type(x - y))"
   ]
  },
  {
   "cell_type": "code",
   "execution_count": 21,
   "id": "a8a28203",
   "metadata": {},
   "outputs": [
    {
     "name": "stdout",
     "output_type": "stream",
     "text": [
      "18 days, 1:32:17.152908\n"
     ]
    }
   ],
   "source": [
    "z = x - y\n",
    "print(z/365)"
   ]
  },
  {
   "cell_type": "markdown",
   "id": "98419308",
   "metadata": {},
   "source": [
    "This shows almost all the information except for the day of the week. For that we have weekday() method, which shows\tweekday as a number 0-6, where 0 is Sunday."
   ]
  },
  {
   "cell_type": "code",
   "execution_count": 22,
   "id": "036be316",
   "metadata": {},
   "outputs": [
    {
     "name": "stdout",
     "output_type": "stream",
     "text": [
      "4\n"
     ]
    }
   ],
   "source": [
    "print(datetime.datetime.weekday(datetime.datetime.now()))"
   ]
  },
  {
   "cell_type": "markdown",
   "id": "6b91b085",
   "metadata": {},
   "source": [
    "To extract information from datetime object one way is to use strftime() method, which means string format time. It returns parts of date and time as string, in which ever format you want. The syntax is as follows:"
   ]
  },
  {
   "cell_type": "raw",
   "id": "790e20b6",
   "metadata": {},
   "source": [
    "datetime.datetime.strftime(datetime_object, \"%x\")"
   ]
  },
  {
   "cell_type": "markdown",
   "id": "14eb99ce",
   "metadata": {},
   "source": [
    "Like puting the current time and %Y as parameters we get the current year."
   ]
  },
  {
   "cell_type": "code",
   "execution_count": 297,
   "id": "fce31a18",
   "metadata": {},
   "outputs": [
    {
     "name": "stdout",
     "output_type": "stream",
     "text": [
      "2023\n"
     ]
    }
   ],
   "source": [
    "print(datetime.datetime.strftime(datetime.datetime.now(), \"%Y\"))"
   ]
  },
  {
   "cell_type": "code",
   "execution_count": 24,
   "id": "5aa1a377",
   "metadata": {},
   "outputs": [
    {
     "data": {
      "text/plain": [
       "'26-01-2024 09:38:12'"
      ]
     },
     "execution_count": 24,
     "metadata": {},
     "output_type": "execute_result"
    }
   ],
   "source": [
    "datetime.datetime.strftime(datetime.datetime.now(), \"%d-%m-%Y %H:%M:%S\")"
   ]
  },
  {
   "cell_type": "markdown",
   "id": "9f0729a1",
   "metadata": {},
   "source": [
    "To extract more information about date and time, refer to the following table:"
   ]
  },
  {
   "cell_type": "code",
   "execution_count": null,
   "id": "9de36bcc",
   "metadata": {},
   "outputs": [],
   "source": [
    "datetime.datetime.strftime(datetime_object, \"%x\")\n",
    "31 January, 2024 (Wednessday)"
   ]
  },
  {
   "cell_type": "markdown",
   "id": "bae15c54",
   "metadata": {},
   "source": [
    "|Directive |Description |Example |\n",
    "| :-: | :- | :-: |\n",
    "|%a |Weekday, short version |Wed |\n",
    "|%A |Weekday, full version |Wedesday |\n",
    "|%w |Weekday as a number 0-6, 0 is Sunday |3 |\t\n",
    "|%d |Day of month 01-31 |31 |\n",
    "|%b |Month name, short version |Dec |\t\n",
    "|%B |Month name, full version |Decmber |\n",
    "|%m |Month as a number 01-12 |12 |\n",
    "|%y |Year, short version, withot century |18 |\t\n",
    "|%Y |Year, full version |2018 |\n",
    "|%H |Hour 00-23 |17 |\n",
    "|%I |Hour 00-12 |05 |\t\n",
    "|%p |AM/PM |PM |\n",
    "|%M |Minute 00-59 |41 |\t\n",
    "|%S |Second 00-59 |08 |\t\n",
    "|%f |Microsecond 000000-999999 |548513 |\t\n",
    "|%z |UTC offset |+0100 |\n",
    "|%Z |Timezone |CST |\n",
    "|%j |Day number of year 001-366 |365 |\n",
    "|%U |Week number of year, Sunday as the first day of week, 00-53 |52 |\t\n",
    "|%W |Week number of year, Monday as the first day of week, 00-53 |52 |\n",
    "|%c |Local version of date and time\t|Mon Dec 31 17:41:00 2018 |\n",
    "|%C |Century |20 |\n",
    "|%x |Local version of date |12/31/18 |\t\n",
    "|%X |Local version of time |17:41:00 |\t\n",
    "|%% |A % character |% |\n",
    "|%G |ISO 8601 year |2018 |\t\n",
    "|%u |ISO 8601 weekday (1-7) |1 |\n",
    "|%V |ISO 8601 weeknumber (01-53) |01 |\t"
   ]
  },
  {
   "cell_type": "markdown",
   "id": "7474c4e8",
   "metadata": {},
   "source": [
    "# Random"
   ]
  },
  {
   "cell_type": "markdown",
   "id": "9ccac244",
   "metadata": {},
   "source": [
    "Python has a built-in module that you can use to make random numbers."
   ]
  },
  {
   "cell_type": "code",
   "execution_count": 4,
   "id": "e22567f4",
   "metadata": {},
   "outputs": [],
   "source": [
    "import random"
   ]
  },
  {
   "cell_type": "markdown",
   "id": "7f47131c",
   "metadata": {},
   "source": [
    "#### randrange()\n",
    "\n",
    "The randrange() method returns a randomly selected element from the specified range. Its syntax is similar to range() function."
   ]
  },
  {
   "cell_type": "raw",
   "id": "7ffe1107",
   "metadata": {},
   "source": [
    "random.randrange(start, stop, step)"
   ]
  },
  {
   "cell_type": "code",
   "execution_count": 6,
   "id": "add1463e",
   "metadata": {},
   "outputs": [
    {
     "name": "stdout",
     "output_type": "stream",
     "text": [
      "3\n"
     ]
    }
   ],
   "source": [
    "print(random.randrange(0, 10))"
   ]
  },
  {
   "cell_type": "code",
   "execution_count": 340,
   "id": "8962b452",
   "metadata": {},
   "outputs": [
    {
     "name": "stdout",
     "output_type": "stream",
     "text": [
      "8\n"
     ]
    }
   ],
   "source": [
    "print(random.randrange(0, 10, 2))"
   ]
  },
  {
   "cell_type": "markdown",
   "id": "3e3b42a8",
   "metadata": {},
   "source": [
    "#### randint()\n",
    "\n",
    "The randint() method returns an integer number selected element from the specified range. This method is an alias for randrange(start, stop+1)."
   ]
  },
  {
   "cell_type": "raw",
   "id": "efc5e68e",
   "metadata": {},
   "source": [
    "random.randint(start, stop)"
   ]
  },
  {
   "cell_type": "code",
   "execution_count": 28,
   "id": "288904cc",
   "metadata": {},
   "outputs": [
    {
     "name": "stdout",
     "output_type": "stream",
     "text": [
      "0\n",
      "0\n"
     ]
    }
   ],
   "source": [
    "print(random.randint(0, 1))\n",
    "print(random.randrange(0, 1))"
   ]
  },
  {
   "cell_type": "markdown",
   "id": "b034e63c",
   "metadata": {},
   "source": [
    "#### random()\n",
    "\n",
    "The random() method returns a random floating number between 0 and 1."
   ]
  },
  {
   "cell_type": "raw",
   "id": "d201eec8",
   "metadata": {},
   "source": [
    "random.random()"
   ]
  },
  {
   "cell_type": "code",
   "execution_count": 31,
   "id": "fa52a852",
   "metadata": {},
   "outputs": [
    {
     "name": "stdout",
     "output_type": "stream",
     "text": [
      "0.34\n"
     ]
    }
   ],
   "source": [
    "print(round(random.random(), 2))"
   ]
  },
  {
   "cell_type": "markdown",
   "id": "6fb570f3",
   "metadata": {},
   "source": [
    "#### shuffle()\n",
    "\n",
    "The shuffle() method takes a sequence, like a list, and reorganize the order of the items. This method changes the original list, it does not return a new list."
   ]
  },
  {
   "cell_type": "raw",
   "id": "3101ec89",
   "metadata": {},
   "source": [
    "random.shuffle(sequence)"
   ]
  },
  {
   "cell_type": "code",
   "execution_count": 34,
   "id": "33c89552",
   "metadata": {},
   "outputs": [
    {
     "name": "stdout",
     "output_type": "stream",
     "text": [
      "['c', 'a', 'b', 'd']\n"
     ]
    }
   ],
   "source": [
    "x = [\"a\", \"b\", \"c\", \"d\"]\n",
    "random.shuffle(x)\n",
    "print(x)"
   ]
  },
  {
   "cell_type": "markdown",
   "id": "780e7d5f",
   "metadata": {},
   "source": [
    "#### choice()\n",
    "\n",
    "The choice() method returns a randomly selected element from the specified sequence. The sequence can be a string, a range, a list, a tuple or any other kind of sequence."
   ]
  },
  {
   "cell_type": "raw",
   "id": "917085d9",
   "metadata": {},
   "source": [
    "random.choice(sequence)"
   ]
  },
  {
   "cell_type": "code",
   "execution_count": 35,
   "id": "08da9ed0",
   "metadata": {},
   "outputs": [
    {
     "name": "stdout",
     "output_type": "stream",
     "text": [
      "b\n"
     ]
    }
   ],
   "source": [
    "print(random.choice([\"a\", \"b\", \"c\", \"d\"]))"
   ]
  },
  {
   "cell_type": "markdown",
   "id": "a6097c6e",
   "metadata": {},
   "source": [
    "#### sample()\n",
    "\n",
    "The sample() method returns a list with a randomly selection of a specified number of items from a sequnce. This method does not change the original sequence."
   ]
  },
  {
   "cell_type": "raw",
   "id": "465428bd",
   "metadata": {},
   "source": [
    "random.sample(population, k)"
   ]
  },
  {
   "cell_type": "code",
   "execution_count": 39,
   "id": "eba31e84",
   "metadata": {},
   "outputs": [
    {
     "name": "stdout",
     "output_type": "stream",
     "text": [
      "['c', 'd']\n"
     ]
    }
   ],
   "source": [
    "print(random.sample([\"a\", \"b\", \"c\", \"d\"], 2))"
   ]
  },
  {
   "cell_type": "markdown",
   "id": "fd3cb706",
   "metadata": {},
   "source": [
    "It does not choose a single element twice, so if you want to have repeating values, you can make duplicate values in population."
   ]
  },
  {
   "cell_type": "code",
   "execution_count": 394,
   "id": "fd1c34bc",
   "metadata": {},
   "outputs": [
    {
     "name": "stdout",
     "output_type": "stream",
     "text": [
      "['b', 'b']\n"
     ]
    }
   ],
   "source": [
    "print(random.sample([\"a\", \"b\", \"a\", \"b\"], 2))"
   ]
  },
  {
   "cell_type": "code",
   "execution_count": 45,
   "id": "3e9e7a02",
   "metadata": {},
   "outputs": [
    {
     "data": {
      "text/plain": [
       "723"
      ]
     },
     "execution_count": 45,
     "metadata": {},
     "output_type": "execute_result"
    }
   ],
   "source": [
    "sum(random.choices([0, 1], [0.25, 0.75], k=1000))"
   ]
  },
  {
   "cell_type": "code",
   "execution_count": null,
   "id": "8adc73a1",
   "metadata": {},
   "outputs": [],
   "source": []
  }
 ],
 "metadata": {
  "kernelspec": {
   "display_name": "Python 3 (ipykernel)",
   "language": "python",
   "name": "python3"
  },
  "language_info": {
   "codemirror_mode": {
    "name": "ipython",
    "version": 3
   },
   "file_extension": ".py",
   "mimetype": "text/x-python",
   "name": "python",
   "nbconvert_exporter": "python",
   "pygments_lexer": "ipython3",
   "version": "3.11.0"
  }
 },
 "nbformat": 4,
 "nbformat_minor": 5
}
