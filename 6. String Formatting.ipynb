{
 "cells": [
  {
   "cell_type": "markdown",
   "id": "3dae91f0",
   "metadata": {},
   "source": [
    "# format()\n",
    "\n",
    "The format() method allows you to format selected parts of a string. Sometimes there are parts of a text that you do not control, maybe they come from a database, or user input?\n",
    "\n",
    "The format() method formats the specified values and insert them inside the string's placeholder. The placeholder is defined using curly brackets: {}. The format() method returns the formatted string. Read about the placeholders in the table below:"
   ]
  },
  {
   "cell_type": "markdown",
   "id": "dad5b818",
   "metadata": {},
   "source": [
    "|Placeholder|Formatting|\n",
    "|:-:|:-|\n",
    "|:<|\tLeft aligns the result (within the available space)|\n",
    "|:>|\tRight aligns the result (within the available space)|\n",
    "|:^|\tCenter aligns the result (within the available space)|\n",
    "|:=|\tPlaces the sign to the left most position|\n",
    "|:+|\tUse a plus sign to indicate if the result is positive or negative|\n",
    "|:-|\tUse a minus sign for negative values only|\n",
    "|: |\tUse a space to insert an extra space before positive numbers (and a minus sign before negative numbers)|\n",
    "|:,|\tUse a comma as a thousand separator|\n",
    "|:_|\tUse a underscore as a thousand separator|\n",
    "|:b|\tBinary format|\n",
    "|:c|\tConverts the value into the corresponding unicode character|\n",
    "|:d|\tDecimal format|\n",
    "|:e|\tScientific format, with a lower case e|\n",
    "|:E|\tScientific format, with an upper case E|\n",
    "|:f|\tFix point number format|\n",
    "|:F|\tFix point number format, in uppercase format (show inf and nan as INF and NAN)|\n",
    "|:g|\tGeneral format|\n",
    "|:G|\tGeneral format (using a upper case E for scientific notations)|\n",
    "|:o|\tOctal format|\n",
    "|:x|\tHex format, lower case|\n",
    "|:X|\tHex format, upper case|\n",
    "|:n|\tNumber format|\n",
    "|:%|\tPercentage format|"
   ]
  },
  {
   "cell_type": "code",
   "execution_count": 5,
   "id": "c4e9dafd",
   "metadata": {},
   "outputs": [
    {
     "name": "stdout",
     "output_type": "stream",
     "text": [
      "The price is 21.00 dollars\n"
     ]
    }
   ],
   "source": [
    "print(\"The price is {:.2f} dollars\".format(20.9999))"
   ]
  },
  {
   "cell_type": "markdown",
   "id": "9d4dcbca",
   "metadata": {},
   "source": [
    "# Multiple Values\n",
    "If you want to use more values, just add more values to the format() method:"
   ]
  },
  {
   "cell_type": "code",
   "execution_count": 7,
   "id": "6711b4dc",
   "metadata": {},
   "outputs": [
    {
     "name": "stdout",
     "output_type": "stream",
     "text": [
      "I want 2 pieces of item number 1 for 20.00 dollars.\n"
     ]
    }
   ],
   "source": [
    "quantity = 2\n",
    "itemno = 1\n",
    "price = 20\n",
    "\n",
    "print(\"I want {} pieces of item number {} for {:.2f} dollars.\".format(quantity, itemno, price))"
   ]
  },
  {
   "cell_type": "markdown",
   "id": "103d3189",
   "metadata": {},
   "source": [
    "# Index Numbers\n",
    "You can use index numbers (a number inside the curly brackets {0}) to be sure the values are placed in the correct placeholders:"
   ]
  },
  {
   "cell_type": "code",
   "execution_count": 1,
   "id": "7b303c41",
   "metadata": {},
   "outputs": [
    {
     "name": "stdout",
     "output_type": "stream",
     "text": [
      "I want 2 pieces of item number 1 for 20.00 dollars.\n"
     ]
    }
   ],
   "source": [
    "quantity = 2\n",
    "itemno = 1\n",
    "price = 20\n",
    "\n",
    "print(\"I want {0} pieces of item number {2} for {1:.2f} dollars.\".format(quantity, price, itemno))"
   ]
  },
  {
   "cell_type": "markdown",
   "id": "640b682f",
   "metadata": {},
   "source": [
    "Also, if you want to refer to the same value more than once, use the index number:"
   ]
  },
  {
   "cell_type": "code",
   "execution_count": 10,
   "id": "32a09fad",
   "metadata": {},
   "outputs": [
    {
     "name": "stdout",
     "output_type": "stream",
     "text": [
      "His name is John. John is 36 years old.\n"
     ]
    }
   ],
   "source": [
    "age = 36\n",
    "name = \"John\"\n",
    "print(\"His name is {1}. {1} is {0} years old.\".format(age, name))"
   ]
  },
  {
   "cell_type": "markdown",
   "id": "38339210",
   "metadata": {},
   "source": [
    "# Named Indexes\n",
    "\n",
    "You can also use named indexes by entering a name inside the curly brackets {carname}, but then you must use names when you pass the parameter values."
   ]
  },
  {
   "cell_type": "code",
   "execution_count": 12,
   "id": "e758695b",
   "metadata": {},
   "outputs": [
    {
     "name": "stdout",
     "output_type": "stream",
     "text": [
      "I have a Ford, it is a Mustang.\n"
     ]
    }
   ],
   "source": [
    "print(\"I have a {carname}, it is a {model}.\".format(carname = \"Ford\", model = \"Mustang\"))"
   ]
  },
  {
   "cell_type": "markdown",
   "id": "ce9d3d83",
   "metadata": {},
   "source": [
    "# F-string formatting\n",
    "Another way of formating strings is to write f before string quotations, instead of using format() method."
   ]
  },
  {
   "cell_type": "code",
   "execution_count": 3,
   "id": "c2d16dc6",
   "metadata": {},
   "outputs": [
    {
     "name": "stdout",
     "output_type": "stream",
     "text": [
      "My name is John, I'm 36\n"
     ]
    }
   ],
   "source": [
    "fname = \"John\"\n",
    "age = 36\n",
    "print(f\"My name is {fname}, I'm {age}\")"
   ]
  },
  {
   "cell_type": "code",
   "execution_count": null,
   "id": "fac1b5aa",
   "metadata": {},
   "outputs": [],
   "source": []
  }
 ],
 "metadata": {
  "kernelspec": {
   "display_name": "Python 3 (ipykernel)",
   "language": "python",
   "name": "python3"
  },
  "language_info": {
   "codemirror_mode": {
    "name": "ipython",
    "version": 3
   },
   "file_extension": ".py",
   "mimetype": "text/x-python",
   "name": "python",
   "nbconvert_exporter": "python",
   "pygments_lexer": "ipython3",
   "version": "3.11.0"
  }
 },
 "nbformat": 4,
 "nbformat_minor": 5
}
