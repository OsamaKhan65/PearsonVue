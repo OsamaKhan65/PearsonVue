{
 "cells": [
  {
   "cell_type": "code",
   "execution_count": 6,
   "id": "04eb0e05",
   "metadata": {},
   "outputs": [
    {
     "name": "stdout",
     "output_type": "stream",
     "text": [
      "<class 'dict'>\n"
     ]
    }
   ],
   "source": [
    "x = {}\n",
    "print(type(x))"
   ]
  },
  {
   "cell_type": "code",
   "execution_count": 7,
   "id": "ad85e151",
   "metadata": {},
   "outputs": [
    {
     "name": "stdout",
     "output_type": "stream",
     "text": [
      "<class 'set'>\n"
     ]
    }
   ],
   "source": [
    "x = set()\n",
    "print(type(x))"
   ]
  },
  {
   "cell_type": "code",
   "execution_count": 3,
   "id": "7bc33292",
   "metadata": {},
   "outputs": [
    {
     "name": "stdout",
     "output_type": "stream",
     "text": [
      "<class 'set'>\n"
     ]
    }
   ],
   "source": [
    "x = {1, 2, 3}\n",
    "print(type(x))"
   ]
  },
  {
   "cell_type": "code",
   "execution_count": null,
   "id": "d7c274d3",
   "metadata": {},
   "outputs": [],
   "source": []
  },
  {
   "cell_type": "code",
   "execution_count": null,
   "id": "abf3005c",
   "metadata": {},
   "outputs": [],
   "source": []
  },
  {
   "cell_type": "code",
   "execution_count": null,
   "id": "4237b07d",
   "metadata": {},
   "outputs": [],
   "source": []
  },
  {
   "cell_type": "code",
   "execution_count": null,
   "id": "1a90b063",
   "metadata": {},
   "outputs": [],
   "source": []
  },
  {
   "cell_type": "code",
   "execution_count": 13,
   "id": "a3849409",
   "metadata": {},
   "outputs": [
    {
     "name": "stdout",
     "output_type": "stream",
     "text": [
      "{'ABC': 85, 'XYZ': 70}\n"
     ]
    }
   ],
   "source": [
    "x = {\"ABC\": 85, \"XYZ\": 90, \"XYZ\": 70}\n",
    "print(x)"
   ]
  },
  {
   "cell_type": "code",
   "execution_count": null,
   "id": "7409c93e",
   "metadata": {},
   "outputs": [],
   "source": []
  },
  {
   "cell_type": "code",
   "execution_count": 15,
   "id": "5f3cf7ab",
   "metadata": {},
   "outputs": [
    {
     "ename": "TypeError",
     "evalue": "unhashable type: 'slice'",
     "output_type": "error",
     "traceback": [
      "\u001b[1;31m---------------------------------------------------------------------------\u001b[0m",
      "\u001b[1;31mTypeError\u001b[0m                                 Traceback (most recent call last)",
      "Cell \u001b[1;32mIn [15], line 1\u001b[0m\n\u001b[1;32m----> 1\u001b[0m \u001b[43mx\u001b[49m\u001b[43m[\u001b[49m\u001b[38;5;124;43m\"\u001b[39;49m\u001b[38;5;124;43mABC\u001b[39;49m\u001b[38;5;124;43m\"\u001b[39;49m\u001b[43m:\u001b[49m\u001b[38;5;124;43m'\u001b[39;49m\u001b[38;5;124;43mXYZ\u001b[39;49m\u001b[38;5;124;43m'\u001b[39;49m\u001b[43m]\u001b[49m\n\u001b[0;32m      2\u001b[0m x[\u001b[38;5;241m85\u001b[39m]\n",
      "\u001b[1;31mTypeError\u001b[0m: unhashable type: 'slice'"
     ]
    }
   ],
   "source": [
    "x[\"ABC\":'XYZ']\n",
    "x[85]"
   ]
  },
  {
   "cell_type": "code",
   "execution_count": null,
   "id": "e62f571e",
   "metadata": {},
   "outputs": [],
   "source": []
  },
  {
   "cell_type": "code",
   "execution_count": 18,
   "id": "96be85d7",
   "metadata": {},
   "outputs": [
    {
     "data": {
      "text/plain": [
       "{1: 'First', '2': 'Second'}"
      ]
     },
     "execution_count": 18,
     "metadata": {},
     "output_type": "execute_result"
    }
   ],
   "source": [
    "x = {1: \"First\", \"2\": \"Second\"}\n",
    "x"
   ]
  },
  {
   "cell_type": "code",
   "execution_count": 13,
   "id": "c66abd81",
   "metadata": {},
   "outputs": [
    {
     "data": {
      "text/plain": [
       "{(1, 1, 1): 1, (2, 2, 2): 2}"
      ]
     },
     "execution_count": 13,
     "metadata": {},
     "output_type": "execute_result"
    }
   ],
   "source": [
    "x = {(1, 1 , 1): 1, (2, 2, 2): 2}\n",
    "x"
   ]
  },
  {
   "cell_type": "code",
   "execution_count": 14,
   "id": "bf85c555",
   "metadata": {},
   "outputs": [
    {
     "ename": "TypeError",
     "evalue": "unhashable type: 'list'",
     "output_type": "error",
     "traceback": [
      "\u001b[1;31m---------------------------------------------------------------------------\u001b[0m",
      "\u001b[1;31mTypeError\u001b[0m                                 Traceback (most recent call last)",
      "Cell \u001b[1;32mIn [14], line 1\u001b[0m\n\u001b[1;32m----> 1\u001b[0m x \u001b[38;5;241m=\u001b[39m {[\u001b[38;5;241m1\u001b[39m, \u001b[38;5;241m1\u001b[39m, \u001b[38;5;241m1\u001b[39m]: \u001b[38;5;241m1.0\u001b[39m, [\u001b[38;5;241m2\u001b[39m, \u001b[38;5;241m2\u001b[39m, \u001b[38;5;241m2\u001b[39m]: \u001b[38;5;241m2.0\u001b[39m}\n\u001b[0;32m      2\u001b[0m x\n",
      "\u001b[1;31mTypeError\u001b[0m: unhashable type: 'list'"
     ]
    }
   ],
   "source": [
    "x = {[1, 1, 1]: 1.0, [2, 2, 2]: 2.0}\n",
    "x"
   ]
  },
  {
   "cell_type": "code",
   "execution_count": 15,
   "id": "bdb35084",
   "metadata": {},
   "outputs": [
    {
     "data": {
      "text/plain": [
       "{1: [1, 1, 1], 2: [2, 2, 2]}"
      ]
     },
     "execution_count": 15,
     "metadata": {},
     "output_type": "execute_result"
    }
   ],
   "source": [
    "x = {1: [1, 1, 1], 2: [2, 2, 2]}\n",
    "x"
   ]
  },
  {
   "cell_type": "code",
   "execution_count": 20,
   "id": "4bbadd22",
   "metadata": {},
   "outputs": [],
   "source": [
    "students = {\n",
    "    'abc':{'age': 18,\n",
    "           'class': 'FY',\n",
    "           'enrolled in cod3': True\n",
    "    }\n",
    "}"
   ]
  },
  {
   "cell_type": "code",
   "execution_count": 21,
   "id": "81ef4ff8",
   "metadata": {},
   "outputs": [
    {
     "data": {
      "text/plain": [
       "{'abc': {'age': 18, 'class': 'FY', 'enrolled in cod3': True}}"
      ]
     },
     "execution_count": 21,
     "metadata": {},
     "output_type": "execute_result"
    }
   ],
   "source": [
    "students"
   ]
  },
  {
   "cell_type": "code",
   "execution_count": 22,
   "id": "a490cf3b",
   "metadata": {},
   "outputs": [
    {
     "name": "stdout",
     "output_type": "stream",
     "text": [
      "{'age': 18, 'class': 'FY', 'enrolled in cod3': True}\n"
     ]
    }
   ],
   "source": [
    "print(students[\"abc\"])"
   ]
  },
  {
   "cell_type": "code",
   "execution_count": 23,
   "id": "2f1049bd",
   "metadata": {},
   "outputs": [
    {
     "name": "stdout",
     "output_type": "stream",
     "text": [
      "False\n"
     ]
    }
   ],
   "source": [
    "students['abc'][\"enrolled in cod3\"] = False\n",
    "print(students['abc'][\"enrolled in cod3\"])"
   ]
  },
  {
   "cell_type": "code",
   "execution_count": 25,
   "id": "2eefe6eb",
   "metadata": {},
   "outputs": [
    {
     "name": "stdout",
     "output_type": "stream",
     "text": [
      "{'abc': {'age': 18, 'class': 'FY', 'enrolled in cod3': False}, 'ijk': {'gender': 'male'}}\n"
     ]
    }
   ],
   "source": [
    "students['ijk'] = {}\n",
    "students['ijk'][\"gender\"] = \"male\"\n",
    "print(students)"
   ]
  },
  {
   "cell_type": "code",
   "execution_count": 9,
   "id": "b434b886",
   "metadata": {},
   "outputs": [
    {
     "data": {
      "text/plain": [
       "dict_keys(['abc', 'xyz'])"
      ]
     },
     "execution_count": 9,
     "metadata": {},
     "output_type": "execute_result"
    }
   ],
   "source": [
    "students.keys()"
   ]
  },
  {
   "cell_type": "code",
   "execution_count": 10,
   "id": "e42683b0",
   "metadata": {},
   "outputs": [
    {
     "data": {
      "text/plain": [
       "dict_values([{'age': 18, 'class': 'FY', 'enrolled in cod3': True}, {'age': 20, 'class': 'SY', 'enrolled in cod3': False, 'attendence': '32/45'}])"
      ]
     },
     "execution_count": 10,
     "metadata": {},
     "output_type": "execute_result"
    }
   ],
   "source": [
    "students.values()"
   ]
  },
  {
   "cell_type": "code",
   "execution_count": 12,
   "id": "ebdb7823",
   "metadata": {},
   "outputs": [
    {
     "data": {
      "text/plain": [
       "dict_items([('age', 20), ('class', 'SY'), ('enrolled in cod3', False), ('attendence', '32/45')])"
      ]
     },
     "execution_count": 12,
     "metadata": {},
     "output_type": "execute_result"
    }
   ],
   "source": [
    "students['xyz'].items()"
   ]
  },
  {
   "cell_type": "code",
   "execution_count": null,
   "id": "e29ef96a",
   "metadata": {},
   "outputs": [],
   "source": [
    "students = {\n",
    "    'xyz':{'age': 20,\n",
    "           'class': 'SY',\n",
    "           'enrolled in cod3': False\n",
    "    }\n",
    "}"
   ]
  },
  {
   "cell_type": "code",
   "execution_count": 3,
   "id": "b0f92b65",
   "metadata": {},
   "outputs": [],
   "source": [
    "students['xyz'] = {'age': 20,\n",
    "           'class': 'SY',\n",
    "           'enrolled in cod3': False\n",
    "    }"
   ]
  },
  {
   "cell_type": "code",
   "execution_count": 7,
   "id": "da45186b",
   "metadata": {},
   "outputs": [],
   "source": [
    "students['xyz']['attendence'] = \"32/45\""
   ]
  },
  {
   "cell_type": "code",
   "execution_count": 8,
   "id": "a0de96f7",
   "metadata": {},
   "outputs": [
    {
     "data": {
      "text/plain": [
       "{'abc': {'age': 18, 'class': 'FY', 'enrolled in cod3': True},\n",
       " 'xyz': {'age': 20,\n",
       "  'class': 'SY',\n",
       "  'enrolled in cod3': False,\n",
       "  'attendence': '32/45'}}"
      ]
     },
     "execution_count": 8,
     "metadata": {},
     "output_type": "execute_result"
    }
   ],
   "source": [
    "students"
   ]
  },
  {
   "cell_type": "code",
   "execution_count": 31,
   "id": "9880f79b",
   "metadata": {},
   "outputs": [
    {
     "data": {
      "text/plain": [
       "{'age': 18, 'class': 'FY', 'enrolled in cod3': True}"
      ]
     },
     "execution_count": 31,
     "metadata": {},
     "output_type": "execute_result"
    }
   ],
   "source": [
    "students.pop(\"abc\")"
   ]
  },
  {
   "cell_type": "code",
   "execution_count": 32,
   "id": "19aecd0c",
   "metadata": {},
   "outputs": [
    {
     "data": {
      "text/plain": [
       "{'xyz': {'age': 20, 'class': 'SY', 'enrolled in cod3': False}}"
      ]
     },
     "execution_count": 32,
     "metadata": {},
     "output_type": "execute_result"
    }
   ],
   "source": [
    "students"
   ]
  },
  {
   "cell_type": "code",
   "execution_count": 34,
   "id": "00bad443",
   "metadata": {},
   "outputs": [],
   "source": [
    "students[\"xyz\"][\"enrolled in cod3\"] = True"
   ]
  },
  {
   "cell_type": "code",
   "execution_count": 35,
   "id": "4fe9e4d1",
   "metadata": {},
   "outputs": [
    {
     "data": {
      "text/plain": [
       "{'xyz': {'age': 20, 'class': 'SY', 'enrolled in cod3': True}}"
      ]
     },
     "execution_count": 35,
     "metadata": {},
     "output_type": "execute_result"
    }
   ],
   "source": [
    "students"
   ]
  },
  {
   "cell_type": "code",
   "execution_count": 1,
   "id": "28e5343c",
   "metadata": {},
   "outputs": [],
   "source": [
    "x = [6, 7, 2, 1, 3, 4, 3, 2, 1, 5, 2, 1, 3, 2, 4, 6, 9, 5, 8, 6, 7, 9]"
   ]
  },
  {
   "cell_type": "code",
   "execution_count": null,
   "id": "b4d359ce",
   "metadata": {},
   "outputs": [],
   "source": [
    "{0: 0,\n",
    " 1: 4,\n",
    "...}"
   ]
  },
  {
   "cell_type": "code",
   "execution_count": 7,
   "id": "72709080",
   "metadata": {},
   "outputs": [],
   "source": [
    "x = {'Coding': {'Monday':0, 'Tuesday':0, 'Wednessday':0, 'Thursday':2, 'Friday':1}}"
   ]
  },
  {
   "cell_type": "code",
   "execution_count": 8,
   "id": "f6354f48",
   "metadata": {},
   "outputs": [],
   "source": [
    "x['Coding']['Friday'] = 0"
   ]
  },
  {
   "cell_type": "code",
   "execution_count": 9,
   "id": "00aca19e",
   "metadata": {},
   "outputs": [
    {
     "name": "stdout",
     "output_type": "stream",
     "text": [
      "{'Coding': {'Monday': 0, 'Tuesday': 0, 'Wednessday': 0, 'Thursday': 2, 'Friday': 0}}\n"
     ]
    }
   ],
   "source": [
    "print(x)"
   ]
  },
  {
   "cell_type": "code",
   "execution_count": null,
   "id": "fbcab299",
   "metadata": {},
   "outputs": [],
   "source": []
  }
 ],
 "metadata": {
  "kernelspec": {
   "display_name": "Python 3 (ipykernel)",
   "language": "python",
   "name": "python3"
  },
  "language_info": {
   "codemirror_mode": {
    "name": "ipython",
    "version": 3
   },
   "file_extension": ".py",
   "mimetype": "text/x-python",
   "name": "python",
   "nbconvert_exporter": "python",
   "pygments_lexer": "ipython3",
   "version": "3.11.0"
  }
 },
 "nbformat": 4,
 "nbformat_minor": 5
}
