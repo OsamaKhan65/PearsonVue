{
 "cells": [
  {
   "cell_type": "markdown",
   "id": "d7c5855d",
   "metadata": {},
   "source": [
    "# Variables\n",
    "\n",
    "Variables are like containers that are used for storing data. As the name suggests, variable contains a value that can change, depending on the data **assigned** to it."
   ]
  },
  {
   "cell_type": "code",
   "execution_count": 1,
   "id": "f13782cc",
   "metadata": {},
   "outputs": [
    {
     "name": "stdout",
     "output_type": "stream",
     "text": [
      "1\n",
      "a\n"
     ]
    },
    {
     "ename": "NameError",
     "evalue": "name 'c' is not defined",
     "output_type": "error",
     "traceback": [
      "\u001b[0;31m---------------------------------------------------------------------------\u001b[0m",
      "\u001b[0;31mNameError\u001b[0m                                 Traceback (most recent call last)",
      "\u001b[0;32m/tmp/ipykernel_368829/1515069609.py\u001b[0m in \u001b[0;36m<module>\u001b[0;34m\u001b[0m\n\u001b[1;32m      4\u001b[0m \u001b[0mprint\u001b[0m\u001b[0;34m(\u001b[0m\u001b[0ma\u001b[0m\u001b[0;34m)\u001b[0m\u001b[0;34m\u001b[0m\u001b[0;34m\u001b[0m\u001b[0m\n\u001b[1;32m      5\u001b[0m \u001b[0mprint\u001b[0m\u001b[0;34m(\u001b[0m\u001b[0mb\u001b[0m\u001b[0;34m)\u001b[0m\u001b[0;34m\u001b[0m\u001b[0;34m\u001b[0m\u001b[0m\n\u001b[0;32m----> 6\u001b[0;31m \u001b[0mprint\u001b[0m\u001b[0;34m(\u001b[0m\u001b[0mc\u001b[0m\u001b[0;34m)\u001b[0m\u001b[0;34m\u001b[0m\u001b[0;34m\u001b[0m\u001b[0m\n\u001b[0m",
      "\u001b[0;31mNameError\u001b[0m: name 'c' is not defined"
     ]
    }
   ],
   "source": [
    "a = \"1\"\n",
    "b = \"a\"\n",
    "\n",
    "print(a)\n",
    "print(b)\n",
    "print(c)"
   ]
  },
  {
   "cell_type": "markdown",
   "id": "e361b50e",
   "metadata": {},
   "source": [
    "# Assignment operator\n",
    "\n",
    "The assignment operator in Python is denoted by equal to symbol (=) and is used to assign values from the right side of the operator to the variable on the left side."
   ]
  },
  {
   "cell_type": "code",
   "execution_count": 7,
   "id": "c3d45a55",
   "metadata": {},
   "outputs": [
    {
     "name": "stdout",
     "output_type": "stream",
     "text": [
      "3\n"
     ]
    }
   ],
   "source": [
    "a = 1\n",
    "b = 2\n",
    "c = a + b\n",
    "\n",
    "print(c)"
   ]
  },
  {
   "cell_type": "code",
   "execution_count": 14,
   "id": "cae20601",
   "metadata": {},
   "outputs": [
    {
     "ename": "SyntaxError",
     "evalue": "cannot assign to literal here. Maybe you meant '==' instead of '='? (3405186203.py, line 1)",
     "output_type": "error",
     "traceback": [
      "\u001b[0;36m  File \u001b[0;32m\"/tmp/ipykernel_368829/3405186203.py\"\u001b[0;36m, line \u001b[0;32m1\u001b[0m\n\u001b[0;31m    \"a\" = 1\u001b[0m\n\u001b[0m    ^\u001b[0m\n\u001b[0;31mSyntaxError\u001b[0m\u001b[0;31m:\u001b[0m cannot assign to literal here. Maybe you meant '==' instead of '='?\n"
     ]
    }
   ],
   "source": [
    "\"a\" = 1"
   ]
  },
  {
   "cell_type": "code",
   "execution_count": 19,
   "id": "5564c073",
   "metadata": {},
   "outputs": [
    {
     "ename": "SyntaxError",
     "evalue": "cannot assign to literal here. Maybe you meant '==' instead of '='? (352529522.py, line 1)",
     "output_type": "error",
     "traceback": [
      "\u001b[0;36m  File \u001b[0;32m\"/tmp/ipykernel_368829/352529522.py\"\u001b[0;36m, line \u001b[0;32m1\u001b[0m\n\u001b[0;31m    1 = a\u001b[0m\n\u001b[0m    ^\u001b[0m\n\u001b[0;31mSyntaxError\u001b[0m\u001b[0;31m:\u001b[0m cannot assign to literal here. Maybe you meant '==' instead of '='?\n"
     ]
    }
   ],
   "source": [
    "1 = a"
   ]
  },
  {
   "cell_type": "markdown",
   "id": "dba33ce7",
   "metadata": {},
   "source": [
    "# Variable Naming Rules\n",
    "\n",
    "These are certain rules for naming variables in Python:\n",
    "\n",
    "#### DOs\n",
    "\n",
    "1. A variable can have a short name. (like x, y or even _ )\n",
    "2. A variable can have a descriptive name. (like age or name)\n",
    "3. A variable can have multiple words name. (like totalSales or total_sales)\n",
    "4. A variable can have a really long name. (There is no limit in python)\n",
    "\n",
    "#### DON'Ts\n",
    "\n",
    "1. A variable name can only contain alpha-numeric characters and underscores. (A-Z, a-z, 0-9, and _ )\n",
    "2. A variable name must start with a letter or the underscore character. It cannot start with a number.\n",
    "3. Variable names are case-sensitive. (age, Age and AGE are three different variables)\n",
    "4. A variable name cannot be any of the Python **keywords**.\n",
    "5. A variable name cannot contain spaces in between."
   ]
  },
  {
   "cell_type": "code",
   "execution_count": 1,
   "id": "12e74ea4",
   "metadata": {},
   "outputs": [
    {
     "ename": "SyntaxError",
     "evalue": "invalid decimal literal (3714207372.py, line 2)",
     "output_type": "error",
     "traceback": [
      "\u001b[1;36m  Cell \u001b[1;32mIn [1], line 2\u001b[1;36m\u001b[0m\n\u001b[1;33m    1a = 2\u001b[0m\n\u001b[1;37m    ^\u001b[0m\n\u001b[1;31mSyntaxError\u001b[0m\u001b[1;31m:\u001b[0m invalid decimal literal\n"
     ]
    }
   ],
   "source": [
    "a1 = 1\n",
    "1a = 2\n",
    "\n",
    "from\n",
    "from_"
   ]
  },
  {
   "cell_type": "markdown",
   "id": "e955fec3",
   "metadata": {},
   "source": [
    "# Creating Variables\n",
    "\n",
    "#### Remember:\n",
    "1. Python has no command for declaring a variable.\n",
    "2. The datatype is assigned automatically.\n",
    "3. A variable is created the moment you first assign a value to it.\n",
    "4. You can create multiple variables at once.\n",
    "5. You can assign a single value to multiple variables at once."
   ]
  },
  {
   "cell_type": "raw",
   "id": "bc1ebcf4",
   "metadata": {},
   "source": [
    "var x = 1;     // Javascript\n",
    "int y = 1;     // C, C++ or C#\n",
    "\n",
    "z = 1           # Python"
   ]
  },
  {
   "cell_type": "code",
   "execution_count": 2,
   "id": "f26e1f49",
   "metadata": {},
   "outputs": [
    {
     "name": "stdout",
     "output_type": "stream",
     "text": [
      "2 1\n"
     ]
    }
   ],
   "source": [
    "a = 1\n",
    "b = 2\n",
    "\n",
    "a, b = b, a\n",
    "\n",
    "print(a, b)"
   ]
  },
  {
   "cell_type": "code",
   "execution_count": 13,
   "id": "55fa16ad",
   "metadata": {},
   "outputs": [
    {
     "name": "stdout",
     "output_type": "stream",
     "text": [
      "1\n",
      "2\n",
      "3\n"
     ]
    }
   ],
   "source": [
    "a = 1\n",
    "b, c = 2, 3\n",
    "\n",
    "print(a)\n",
    "print(b)\n",
    "print(c)"
   ]
  },
  {
   "cell_type": "code",
   "execution_count": 1,
   "id": "9e93bfee",
   "metadata": {},
   "outputs": [
    {
     "name": "stdout",
     "output_type": "stream",
     "text": [
      "3 2\n"
     ]
    }
   ],
   "source": [
    "x = 2\n",
    "y = 3\n",
    "x, y = y, x\n",
    "\n",
    "print(x, y)"
   ]
  },
  {
   "cell_type": "code",
   "execution_count": 18,
   "id": "44a5ce00",
   "metadata": {},
   "outputs": [
    {
     "name": "stdout",
     "output_type": "stream",
     "text": [
      "1\n",
      "1\n",
      "1\n"
     ]
    }
   ],
   "source": [
    "a = b = c = 1\n",
    "\n",
    "print(a)\n",
    "print(b)\n",
    "print(c)"
   ]
  },
  {
   "cell_type": "markdown",
   "id": "cb814f46",
   "metadata": {},
   "source": [
    "# Keywords\n",
    "\n",
    "Python contains certain words that are reserved for specific purposes and have certain meanings and they cannot be used as variables."
   ]
  },
  {
   "cell_type": "code",
   "execution_count": 12,
   "id": "447d7f1d",
   "metadata": {
    "scrolled": true
   },
   "outputs": [
    {
     "name": "stdout",
     "output_type": "stream",
     "text": [
      "\n",
      "Here is a list of the Python keywords.  Enter any keyword to get more help.\n",
      "\n",
      "False               class               from                or\n",
      "None                continue            global              pass\n",
      "True                def                 if                  raise\n",
      "and                 del                 import              return\n",
      "as                  elif                in                  try\n",
      "assert              else                is                  while\n",
      "async               except              lambda              with\n",
      "await               finally             nonlocal            yield\n",
      "break               for                 not                 \n",
      "\n"
     ]
    }
   ],
   "source": [
    "help(\"keywords\")"
   ]
  },
  {
   "cell_type": "code",
   "execution_count": null,
   "id": "dadcbadb",
   "metadata": {},
   "outputs": [],
   "source": [
    "if name not in list_of_names"
   ]
  },
  {
   "cell_type": "markdown",
   "id": "473728dc",
   "metadata": {},
   "source": [
    "Following is the brief description about usage purpose of each keyword:\n",
    "\n",
    "|Keyword|Description|\n",
    "|:------|:----------|\n",
    "|**and**|A logical operator|\n",
    "|**not**|A logical operator|\n",
    "|**or**|A logical operator|\n",
    "|||\n",
    "|||\n",
    "|**import**|To import a module|\n",
    "|**from**|To import specific parts of a module|\n",
    "|**as**|To create an alias|\n",
    "|||\n",
    "|||\n",
    "|**assert**|For debugging|\n",
    "|||\n",
    "|||\n",
    "|**class**|To define a class|\n",
    "|||\n",
    "|||\n",
    "|**for**|To create a for loop|\n",
    "|**while**|To create a while loop|\n",
    "|**break**|To break out of a loop|\n",
    "|**continue**|To continue to the next iteration of a loop|\n",
    "|||\n",
    "|||\n",
    "|**pass**|A null statement, a statement that will do nothing|\n",
    "|||\n",
    "|||\n",
    "|**def**|To define a function|\n",
    "|**return**|To exit a function and return a value|\n",
    "|**yield**|To end a function, returns a generator|\n",
    "|**lambda**|To create an anonymous function|\n",
    "|||\n",
    "|||\n",
    "|**del**|To delete an object|\n",
    "|||\n",
    "|||\n",
    "|**if**|To make a conditional statement|\n",
    "|**elif**|Used in conditional statements, same as else if|\n",
    "|**else**|Used in conditional statements|\n",
    "|||\n",
    "|||\n",
    "|**try**|To make a try...except statement|\n",
    "|**except**|Used with exceptions, what to do when an exception occurs|\n",
    "|**finally**|Used with exceptions, a block of code that will be executed no matter if there is an exception or not|\n",
    "|**raise**|To raise an exception|\n",
    "|**with**|Used to simplify exception handling|\n",
    "|||\n",
    "|||\n",
    "|**None**|Represents a null value|\n",
    "|||\n",
    "|||\n",
    "|**True**|Boolean value, result of comparison operations|\n",
    "|**False**|Boolean value, result of comparison operations|\n",
    "|||\n",
    "|||\n",
    "|**global**|To declare a global variable|\n",
    "|**nonlocal**|To declare a non-local variable|\n",
    "|||\n",
    "|||\n",
    "|**in**|To check if a value is present in a list, tuple, etc.|\n",
    "|**is**|To test if two variables are equal|"
   ]
  },
  {
   "cell_type": "code",
   "execution_count": 5,
   "id": "abef9066",
   "metadata": {},
   "outputs": [
    {
     "name": "stdout",
     "output_type": "stream",
     "text": [
      "<class 'bool'>\n",
      "<class 'int'>\n",
      "<class 'float'>\n",
      "<class 'str'>\n"
     ]
    }
   ],
   "source": [
    "print(type(True))\n",
    "print(type(1))\n",
    "print(type(1.0))\n",
    "print(type(\"True\"))"
   ]
  },
  {
   "cell_type": "code",
   "execution_count": 6,
   "id": "e0b69aae",
   "metadata": {},
   "outputs": [
    {
     "name": "stdout",
     "output_type": "stream",
     "text": [
      "1.2\n"
     ]
    }
   ],
   "source": [
    "print(1 + 0.2)"
   ]
  },
  {
   "cell_type": "code",
   "execution_count": 12,
   "id": "4ee72084",
   "metadata": {},
   "outputs": [
    {
     "name": "stdout",
     "output_type": "stream",
     "text": [
      "9.5\n",
      "0.5\n",
      "22.5\n",
      "1.1111111111111112\n"
     ]
    }
   ],
   "source": [
    "a = 5\n",
    "b = 4.5\n",
    "\n",
    "print(a + b)\n",
    "print(a - b)\n",
    "print(a * b)\n",
    "print(a / b)"
   ]
  },
  {
   "cell_type": "code",
   "execution_count": null,
   "id": "1eb5d69c",
   "metadata": {},
   "outputs": [],
   "source": []
  }
 ],
 "metadata": {
  "kernelspec": {
   "display_name": "Python 3 (ipykernel)",
   "language": "python",
   "name": "python3"
  },
  "language_info": {
   "codemirror_mode": {
    "name": "ipython",
    "version": 3
   },
   "file_extension": ".py",
   "mimetype": "text/x-python",
   "name": "python",
   "nbconvert_exporter": "python",
   "pygments_lexer": "ipython3",
   "version": "3.11.0"
  }
 },
 "nbformat": 4,
 "nbformat_minor": 5
}
