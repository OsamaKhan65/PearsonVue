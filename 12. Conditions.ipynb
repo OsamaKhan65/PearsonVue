{
 "cells": [
  {
   "cell_type": "markdown",
   "id": "4191ecf6-0af5-487e-9ccd-05a16fda9f03",
   "metadata": {},
   "source": [
    "# Conditions\n",
    "One of the most important feature in any programming language is its ability to make decisions based of given conditions. Python also supports the conditional statements\n",
    "\n",
    "# If Statement\n",
    "An if statement is written by using the **if** keyword. You can write if followed by a logical codition and colon(:) at the end. The next line should be indented. Whatever code you write after the if with indentation will be the part of if block and it will only get executed if the condition provided to if is **True**, otherwise it will be ignored by the compiler."
   ]
  },
  {
   "cell_type": "code",
   "execution_count": 1,
   "id": "371cdc7c-fc17-4c0f-a34d-169d7f80d828",
   "metadata": {},
   "outputs": [
    {
     "name": "stdout",
     "output_type": "stream",
     "text": [
      "a is less than b\n"
     ]
    }
   ],
   "source": [
    "a = 33\n",
    "b = 200\n",
    "\n",
    "if a < b:\n",
    "    print(\"a is less than b\")\n",
    "if a > b:\n",
    "    print(\"a is greater than b\")\n",
    "elif a == b:\n",
    "    print(\"a is greater than b\")"
   ]
  },
  {
   "cell_type": "markdown",
   "id": "7efd4e41-a3c9-4195-a19c-45a63627ea11",
   "metadata": {},
   "source": [
    "You can also use multiple operator in a single statement."
   ]
  },
  {
   "cell_type": "code",
   "execution_count": 1,
   "id": "19b4591f-dd49-42be-94e0-956072849f84",
   "metadata": {},
   "outputs": [],
   "source": [
    "a = 20\n",
    "\n",
    "if 0 < a < 5:\n",
    "    print(\"a is greater than 0 and less than 5.\")"
   ]
  },
  {
   "cell_type": "markdown",
   "id": "c8b3e2d3-7134-4664-a21d-23bc3585aaad",
   "metadata": {},
   "source": [
    "# Multiple Conditions\n",
    "Consider the following example that checks for both cheery and apple in a tupple of fruit names. Because there are two conditions to check we can write the code as:"
   ]
  },
  {
   "cell_type": "code",
   "execution_count": 1,
   "id": "9290c506-e2c5-47af-be54-2c5a872bb5f5",
   "metadata": {},
   "outputs": [
    {
     "name": "stdout",
     "output_type": "stream",
     "text": [
      "We have both cherry and apple.\n"
     ]
    }
   ],
   "source": [
    "fruits = ('cherry', 'apple')\n",
    "\n",
    "if 'cherry' in fruits:\n",
    "    if 'apple' in fruits:\n",
    "        print('We have both cherry and apple.')"
   ]
  },
  {
   "cell_type": "markdown",
   "id": "697aa7a6-b437-4f2d-b9fe-573b7d8e9f82",
   "metadata": {},
   "source": [
    "#### AND Keyword\n",
    "But a better option is to use the **and** keyword between both the conditions. It is logical operator used to combine two or more logical conditions. It which only returns **True** if both conditions are **True**."
   ]
  },
  {
   "cell_type": "code",
   "execution_count": 2,
   "id": "86e5b4e9-953a-4932-9894-c97c48f2da94",
   "metadata": {},
   "outputs": [
    {
     "name": "stdout",
     "output_type": "stream",
     "text": [
      "We have both cherry and apple.\n"
     ]
    }
   ],
   "source": [
    "fruits = ('cherry', 'apple')\n",
    "\n",
    "if 'cherry' in fruits and 'apple' in fruits:\n",
    "    print('We have both cherry and apple.')"
   ]
  },
  {
   "cell_type": "markdown",
   "id": "62d15a62-277a-461a-b8fe-17a802ca10c4",
   "metadata": {},
   "source": [
    "#### OR Keyword\n",
    "\n",
    "Just like **and** we have **or**, which only returns **False** if both conditions are **False**."
   ]
  },
  {
   "cell_type": "code",
   "execution_count": 4,
   "id": "51f2d2ec-09c8-4937-8441-3141296f228c",
   "metadata": {},
   "outputs": [
    {
     "name": "stdout",
     "output_type": "stream",
     "text": [
      "We have cherry.\n"
     ]
    }
   ],
   "source": [
    "fruits = ('cherry', 'apple')\n",
    "vegitables = ('potato', 'carrot')\n",
    "\n",
    "if 'cherry' in fruits or 'cherry' in vegitables:\n",
    "    print('We have cherry.')"
   ]
  },
  {
   "cell_type": "markdown",
   "id": "44ef0001-8e46-4408-9957-e5d3b1769c51",
   "metadata": {},
   "source": [
    "# Negative Conditions\n",
    "#### NOT Keyword\n",
    "The **if** statment gets executed if the final output is **True**, but if we need it to get executed if the answer is false we can use **not** with the condition. It is used to reverse the result of the conditional statement."
   ]
  },
  {
   "cell_type": "code",
   "execution_count": 5,
   "id": "ab62edd4-ef7f-45a0-b4d4-8ef2c36bd67b",
   "metadata": {},
   "outputs": [
    {
     "name": "stdout",
     "output_type": "stream",
     "text": [
      "We do not have pineapple.\n"
     ]
    }
   ],
   "source": [
    "fruits = ('cherry', 'apple')\n",
    "\n",
    "if 'pineapple' not in fruits:\n",
    "    print('We do not have pineapple.')"
   ]
  },
  {
   "cell_type": "markdown",
   "id": "d1ce8a8d-d56b-41be-b7e5-caef08515fdf",
   "metadata": {},
   "source": [
    "# Elif Statement\n",
    "Try writing a code that prints out the grade based on the marks obtained by a student in a subject. Your code might look like this:"
   ]
  },
  {
   "cell_type": "code",
   "execution_count": 2,
   "id": "c55537ac-44dc-4fe5-a0e5-2711830d7215",
   "metadata": {},
   "outputs": [
    {
     "name": "stdout",
     "output_type": "stream",
     "text": [
      "F\n"
     ]
    }
   ],
   "source": [
    "marks = 45\n",
    "\n",
    "if 90 <= marks <= 100:\n",
    "    print(\"A+\")\n",
    "if 80 <= marks < 90:\n",
    "    print(\"A\")\n",
    "if 70 <= marks < 80:\n",
    "    print(\"B\")\n",
    "if 60 <= marks < 70:\n",
    "    print(\"C\")\n",
    "if 50 <= marks < 60:\n",
    "    print(\"D\")\n",
    "if marks < 50:\n",
    "    print(\"F\")"
   ]
  },
  {
   "cell_type": "markdown",
   "id": "3b349b6d-2dae-4097-b8e5-7996eb3a31c9",
   "metadata": {},
   "source": [
    "Apparantly there is nothing wrong with the code, but the problem is that even though the condition was satisfied in the first block still all the blocks were executed, which takes time. Python is already considered very slow, so there has to be a better way to handle this.\n",
    "\n",
    "This is where **elif** keyword comes into play. It is short for else if. It has the same syntax as if. The same code can be rewritten as:"
   ]
  },
  {
   "cell_type": "code",
   "execution_count": 3,
   "id": "3f30ec54-0f14-4d50-b310-b12cdab9349c",
   "metadata": {},
   "outputs": [
    {
     "name": "stdout",
     "output_type": "stream",
     "text": [
      "F\n"
     ]
    }
   ],
   "source": [
    "marks = 45\n",
    "\n",
    "if 90 <= marks:\n",
    "    print(\"A+\")\n",
    "elif 80 <= marks:\n",
    "    print(\"A\")\n",
    "elif 70 <= marks:\n",
    "    print(\"B\")\n",
    "elif 60 <= marks:\n",
    "    print(\"C\")\n",
    "elif 50 <= marks:\n",
    "    print(\"D\")\n",
    "elif marks < 50:\n",
    "    print(\"F\")"
   ]
  },
  {
   "cell_type": "code",
   "execution_count": 16,
   "id": "94db50e7-fc12-48f8-aca0-5a098969b514",
   "metadata": {
    "jupyter": {
     "source_hidden": true
    }
   },
   "outputs": [
    {
     "name": "stdout",
     "output_type": "stream",
     "text": [
      "Time taken without elif: 0.0004754066467285156\n",
      "Time taken with elif: 0.00019240379333496094\n"
     ]
    }
   ],
   "source": [
    "import time\n",
    "marks = 95\n",
    "\n",
    "b = time.time()\n",
    "if 90 <= marks <= 100:\n",
    "    pass\n",
    "if 80 <= marks < 90:\n",
    "    pass\n",
    "if 70 <= marks < 80:\n",
    "    pass\n",
    "if 60 <= marks < 70:\n",
    "    pass\n",
    "if 50 <= marks < 60:\n",
    "    pass\n",
    "if marks < 50:\n",
    "    pass\n",
    "print(\"Time taken without elif:\", time.time()-b)\n",
    "\n",
    "b = time.time()\n",
    "if 90 <= marks:\n",
    "    pass\n",
    "elif 80 <= marks:\n",
    "    pass\n",
    "elif 70 <= marks:\n",
    "    pass\n",
    "elif 60 <= marks:\n",
    "    pass\n",
    "elif 50 <= marks:\n",
    "    pass\n",
    "elif marks < 50:\n",
    "    pass\n",
    "print(\"Time taken with elif:\", time.time()-b)"
   ]
  },
  {
   "cell_type": "markdown",
   "id": "ec777faa-74b9-48de-a465-0d954c88f360",
   "metadata": {},
   "source": [
    "The above output shows that the same codes written above takes more time if written without elif as compared to the one with elif.\n",
    "\n",
    "# Else Keyword\n",
    "Let's write a code that tells if a number is even or odd."
   ]
  },
  {
   "cell_type": "code",
   "execution_count": 18,
   "id": "0f652aca-603b-43a5-a6b3-aad0b70e519c",
   "metadata": {},
   "outputs": [
    {
     "name": "stdout",
     "output_type": "stream",
     "text": [
      "The number is odd.\n"
     ]
    }
   ],
   "source": [
    "num = 1\n",
    "\n",
    "if num % 2 == 0:\n",
    "    print(\"The number is even.\")\n",
    "elif num % 2 == 1:\n",
    "    print(\"The number is odd.\")"
   ]
  },
  {
   "cell_type": "markdown",
   "id": "e16905d7-e52d-49c4-92e4-c5e33f37e779",
   "metadata": {},
   "source": [
    "Now in this situation there are only two possible outcomes, either the number will be even or it is going to be odd. So instead of use **elif** we can use **else**."
   ]
  },
  {
   "cell_type": "code",
   "execution_count": 20,
   "id": "feac9aa0-c0cf-4ba3-b02b-27d783058b92",
   "metadata": {},
   "outputs": [
    {
     "name": "stdout",
     "output_type": "stream",
     "text": [
      "The number is odd.\n"
     ]
    }
   ],
   "source": [
    "num = 1\n",
    "\n",
    "if num % 2 == 0:\n",
    "    print(\"The number is even.\")\n",
    "else:\n",
    "    print(\"The number is odd.\")"
   ]
  },
  {
   "cell_type": "markdown",
   "id": "08adf882-d8b7-4d74-8324-a19ef3f275e4",
   "metadata": {},
   "source": [
    "We use **else** in the end to cover all the possible conditions that were not satisfied in any of the above if and elif statements. The **else** statemnet doesn't contain any condition unlike **if** and **elif**.\n",
    "\n",
    "There is one thing to remember: You cannot use **elif** and **else** without inserting an **if** statement first. "
   ]
  },
  {
   "cell_type": "markdown",
   "id": "ae5b3d3c",
   "metadata": {},
   "source": [
    "# Short Hand If\n",
    "\n",
    "If you have only one statement to execute, you can put it on the same line as the if statement."
   ]
  },
  {
   "cell_type": "code",
   "execution_count": 3,
   "id": "2abfcec0",
   "metadata": {},
   "outputs": [
    {
     "name": "stdout",
     "output_type": "stream",
     "text": [
      "a is equal to b\n"
     ]
    }
   ],
   "source": [
    "a, b = 1, 1\n",
    "if a > b: print(\"a is greater than b\")\n",
    "elif a < b: print(\"b is greater than a\")\n",
    "else: print(\"a is equal to b\")"
   ]
  },
  {
   "cell_type": "markdown",
   "id": "3e7b3e63",
   "metadata": {},
   "source": [
    "# Short Hand If Else\n",
    "\n",
    "If you have only one statement to execute, one for if, and one for else, you can put it all on the same line:"
   ]
  },
  {
   "cell_type": "code",
   "execution_count": null,
   "id": "fdf209cc",
   "metadata": {},
   "outputs": [],
   "source": [
    "a = 2\n",
    "b = 330\n",
    "print(\"A\") if a > b else print(\"B\")"
   ]
  },
  {
   "cell_type": "markdown",
   "id": "47631100",
   "metadata": {},
   "source": [
    "This technique is known as Ternary Operators, or Conditional Expressions.\n",
    "You can also have multiple else statements on the same line:"
   ]
  },
  {
   "cell_type": "code",
   "execution_count": null,
   "id": "cd31d329",
   "metadata": {},
   "outputs": [],
   "source": [
    "a = 330\n",
    "b = 330\n",
    "print(\"A\") if a > b else print(\"=\") if a == b else print(\"B\")"
   ]
  },
  {
   "cell_type": "code",
   "execution_count": 7,
   "id": "acdcc84b",
   "metadata": {},
   "outputs": [
    {
     "name": "stdout",
     "output_type": "stream",
     "text": [
      "0\n"
     ]
    }
   ],
   "source": [
    "a, b = 1, 0\n",
    "print(a if b else b)"
   ]
  },
  {
   "cell_type": "markdown",
   "id": "91937483",
   "metadata": {},
   "source": [
    "# Nested If\n",
    "\n",
    "You can have if statements inside if statements, this is called nested if statements."
   ]
  },
  {
   "cell_type": "code",
   "execution_count": null,
   "id": "9247874d",
   "metadata": {},
   "outputs": [],
   "source": [
    "x = 41\n",
    "\n",
    "if x > 10:\n",
    "    print(\"Above ten,\")\n",
    "    if x > 20:\n",
    "        print(\"and also above 20!\")\n",
    "    else:\n",
    "        print(\"but not above 20.\")"
   ]
  },
  {
   "cell_type": "markdown",
   "id": "d41c2939",
   "metadata": {},
   "source": [
    "# The pass Statement\n",
    "\n",
    "if statements cannot be empty, but if you for some reason have an if statement with no content, put in the pass statement to avoid getting an error.\n",
    "Example"
   ]
  },
  {
   "cell_type": "code",
   "execution_count": 5,
   "id": "75730839-0bf0-42da-a804-19ed8d7159d0",
   "metadata": {},
   "outputs": [
    {
     "ename": "SyntaxError",
     "evalue": "incomplete input (1783495760.py, line 4)",
     "output_type": "error",
     "traceback": [
      "\u001b[1;36m  Cell \u001b[1;32mIn [5], line 4\u001b[1;36m\u001b[0m\n\u001b[1;33m    if b > a:\u001b[0m\n\u001b[1;37m             ^\u001b[0m\n\u001b[1;31mSyntaxError\u001b[0m\u001b[1;31m:\u001b[0m incomplete input\n"
     ]
    }
   ],
   "source": [
    "a = 33\n",
    "b = 200\n",
    "\n",
    "if b > a:\n",
    "    pass"
   ]
  },
  {
   "cell_type": "code",
   "execution_count": null,
   "id": "91a4b24e-ffc3-42a7-9304-56081bb74e5f",
   "metadata": {},
   "outputs": [],
   "source": [
    "player1 = \"r\"\n",
    "player2 = \"p\"\n",
    "\n",
    "if not player1 == player2:\n",
    "    if player1 == \"r\":\n",
    "        if player2 == \"p\":\n",
    "            print(\"player 2 won\")\n",
    "        else:\n",
    "            print(\"player 1 won\")\n",
    "    elif player1 == \"s\":\n",
    "        if player2 == \"r\":\n",
    "            print(\"player 2 won\")\n",
    "        else:\n",
    "            print(\"player 1 won\")\n",
    "    else:\n",
    "        if player2 == \"s\":\n",
    "            print(\"player 2 won\")\n",
    "        else:\n",
    "            print(\"player 1 won\")\n",
    "else:\n",
    "    print(\"draw\")"
   ]
  }
 ],
 "metadata": {
  "kernelspec": {
   "display_name": "Python 3 (ipykernel)",
   "language": "python",
   "name": "python3"
  },
  "language_info": {
   "codemirror_mode": {
    "name": "ipython",
    "version": 3
   },
   "file_extension": ".py",
   "mimetype": "text/x-python",
   "name": "python",
   "nbconvert_exporter": "python",
   "pygments_lexer": "ipython3",
   "version": "3.11.0"
  }
 },
 "nbformat": 4,
 "nbformat_minor": 5
}
