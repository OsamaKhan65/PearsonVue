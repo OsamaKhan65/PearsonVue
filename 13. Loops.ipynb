{
 "cells": [
  {
   "cell_type": "markdown",
   "id": "05f37486",
   "metadata": {},
   "source": [
    "# Loops\n",
    "In programming when we want to repeat a set of instructinons over and over we use loops. In python there are two types of loops:\n",
    "1. While Loop\n",
    "2. For Loop\n",
    "\n",
    "# While Loop\n",
    "We use while loop when we have to repeat the set of instructions unless the condition is True. Think of it as an if statement which only runs once if the condition is True. Whereas while checks the same condition after executing the instructinons each time unless it becomes False. Its syntax is:"
   ]
  },
  {
   "cell_type": "raw",
   "id": "4234e170",
   "metadata": {},
   "source": [
    "while <condition>:\n",
    "    <code>"
   ]
  },
  {
   "cell_type": "markdown",
   "id": "1054541f",
   "metadata": {},
   "source": [
    "There are two important things to ensure while using while loop:\n",
    "1. The variables used in the condition should be declared before while loop.\n",
    "2. Make sure that the condition will eventually be false, to avoid being stuck in an infinite Loop.\n",
    "Below is a code that prints number 1-5 using while loop:"
   ]
  },
  {
   "cell_type": "code",
   "execution_count": 1,
   "id": "c368cb47",
   "metadata": {},
   "outputs": [],
   "source": [
    "i = 1\n",
    "while i >= 5:\n",
    "    print(i)\n",
    "    i += 1"
   ]
  },
  {
   "cell_type": "code",
   "execution_count": 2,
   "id": "d51aa9c9",
   "metadata": {},
   "outputs": [
    {
     "name": "stdout",
     "output_type": "stream",
     "text": [
      "6\n"
     ]
    }
   ],
   "source": [
    "print(i)"
   ]
  },
  {
   "cell_type": "markdown",
   "id": "1f7f9cfc",
   "metadata": {},
   "source": [
    "# Infinite Loop \n",
    "It is very easy to get trapped in an infinite loop when using while. Which means that you give a condition that will never be False and the loop keeps on running."
   ]
  },
  {
   "cell_type": "code",
   "execution_count": 3,
   "id": "2a01403a",
   "metadata": {},
   "outputs": [
    {
     "ename": "KeyboardInterrupt",
     "evalue": "",
     "output_type": "error",
     "traceback": [
      "\u001b[1;31m---------------------------------------------------------------------------\u001b[0m",
      "\u001b[1;31mKeyboardInterrupt\u001b[0m                         Traceback (most recent call last)",
      "Cell \u001b[1;32mIn [3], line 1\u001b[0m\n\u001b[1;32m----> 1\u001b[0m \u001b[38;5;28;01mwhile\u001b[39;00m \u001b[38;5;28;01mTrue\u001b[39;00m:\n\u001b[0;32m      2\u001b[0m     \u001b[38;5;28;01mpass\u001b[39;00m\n",
      "\u001b[1;31mKeyboardInterrupt\u001b[0m: "
     ]
    }
   ],
   "source": [
    "while True:\n",
    "    pass"
   ]
  },
  {
   "cell_type": "markdown",
   "id": "0615bff6",
   "metadata": {},
   "source": []
  },
  {
   "cell_type": "code",
   "execution_count": null,
   "id": "0cee7628",
   "metadata": {},
   "outputs": [],
   "source": []
  },
  {
   "cell_type": "code",
   "execution_count": null,
   "id": "fc972943",
   "metadata": {},
   "outputs": [],
   "source": []
  },
  {
   "cell_type": "code",
   "execution_count": null,
   "id": "db95d216",
   "metadata": {},
   "outputs": [],
   "source": []
  },
  {
   "cell_type": "markdown",
   "id": "edb97317",
   "metadata": {},
   "source": [
    "# Break Keyword\n",
    "Using the break keyword we can stop the loop even if the while condition is true.\n",
    "\n",
    "Let's write a code that finds the lowest multiple of numbers till 100, and skips the prime numbers."
   ]
  },
  {
   "cell_type": "code",
   "execution_count": 4,
   "id": "9f376210",
   "metadata": {},
   "outputs": [
    {
     "name": "stdout",
     "output_type": "stream",
     "text": [
      "4 is a multiple of 2\n",
      "6 is a multiple of 2\n",
      "8 is a multiple of 2\n",
      "9 is a multiple of 3\n",
      "10 is a multiple of 2\n",
      "12 is a multiple of 2\n",
      "14 is a multiple of 2\n",
      "15 is a multiple of 3\n",
      "16 is a multiple of 2\n",
      "18 is a multiple of 2\n",
      "20 is a multiple of 2\n",
      "21 is a multiple of 3\n",
      "22 is a multiple of 2\n",
      "24 is a multiple of 2\n",
      "25 is a multiple of 5\n",
      "26 is a multiple of 2\n",
      "27 is a multiple of 3\n",
      "28 is a multiple of 2\n",
      "30 is a multiple of 2\n",
      "32 is a multiple of 2\n",
      "33 is a multiple of 3\n",
      "34 is a multiple of 2\n",
      "35 is a multiple of 5\n",
      "36 is a multiple of 2\n",
      "38 is a multiple of 2\n",
      "39 is a multiple of 3\n",
      "40 is a multiple of 2\n",
      "42 is a multiple of 2\n",
      "44 is a multiple of 2\n",
      "45 is a multiple of 3\n",
      "46 is a multiple of 2\n",
      "48 is a multiple of 2\n",
      "49 is a multiple of 7\n",
      "50 is a multiple of 2\n",
      "51 is a multiple of 3\n",
      "52 is a multiple of 2\n",
      "54 is a multiple of 2\n",
      "55 is a multiple of 5\n",
      "56 is a multiple of 2\n",
      "57 is a multiple of 3\n",
      "58 is a multiple of 2\n",
      "60 is a multiple of 2\n",
      "62 is a multiple of 2\n",
      "63 is a multiple of 3\n",
      "64 is a multiple of 2\n",
      "65 is a multiple of 5\n",
      "66 is a multiple of 2\n",
      "68 is a multiple of 2\n",
      "69 is a multiple of 3\n",
      "70 is a multiple of 2\n",
      "72 is a multiple of 2\n",
      "74 is a multiple of 2\n",
      "75 is a multiple of 3\n",
      "76 is a multiple of 2\n",
      "77 is a multiple of 7\n",
      "78 is a multiple of 2\n",
      "80 is a multiple of 2\n",
      "81 is a multiple of 3\n",
      "82 is a multiple of 2\n",
      "84 is a multiple of 2\n",
      "85 is a multiple of 5\n",
      "86 is a multiple of 2\n",
      "87 is a multiple of 3\n",
      "88 is a multiple of 2\n",
      "90 is a multiple of 2\n",
      "91 is a multiple of 7\n",
      "92 is a multiple of 2\n",
      "93 is a multiple of 3\n",
      "94 is a multiple of 2\n",
      "95 is a multiple of 5\n",
      "96 is a multiple of 2\n",
      "98 is a multiple of 2\n",
      "99 is a multiple of 3\n"
     ]
    }
   ],
   "source": [
    "i = 2\n",
    "while i < 100:\n",
    "    n = 2\n",
    "    while n<i:\n",
    "        if i%n == 0:\n",
    "            print(f\"{i} is a multiple of {n}\")\n",
    "            break\n",
    "        n += 1\n",
    "    i += 1"
   ]
  },
  {
   "cell_type": "markdown",
   "id": "8b4c8493",
   "metadata": {},
   "source": [
    "Please note that the break keyword breaks out of one loop not all. It didn't terminated the outer loop.\n",
    "\n",
    "# Continue Keyword\n",
    "With the continue statement we can end the current iteration, and continue with the next.\n",
    "\n",
    "Let's rewrite the above code so that it skips the multiples of 2 as well, because we know that an even number can never be a prime number except if it is 2."
   ]
  },
  {
   "cell_type": "code",
   "execution_count": 5,
   "id": "049112d0",
   "metadata": {},
   "outputs": [
    {
     "name": "stdout",
     "output_type": "stream",
     "text": [
      "9 is a multiple of 3\n",
      "15 is a multiple of 3\n",
      "21 is a multiple of 3\n",
      "25 is a multiple of 5\n",
      "27 is a multiple of 3\n",
      "33 is a multiple of 3\n",
      "35 is a multiple of 5\n",
      "39 is a multiple of 3\n",
      "45 is a multiple of 3\n",
      "49 is a multiple of 7\n",
      "51 is a multiple of 3\n",
      "55 is a multiple of 5\n",
      "57 is a multiple of 3\n",
      "63 is a multiple of 3\n",
      "65 is a multiple of 5\n",
      "69 is a multiple of 3\n",
      "75 is a multiple of 3\n",
      "77 is a multiple of 7\n",
      "81 is a multiple of 3\n",
      "85 is a multiple of 5\n",
      "87 is a multiple of 3\n",
      "91 is a multiple of 7\n",
      "93 is a multiple of 3\n",
      "95 is a multiple of 5\n",
      "99 is a multiple of 3\n"
     ]
    }
   ],
   "source": [
    "i = 2\n",
    "while i < 100:\n",
    "    if i%2 == 0 and i != 2:\n",
    "        i += 1\n",
    "        continue\n",
    "    n = 2        \n",
    "    while n<i:\n",
    "        if i%n == 0:\n",
    "            print(f\"{i} is a multiple of {n}\")\n",
    "            break\n",
    "        n += 1\n",
    "    i += 1"
   ]
  },
  {
   "cell_type": "markdown",
   "id": "5bee392d",
   "metadata": {},
   "source": [
    "# Else Statement\n",
    "Unlike when copled with if statement else statement will only run a block of code if the while loop ends because of the condition and not by the break keyword.\n",
    "\n",
    "Now, let's change the code to print the prime numbers only. To tell if the number is prime we have to check if there is any number that perfectly divides it except 1 and itself."
   ]
  },
  {
   "cell_type": "code",
   "execution_count": 6,
   "id": "eb6a393f",
   "metadata": {},
   "outputs": [
    {
     "name": "stdout",
     "output_type": "stream",
     "text": [
      "2 is a prime number\n",
      "3 is a prime number\n",
      "5 is a prime number\n",
      "7 is a prime number\n",
      "11 is a prime number\n",
      "13 is a prime number\n",
      "17 is a prime number\n",
      "19 is a prime number\n",
      "23 is a prime number\n",
      "29 is a prime number\n",
      "31 is a prime number\n",
      "37 is a prime number\n",
      "41 is a prime number\n",
      "43 is a prime number\n",
      "47 is a prime number\n",
      "53 is a prime number\n",
      "59 is a prime number\n",
      "61 is a prime number\n",
      "67 is a prime number\n",
      "71 is a prime number\n",
      "73 is a prime number\n",
      "79 is a prime number\n",
      "83 is a prime number\n",
      "89 is a prime number\n",
      "97 is a prime number\n"
     ]
    }
   ],
   "source": [
    "i = 2\n",
    "while i < 100:\n",
    "    if i%2 == 0 and i != 2:\n",
    "        i += 1\n",
    "        continue\n",
    "    n = 2        \n",
    "    while n<i:\n",
    "        if i%n == 0:\n",
    "            break\n",
    "        n += 1\n",
    "    else:\n",
    "        print(f\"{i} is a prime number\")\n",
    "    i += 1"
   ]
  },
  {
   "cell_type": "markdown",
   "id": "e1de9664",
   "metadata": {},
   "source": [
    "# DIY\n",
    "1. Write a code that finds the smallest perfect cube."
   ]
  },
  {
   "cell_type": "code",
   "execution_count": null,
   "id": "8b2e160f",
   "metadata": {},
   "outputs": [],
   "source": []
  },
  {
   "cell_type": "markdown",
   "id": "08556e2e",
   "metadata": {},
   "source": [
    "2. Change anything in the code below to make the loop an infinite one, except for the condition."
   ]
  },
  {
   "cell_type": "code",
   "execution_count": 7,
   "id": "2f7e99a0",
   "metadata": {},
   "outputs": [
    {
     "name": "stdout",
     "output_type": "stream",
     "text": [
      "1\n",
      "2\n",
      "3\n",
      "4\n",
      "5\n"
     ]
    }
   ],
   "source": [
    "i = 1\n",
    "while i <= 5: # <- Do not change this line\n",
    "    print(i)\n",
    "    i += 1"
   ]
  },
  {
   "cell_type": "code",
   "execution_count": null,
   "id": "3ca97da4",
   "metadata": {},
   "outputs": [],
   "source": []
  }
 ],
 "metadata": {
  "kernelspec": {
   "display_name": "Python 3 (ipykernel)",
   "language": "python",
   "name": "python3"
  },
  "language_info": {
   "codemirror_mode": {
    "name": "ipython",
    "version": 3
   },
   "file_extension": ".py",
   "mimetype": "text/x-python",
   "name": "python",
   "nbconvert_exporter": "python",
   "pygments_lexer": "ipython3",
   "version": "3.11.0"
  }
 },
 "nbformat": 4,
 "nbformat_minor": 5
}
