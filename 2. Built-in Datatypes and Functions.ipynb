{
 "cells": [
  {
   "cell_type": "markdown",
   "id": "f9a998cb",
   "metadata": {},
   "source": [
    "# Built-in Datatypes\n",
    "\n",
    "In programming, data type is an important concept. Variables can store data of different types, and different types have different properties and can do different things.\n",
    "\n",
    "Python has the following data types built-in by default, in these categories: (We will study most of these datatypes in depth, along with their properties and usage.)\n",
    "\n",
    "|Category|DataType|Syntax|\n",
    "|:-------|:-------|:-----|\n",
    "|Text|str|x = \"Hello World\"|\n",
    "|Numeric|int|x = 20|\n",
    "|Numeric|float|x = 20.5|\n",
    "|Numeric|complex|x = 1j|\n",
    "|Sequence|list|x = [\"apple\", \"banana\", \"cherry\"]|\n",
    "|Sequence|tuple|x = (\"apple\", \"banana\", \"cherry\")|\n",
    "|Sequence|range|x = range(6)|\n",
    "|Mapping|dict|x = {\"name\" : \"John\", \"age\" : 36}|\n",
    "|Set|set|x = {\"apple\", \"banana\", \"cherry\"}|\n",
    "|Set|frozenset|x = frozenset({\"apple\", \"banana\", \"cherry\"})|\n",
    "|Boolean|bool|x = True|\n",
    "|Binary|bytes|x = b\"Hello\"|\n",
    "|Binary|bytearray|x = bytearray(5)|\n",
    "|Binary|memoryview|x = memoryview(bytes(5))|\n",
    "|None|NoneType|x = None|\n",
    "\n",
    "PS: There are other datatypes as well that are not built-into python."
   ]
  },
  {
   "cell_type": "markdown",
   "id": "8f2f57e3",
   "metadata": {},
   "source": [
    "# Built-in Functions\n",
    "\n",
    "There are certain things that are done so frequently used like finding sum of numbers or the maximum value or certain commands that are too hard as they require low-level programming like taking input from user or printing something on console. So their code is written into python, so that you don't have to write it again and again. You don't even have to know how it is written or works, you can just call them by name and use those functions. These are called built-in functions.\n",
    "\n",
    "Following is the list of all the built-in function in python grouped by their usage: (This is just to let you know that these exists, we will study most of them in depth later in this course.)"
   ]
  },
  {
   "cell_type": "markdown",
   "id": "4f6eff20",
   "metadata": {},
   "source": [
    "#### Basic Functions:\n",
    "These are some of the most basic and useful functions in python that we will study first."
   ]
  },
  {
   "cell_type": "raw",
   "id": "5954c48e",
   "metadata": {},
   "source": [
    "help()\t# Executes the built-in help system\n",
    "print()\t# Prints to the standard output device\n",
    "type()\t# Returns the type of an object\n",
    "input()\t# Allowing user input"
   ]
  },
  {
   "cell_type": "markdown",
   "id": "cbf803c4",
   "metadata": {},
   "source": [
    "#### Type Casting Functions:\n",
    "These functions are used to switch between the datatypes. We will study some of them with their respective datatypes."
   ]
  },
  {
   "cell_type": "raw",
   "id": "60bae1c3",
   "metadata": {},
   "source": [
    "int()\t    # Returns an integer number\n",
    "float()\t    # Returns a floating point number\n",
    "complex()   # Returns a complex number\n",
    "frozenset() # Returns a frozenset object\n",
    "list()      # Returns a list\n",
    "range()\t    # Returns a sequence of numbers, starting from 0 and increments by 1 (by default)\n",
    "set()\t    # Returns a new set object\n",
    "str()\t    # Returns a string object\n",
    "tuple()\t    # Returns a tuple\n",
    "dict()\t    # Returns a dictionary (Array)\n",
    "bool()\t    # Returns the boolean value of the specified object\n",
    "bytearray() # Returns an array of bytes\n",
    "bytes()\t    # Returns a bytes object\n",
    "memoryview()# Returns a memory view object"
   ]
  },
  {
   "cell_type": "markdown",
   "id": "3632e383",
   "metadata": {},
   "source": [
    "#### Mathematical Functions:\n",
    "These are the functions that are used to perform some mathematical calculations. We will study them along with integer and float datatypes."
   ]
  },
  {
   "cell_type": "raw",
   "id": "5ed9113c",
   "metadata": {},
   "source": [
    "abs()\t# Returns the absolute value of a number\n",
    "divmod()# Returns the quotient and the remainder when argument1 is divided by argument2\n",
    "max()\t# Returns the largest item in an iterable\n",
    "min()\t# Returns the smallest item in an iterable\n",
    "pow()\t# Returns the value of x to the power of y\n",
    "round()\t# Rounds a numbers\n",
    "sum()\t# Sums the items of an iterator"
   ]
  },
  {
   "cell_type": "markdown",
   "id": "e64b35ab",
   "metadata": {},
   "source": [
    "#### Boolean Functions:\n",
    "These are functions used in boolean calculations. We will study them with boolean datatype."
   ]
  },
  {
   "cell_type": "raw",
   "id": "697936d4",
   "metadata": {},
   "source": [
    "all()\t# Returns True if all items in an iterable object are true\n",
    "any()\t# Returns True if any item in an iterable object is true"
   ]
  },
  {
   "cell_type": "markdown",
   "id": "e01701eb",
   "metadata": {},
   "source": [
    "#### String Functions:\n",
    "These functions are used to perform string operations. We will study about most of them with string datatype."
   ]
  },
  {
   "cell_type": "raw",
   "id": "b59ce775",
   "metadata": {},
   "source": [
    "format()# Formats a specified value\n",
    "repr()\t# Returns a readable version of an object\n",
    "ascii()\t# Returns a readable version of an object. Replaces none-ascii characters with escape character\n",
    "chr()\t# Returns a character from the specified Unicode code.\n",
    "ord()\t# Convert an integer representing the Unicode of the specified character\n",
    "hash()\t# Returns the hash value of a specified object"
   ]
  },
  {
   "cell_type": "markdown",
   "id": "c3a8deae",
   "metadata": {},
   "source": [
    "#### Iterable Functions:\n",
    "These are the functions that can be applied to all iterables. We will study most of them with lists and loops."
   ]
  },
  {
   "cell_type": "raw",
   "id": "59058ff5",
   "metadata": {},
   "source": [
    "len()\t    # Returns the length of an object\n",
    "enumerate()\t# Takes a collection (e.g. a tuple) and returns it as an enumerate object\n",
    "zip()\t    # Returns an iterator, from two or more iterators\n",
    "map()\t    # Returns the specified iterator with the specified function applied to each item\n",
    "filter()\t# Use a filter function to exclude items in an iterable object\n",
    "reversed()\t# Returns a reversed iterator\n",
    "slice()\t    # Returns a slice object\n",
    "sorted()\t# Returns a sorted list"
   ]
  },
  {
   "cell_type": "markdown",
   "id": "10080b95",
   "metadata": {},
   "source": [
    "#### Execute Functions:\n",
    "These functions are used to execute code from within the code. We will only study about eval function along with string datatype."
   ]
  },
  {
   "cell_type": "raw",
   "id": "a34a6a51",
   "metadata": {},
   "source": [
    "compile()\t# Returns the specified source as an object, ready to be executed\n",
    "eval()\t    # Evaluates and executes an expression\n",
    "exec()\t    # Executes the specified code (or object)"
   ]
  },
  {
   "cell_type": "markdown",
   "id": "4c64e4b0",
   "metadata": {},
   "source": [
    "#### File Functions:\n",
    "This function is used to open a file for reading or writing. We will study about it along with manipulating files using python."
   ]
  },
  {
   "cell_type": "raw",
   "id": "12facaf9",
   "metadata": {},
   "source": [
    "open()\t# Opens a file and returns a file object"
   ]
  },
  {
   "cell_type": "markdown",
   "id": "35dec38f",
   "metadata": {},
   "source": [
    "#### Number System Functions:\n",
    "These funtions are used to convert decimal numbers into different number systems. We won't be studying them. Although, if you are already fimiliar with number systems these are pretty straightforward to use."
   ]
  },
  {
   "cell_type": "raw",
   "id": "3bfd1715",
   "metadata": {},
   "source": [
    "bin()\t# Returns the binary version of a number\n",
    "hex()\t# Converts a number into a hexadecimal value\n",
    "oct()\t# Converts a number into an octal"
   ]
  },
  {
   "cell_type": "markdown",
   "id": "f65aeadc",
   "metadata": {},
   "source": [
    "#### Variable Functions:\n",
    "These functions are used to get the information adout all the variables declared and the libraries imported by the code. We will not study about these functions in this course."
   ]
  },
  {
   "cell_type": "raw",
   "id": "a53d4e3c",
   "metadata": {},
   "source": [
    "globals()\t# Returns the current global symbol table as a dictionary\n",
    "locals()\t# Returns an updated dictionary of the current local symbol table"
   ]
  },
  {
   "cell_type": "markdown",
   "id": "28deddc5",
   "metadata": {},
   "source": [
    "#### Iterator Functions:\n",
    "These functions are used to create iterators (different from iterables) and iterate over them. We will not study about them in our course."
   ]
  },
  {
   "cell_type": "raw",
   "id": "00c4c9e1",
   "metadata": {},
   "source": [
    "iter()\t    # Returns an iterator object\n",
    "next()\t    # Returns the next item in an iterable"
   ]
  },
  {
   "cell_type": "markdown",
   "id": "8424c4f5",
   "metadata": {},
   "source": [
    "#### Objsct Oriented Functions:\n",
    "These functions are used when writing objest-oriented code. We won't be studying any of these functions."
   ]
  },
  {
   "cell_type": "raw",
   "id": "5d482cec",
   "metadata": {},
   "source": [
    "classmethod()\t# Converts a method into a class method\n",
    "isinstance()\t# Returns True if a specified object is an instance of a specified object\n",
    "issubclass()\t# Returns True if a specified class is a subclass of a specified object\n",
    "object()\t    # Returns a new object\n",
    "property()\t    # Gets, sets, deletes a property\n",
    "callable()\t    # Returns True if the specified object is callable, otherwise False\n",
    "dir()\t        # Returns a list of the specified object's properties and methods\n",
    "staticmethod()\t# Converts a method into a static method\n",
    "super()         # Returns an object that represents the parent class\n",
    "vars()\t        # Returns the __dict__ property of an object\n",
    "id()\t        # Returns the id of an object"
   ]
  },
  {
   "cell_type": "markdown",
   "id": "db4e96c7",
   "metadata": {},
   "source": [
    "#### Attribute Functions:\n",
    "These functions are used to manipulate the attributes of objects when doing object-oriented programming. We will not study about them."
   ]
  },
  {
   "cell_type": "raw",
   "id": "ab87fc0a",
   "metadata": {},
   "source": [
    "getattr()\t# Returns the value of the specified attribute (property or method)\n",
    "setattr()\t# Sets an attribute (property/method) of an object\n",
    "delattr()\t# Deletes the specified attribute (property or method) from the specified object\n",
    "hasattr()\t# Returns True if the specified object has the specified attribute (property/method)"
   ]
  },
  {
   "cell_type": "markdown",
   "id": "e77d10fe",
   "metadata": {},
   "source": [
    "# Functions:\n",
    "The syntax of any function in python is to write the name of the function followed by a pair of paranthesis (round brackets) and inside those paranthesis you can pass the arguments seperated by commas. This is known as calling a function."
   ]
  },
  {
   "cell_type": "raw",
   "id": "4202a747",
   "metadata": {},
   "source": [
    "function(argument1, argument2)"
   ]
  },
  {
   "cell_type": "markdown",
   "id": "e95a1eb2",
   "metadata": {},
   "source": [
    "# Rules for Calling Functions:\n",
    "1. Depending on the function it might or might not need any arguments.\n",
    "2. Incase it doesn't need any arguments you can leave the paranthesis empty.\n",
    "3. Argument is a variable that a function might need to perform the operation.\n",
    "4. If you entered wrong number of arguments when calling a function it will give an error.\n",
    "5. There are certain functions that can take any number of arguments.\n",
    "6. You might also need to make sure that the type of argument is also valid.\n",
    "7. Some functions can also have default arguments which it uses when no value is assigned for that argument."
   ]
  },
  {
   "cell_type": "markdown",
   "id": "f3fe638a",
   "metadata": {},
   "source": [
    "### help()\n",
    "Help function is used to ask help regarding anything in python. You can call this function and write the class, object or function as an argument and it will get the documnetation for it. Let's try asking it what the help function do itself:"
   ]
  },
  {
   "cell_type": "code",
   "execution_count": 17,
   "id": "fa419ab4",
   "metadata": {},
   "outputs": [
    {
     "name": "stdout",
     "output_type": "stream",
     "text": [
      "Help on _Helper in module _sitebuiltins object:\n",
      "\n",
      "class _Helper(builtins.object)\n",
      " |  Define the builtin 'help'.\n",
      " |  \n",
      " |  This is a wrapper around pydoc.help that provides a helpful message\n",
      " |  when 'help' is typed at the Python interactive prompt.\n",
      " |  \n",
      " |  Calling help() at the Python prompt starts an interactive help session.\n",
      " |  Calling help(thing) prints help for the python object 'thing'.\n",
      " |  \n",
      " |  Methods defined here:\n",
      " |  \n",
      " |  __call__(self, *args, **kwds)\n",
      " |      Call self as a function.\n",
      " |  \n",
      " |  __repr__(self)\n",
      " |      Return repr(self).\n",
      " |  \n",
      " |  ----------------------------------------------------------------------\n",
      " |  Data descriptors defined here:\n",
      " |  \n",
      " |  __dict__\n",
      " |      dictionary for instance variables (if defined)\n",
      " |  \n",
      " |  __weakref__\n",
      " |      list of weak references to the object (if defined)\n",
      "\n"
     ]
    }
   ],
   "source": [
    "help(help)"
   ]
  },
  {
   "cell_type": "markdown",
   "id": "d981f3fe",
   "metadata": {},
   "source": [
    "So it gives us this answer:\n",
    "\n",
    "\"This is a wrapper around pydoc.help that provides a helpful message when 'help' is typed at the Python interactive prompt.\"\n",
    "\n",
    "And also gives us two ways to call this function. One of them is to pass an argument, which we have seen and the other is calling the function without any argument. If you will just write help() it will ask you what would you like to search."
   ]
  },
  {
   "cell_type": "code",
   "execution_count": 2,
   "id": "f35e1cdd",
   "metadata": {},
   "outputs": [
    {
     "name": "stdout",
     "output_type": "stream",
     "text": [
      "\n",
      "Welcome to Python 3.11's help utility!\n",
      "\n",
      "If this is your first time using Python, you should definitely check out\n",
      "the tutorial on the internet at https://docs.python.org/3.11/tutorial/.\n",
      "\n",
      "Enter the name of any module, keyword, or topic to get help on writing\n",
      "Python programs and using Python modules.  To quit this help utility and\n",
      "return to the interpreter, just type \"quit\".\n",
      "\n",
      "To get a list of available modules, keywords, symbols, or topics, type\n",
      "\"modules\", \"keywords\", \"symbols\", or \"topics\".  Each module also comes\n",
      "with a one-line summary of what it does; to list the modules whose name\n",
      "or summary contain a given string such as \"spam\", type \"modules spam\".\n",
      "\n",
      "help> symbols\n",
      "\n",
      "Here is a list of the punctuation symbols which Python assigns special meaning\n",
      "to. Enter any symbol to get more help.\n",
      "\n",
      "!=                  +                   <=                  __\n",
      "\"                   +=                  <>                  `\n",
      "\"\"\"                 ,                   ==                  b\"\n",
      "%                   -                   >                   b'\n",
      "%=                  -=                  >=                  f\"\n",
      "&                   .                   >>                  f'\n",
      "&=                  ...                 >>=                 j\n",
      "'                   /                   @                   r\"\n",
      "'''                 //                  J                   r'\n",
      "(                   //=                 [                   u\"\n",
      ")                   /=                  \\                   u'\n",
      "*                   :                   ]                   |\n",
      "**                  <                   ^                   |=\n",
      "**=                 <<                  ^=                  ~\n",
      "*=                  <<=                 _                   \n",
      "\n",
      "help> quit\n",
      "\n",
      "You are now leaving help and returning to the Python interpreter.\n",
      "If you want to ask for help on a particular object directly from the\n",
      "interpreter, you can type \"help(object)\".  Executing \"help('string')\"\n",
      "has the same effect as typing a particular string at the help> prompt.\n"
     ]
    }
   ],
   "source": [
    "help()"
   ]
  },
  {
   "cell_type": "markdown",
   "id": "5ebc8999",
   "metadata": {},
   "source": [
    "I searched for the symbols in python, which gave me a list of symbols used in python and waited for another input. It will keep answering querries until you enter quit or if you search for something that it doesn't know about it will give you an error. (We will study some of these symbols)"
   ]
  },
  {
   "cell_type": "code",
   "execution_count": 4,
   "id": "2ec69e24",
   "metadata": {},
   "outputs": [
    {
     "name": "stdout",
     "output_type": "stream",
     "text": [
      "\n",
      "Welcome to Python 3.11's help utility!\n",
      "\n",
      "If this is your first time using Python, you should definitely check out\n",
      "the tutorial on the internet at https://docs.python.org/3.11/tutorial/.\n",
      "\n",
      "Enter the name of any module, keyword, or topic to get help on writing\n",
      "Python programs and using Python modules.  To quit this help utility and\n",
      "return to the interpreter, just type \"quit\".\n",
      "\n",
      "To get a list of available modules, keywords, symbols, or topics, type\n",
      "\"modules\", \"keywords\", \"symbols\", or \"topics\".  Each module also comes\n",
      "with a one-line summary of what it does; to list the modules whose name\n",
      "or summary contain a given string such as \"spam\", type \"modules spam\".\n",
      "\n",
      "help> functions\n"
     ]
    },
    {
     "ename": "ImportError",
     "evalue": "No Python documentation found for 'functions'.\nUse help() to get the interactive help utility.\nUse help(str) for help on the str class.",
     "output_type": "error",
     "traceback": [
      "\u001b[1;31m---------------------------------------------------------------------------\u001b[0m",
      "\u001b[1;31mImportError\u001b[0m                               Traceback (most recent call last)",
      "Cell \u001b[1;32mIn [4], line 1\u001b[0m\n\u001b[1;32m----> 1\u001b[0m \u001b[43mhelp\u001b[49m\u001b[43m(\u001b[49m\u001b[43m)\u001b[49m\n",
      "File \u001b[1;32m<frozen _sitebuiltins>:103\u001b[0m, in \u001b[0;36m__call__\u001b[1;34m(self, *args, **kwds)\u001b[0m\n",
      "File \u001b[1;32m~\\AppData\\Local\\Programs\\Python\\Python311\\Lib\\pydoc.py:2004\u001b[0m, in \u001b[0;36mHelper.__call__\u001b[1;34m(self, request)\u001b[0m\n\u001b[0;32m   2002\u001b[0m         \u001b[38;5;28;01melse\u001b[39;00m:\n\u001b[0;32m   2003\u001b[0m             \u001b[38;5;28mself\u001b[39m\u001b[38;5;241m.\u001b[39mintro()\n\u001b[1;32m-> 2004\u001b[0m             \u001b[38;5;28;43mself\u001b[39;49m\u001b[38;5;241;43m.\u001b[39;49m\u001b[43minteract\u001b[49m\u001b[43m(\u001b[49m\u001b[43m)\u001b[49m\n\u001b[0;32m   2005\u001b[0m             \u001b[38;5;28mself\u001b[39m\u001b[38;5;241m.\u001b[39moutput\u001b[38;5;241m.\u001b[39mwrite(\u001b[38;5;124m'''\u001b[39m\n\u001b[0;32m   2006\u001b[0m \u001b[38;5;124mYou are now leaving help and returning to the Python interpreter.\u001b[39m\n\u001b[0;32m   2007\u001b[0m \u001b[38;5;124mIf you want to ask for help on a particular object directly from the\u001b[39m\n\u001b[0;32m   2008\u001b[0m \u001b[38;5;124minterpreter, you can type \u001b[39m\u001b[38;5;124m\"\u001b[39m\u001b[38;5;124mhelp(object)\u001b[39m\u001b[38;5;124m\"\u001b[39m\u001b[38;5;124m.  Executing \u001b[39m\u001b[38;5;124m\"\u001b[39m\u001b[38;5;124mhelp(\u001b[39m\u001b[38;5;124m'\u001b[39m\u001b[38;5;124mstring\u001b[39m\u001b[38;5;124m'\u001b[39m\u001b[38;5;124m)\u001b[39m\u001b[38;5;124m\"\u001b[39m\n\u001b[0;32m   2009\u001b[0m \u001b[38;5;124mhas the same effect as typing a particular string at the help> prompt.\u001b[39m\n\u001b[0;32m   2010\u001b[0m \u001b[38;5;124m'''\u001b[39m)\n",
      "File \u001b[1;32m~\\AppData\\Local\\Programs\\Python\\Python311\\Lib\\pydoc.py:2031\u001b[0m, in \u001b[0;36mHelper.interact\u001b[1;34m(self)\u001b[0m\n\u001b[0;32m   2029\u001b[0m     \u001b[38;5;28mself\u001b[39m\u001b[38;5;241m.\u001b[39mintro()\n\u001b[0;32m   2030\u001b[0m \u001b[38;5;28;01melse\u001b[39;00m:\n\u001b[1;32m-> 2031\u001b[0m     \u001b[38;5;28;43mself\u001b[39;49m\u001b[38;5;241;43m.\u001b[39;49m\u001b[43mhelp\u001b[49m\u001b[43m(\u001b[49m\u001b[43mrequest\u001b[49m\u001b[43m)\u001b[49m\n",
      "File \u001b[1;32m~\\AppData\\Local\\Programs\\Python\\Python311\\Lib\\pydoc.py:2057\u001b[0m, in \u001b[0;36mHelper.help\u001b[1;34m(self, request)\u001b[0m\n\u001b[0;32m   2055\u001b[0m     \u001b[38;5;28;01melif\u001b[39;00m request \u001b[38;5;129;01min\u001b[39;00m \u001b[38;5;28mself\u001b[39m\u001b[38;5;241m.\u001b[39mkeywords: \u001b[38;5;28mself\u001b[39m\u001b[38;5;241m.\u001b[39mshowtopic(request)\n\u001b[0;32m   2056\u001b[0m     \u001b[38;5;28;01melif\u001b[39;00m request \u001b[38;5;129;01min\u001b[39;00m \u001b[38;5;28mself\u001b[39m\u001b[38;5;241m.\u001b[39mtopics: \u001b[38;5;28mself\u001b[39m\u001b[38;5;241m.\u001b[39mshowtopic(request)\n\u001b[1;32m-> 2057\u001b[0m     \u001b[38;5;28;01melif\u001b[39;00m request: \u001b[43mdoc\u001b[49m\u001b[43m(\u001b[49m\u001b[43mrequest\u001b[49m\u001b[43m,\u001b[49m\u001b[43m \u001b[49m\u001b[38;5;124;43m'\u001b[39;49m\u001b[38;5;124;43mHelp on \u001b[39;49m\u001b[38;5;132;43;01m%s\u001b[39;49;00m\u001b[38;5;124;43m:\u001b[39;49m\u001b[38;5;124;43m'\u001b[39;49m\u001b[43m,\u001b[49m\u001b[43m \u001b[49m\u001b[43moutput\u001b[49m\u001b[38;5;241;43m=\u001b[39;49m\u001b[38;5;28;43mself\u001b[39;49m\u001b[38;5;241;43m.\u001b[39;49m\u001b[43m_output\u001b[49m\u001b[43m)\u001b[49m\n\u001b[0;32m   2058\u001b[0m     \u001b[38;5;28;01melse\u001b[39;00m: doc(\u001b[38;5;28mstr\u001b[39m, \u001b[38;5;124m'\u001b[39m\u001b[38;5;124mHelp on \u001b[39m\u001b[38;5;132;01m%s\u001b[39;00m\u001b[38;5;124m:\u001b[39m\u001b[38;5;124m'\u001b[39m, output\u001b[38;5;241m=\u001b[39m\u001b[38;5;28mself\u001b[39m\u001b[38;5;241m.\u001b[39m_output)\n\u001b[0;32m   2059\u001b[0m \u001b[38;5;28;01melif\u001b[39;00m \u001b[38;5;28misinstance\u001b[39m(request, Helper): \u001b[38;5;28mself\u001b[39m()\n",
      "File \u001b[1;32m~\\AppData\\Local\\Programs\\Python\\Python311\\Lib\\pydoc.py:1784\u001b[0m, in \u001b[0;36mdoc\u001b[1;34m(thing, title, forceload, output)\u001b[0m\n\u001b[0;32m   1782\u001b[0m \u001b[38;5;124;03m\"\"\"Display text documentation, given an object or a path to an object.\"\"\"\u001b[39;00m\n\u001b[0;32m   1783\u001b[0m \u001b[38;5;28;01mif\u001b[39;00m output \u001b[38;5;129;01mis\u001b[39;00m \u001b[38;5;28;01mNone\u001b[39;00m:\n\u001b[1;32m-> 1784\u001b[0m     pager(\u001b[43mrender_doc\u001b[49m\u001b[43m(\u001b[49m\u001b[43mthing\u001b[49m\u001b[43m,\u001b[49m\u001b[43m \u001b[49m\u001b[43mtitle\u001b[49m\u001b[43m,\u001b[49m\u001b[43m \u001b[49m\u001b[43mforceload\u001b[49m\u001b[43m)\u001b[49m)\n\u001b[0;32m   1785\u001b[0m \u001b[38;5;28;01melse\u001b[39;00m:\n\u001b[0;32m   1786\u001b[0m     output\u001b[38;5;241m.\u001b[39mwrite(render_doc(thing, title, forceload, plaintext))\n",
      "File \u001b[1;32m~\\AppData\\Local\\Programs\\Python\\Python311\\Lib\\pydoc.py:1758\u001b[0m, in \u001b[0;36mrender_doc\u001b[1;34m(thing, title, forceload, renderer)\u001b[0m\n\u001b[0;32m   1756\u001b[0m \u001b[38;5;28;01mif\u001b[39;00m renderer \u001b[38;5;129;01mis\u001b[39;00m \u001b[38;5;28;01mNone\u001b[39;00m:\n\u001b[0;32m   1757\u001b[0m     renderer \u001b[38;5;241m=\u001b[39m text\n\u001b[1;32m-> 1758\u001b[0m \u001b[38;5;28mobject\u001b[39m, name \u001b[38;5;241m=\u001b[39m \u001b[43mresolve\u001b[49m\u001b[43m(\u001b[49m\u001b[43mthing\u001b[49m\u001b[43m,\u001b[49m\u001b[43m \u001b[49m\u001b[43mforceload\u001b[49m\u001b[43m)\u001b[49m\n\u001b[0;32m   1759\u001b[0m desc \u001b[38;5;241m=\u001b[39m describe(\u001b[38;5;28mobject\u001b[39m)\n\u001b[0;32m   1760\u001b[0m module \u001b[38;5;241m=\u001b[39m inspect\u001b[38;5;241m.\u001b[39mgetmodule(\u001b[38;5;28mobject\u001b[39m)\n",
      "File \u001b[1;32m~\\AppData\\Local\\Programs\\Python\\Python311\\Lib\\pydoc.py:1744\u001b[0m, in \u001b[0;36mresolve\u001b[1;34m(thing, forceload)\u001b[0m\n\u001b[0;32m   1742\u001b[0m         \u001b[38;5;28mobject\u001b[39m \u001b[38;5;241m=\u001b[39m locate(thing, forceload)\n\u001b[0;32m   1743\u001b[0m         \u001b[38;5;28;01mif\u001b[39;00m \u001b[38;5;28mobject\u001b[39m \u001b[38;5;129;01mis\u001b[39;00m \u001b[38;5;28;01mNone\u001b[39;00m:\n\u001b[1;32m-> 1744\u001b[0m             \u001b[38;5;28;01mraise\u001b[39;00m \u001b[38;5;167;01mImportError\u001b[39;00m(\u001b[38;5;124m'''\u001b[39m\u001b[38;5;130;01m\\\u001b[39;00m\n\u001b[0;32m   1745\u001b[0m \u001b[38;5;124mNo Python documentation found for \u001b[39m\u001b[38;5;132;01m%r\u001b[39;00m\u001b[38;5;124m.\u001b[39m\n\u001b[0;32m   1746\u001b[0m \u001b[38;5;124mUse help() to get the interactive help utility.\u001b[39m\n\u001b[0;32m   1747\u001b[0m \u001b[38;5;124mUse help(str) for help on the str class.\u001b[39m\u001b[38;5;124m'''\u001b[39m \u001b[38;5;241m%\u001b[39m thing)\n\u001b[0;32m   1748\u001b[0m         \u001b[38;5;28;01mreturn\u001b[39;00m \u001b[38;5;28mobject\u001b[39m, thing\n\u001b[0;32m   1749\u001b[0m     \u001b[38;5;28;01melse\u001b[39;00m:\n",
      "\u001b[1;31mImportError\u001b[0m: No Python documentation found for 'functions'.\nUse help() to get the interactive help utility.\nUse help(str) for help on the str class."
     ]
    }
   ],
   "source": [
    "help()"
   ]
  },
  {
   "cell_type": "markdown",
   "id": "567b0b77",
   "metadata": {},
   "source": [
    "This is what an error looks like in python. You are going to expirience a lot of errors durring coding. It is not always a bad thing to have an error, you just have to know how to deal with them. The first thing you have to do is ignore the whole error and focus on the last part which is in red and bold. That is the type of error, which in this case is an ImportError. It might not always be self explanatory so have to look at the description which is the most helpful part when trying to resolve the error. In this case it clearly says that \"No python documentation found for 'functions'.\n",
    "\n",
    "Let's say you wanted to use help(), but you forgot the paranthesis. This is what's going to happen:"
   ]
  },
  {
   "cell_type": "code",
   "execution_count": 5,
   "id": "456e510b",
   "metadata": {},
   "outputs": [
    {
     "data": {
      "text/plain": [
       "Type help() for interactive help, or help(object) for help about object."
      ]
     },
     "execution_count": 5,
     "metadata": {},
     "output_type": "execute_result"
    }
   ],
   "source": [
    "help"
   ]
  },
  {
   "cell_type": "markdown",
   "id": "ab017156",
   "metadata": {},
   "source": [
    "It didn't work like it was supposed to, but it gave you a hint about how to properly call the function. This might not always happen. So it is best to always use paranthesis unless searching for the function using help().\n",
    "\n",
    "### print()\n",
    "This is arguably the most used function in python."
   ]
  },
  {
   "cell_type": "code",
   "execution_count": null,
   "id": "ae2153b4",
   "metadata": {},
   "outputs": [],
   "source": []
  }
 ],
 "metadata": {
  "kernelspec": {
   "display_name": "Python 3 (ipykernel)",
   "language": "python",
   "name": "python3"
  },
  "language_info": {
   "codemirror_mode": {
    "name": "ipython",
    "version": 3
   },
   "file_extension": ".py",
   "mimetype": "text/x-python",
   "name": "python",
   "nbconvert_exporter": "python",
   "pygments_lexer": "ipython3",
   "version": "3.11.0"
  }
 },
 "nbformat": 4,
 "nbformat_minor": 5
}
