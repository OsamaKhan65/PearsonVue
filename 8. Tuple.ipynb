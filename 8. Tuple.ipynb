{
 "cells": [
  {
   "cell_type": "markdown",
   "id": "f7e7f88f",
   "metadata": {
    "id": "f7e7f88f"
   },
   "source": [
    "# Introduction\n",
    "\n",
    "Tuple is a datatype that is used to store multiple items in a single variable. It is denoted by a pair of paranthesis \"( )\" and each item is seperated by a comma.\n",
    "\n",
    "Tuple is one of 4 built-in data types in Python used to store collections of data, the other 3 are:\n",
    "1. List\n",
    "2. Set\n",
    "3. Dictionary\n",
    "\n",
    "All of these have different properties and usage."
   ]
  },
  {
   "cell_type": "markdown",
   "id": "70f1186f",
   "metadata": {
    "id": "70f1186f"
   },
   "source": [
    "# Creating tuples\n",
    "\n",
    "#### Method #1\n",
    "Enclose the items in a pair of paranthesis to make a tuple of those items. (or not)"
   ]
  },
  {
   "cell_type": "code",
   "execution_count": 1,
   "id": "6efc9f0d",
   "metadata": {},
   "outputs": [
    {
     "data": {
      "text/plain": [
       "['My', 'name', 'is', 'john']"
      ]
     },
     "execution_count": 1,
     "metadata": {},
     "output_type": "execute_result"
    }
   ],
   "source": [
    "\"My name is john\".split()"
   ]
  },
  {
   "cell_type": "code",
   "execution_count": 1,
   "id": "f7585c0c",
   "metadata": {
    "id": "f7585c0c"
   },
   "outputs": [
    {
     "name": "stdout",
     "output_type": "stream",
     "text": [
      "(1, 2, 3)\n",
      "<class 'tuple'>\n"
     ]
    }
   ],
   "source": [
    "x = (1, 2, 3)\n",
    "print(x)\n",
    "print(type(x))"
   ]
  },
  {
   "cell_type": "code",
   "execution_count": 2,
   "id": "0a00dee4",
   "metadata": {
    "id": "0a00dee4"
   },
   "outputs": [
    {
     "name": "stdout",
     "output_type": "stream",
     "text": [
      "(1, 2, 3)\n",
      "<class 'tuple'>\n"
     ]
    }
   ],
   "source": [
    "x = 1, 2, 3\n",
    "print(x)\n",
    "print(type(x))"
   ]
  },
  {
   "cell_type": "markdown",
   "id": "488a8779",
   "metadata": {
    "id": "488a8779"
   },
   "source": [
    "#### Method #2\n",
    "Use the tuple() constructor and pass a collection of items as arguments."
   ]
  },
  {
   "cell_type": "code",
   "execution_count": 3,
   "id": "dee421ec",
   "metadata": {
    "id": "dee421ec"
   },
   "outputs": [
    {
     "ename": "TypeError",
     "evalue": "tuple expected at most 1 argument, got 3",
     "output_type": "error",
     "traceback": [
      "\u001b[1;31m---------------------------------------------------------------------------\u001b[0m",
      "\u001b[1;31mTypeError\u001b[0m                                 Traceback (most recent call last)",
      "Cell \u001b[1;32mIn [3], line 1\u001b[0m\n\u001b[1;32m----> 1\u001b[0m x \u001b[38;5;241m=\u001b[39m \u001b[38;5;28;43mtuple\u001b[39;49m\u001b[43m(\u001b[49m\u001b[38;5;241;43m1\u001b[39;49m\u001b[43m,\u001b[49m\u001b[43m \u001b[49m\u001b[38;5;241;43m2\u001b[39;49m\u001b[43m,\u001b[49m\u001b[43m \u001b[49m\u001b[38;5;241;43m3\u001b[39;49m\u001b[43m)\u001b[49m\n\u001b[0;32m      2\u001b[0m \u001b[38;5;28mprint\u001b[39m(x)\n\u001b[0;32m      3\u001b[0m \u001b[38;5;28mprint\u001b[39m(\u001b[38;5;28mtype\u001b[39m(x))\n",
      "\u001b[1;31mTypeError\u001b[0m: tuple expected at most 1 argument, got 3"
     ]
    }
   ],
   "source": [
    "x = tuple(1, 2, 3)\n",
    "print(x)\n",
    "print(type(x))"
   ]
  },
  {
   "cell_type": "code",
   "execution_count": 2,
   "id": "92f31b8d",
   "metadata": {},
   "outputs": [
    {
     "name": "stdout",
     "output_type": "stream",
     "text": [
      "(1, 2, 3)\n",
      "<class 'tuple'>\n"
     ]
    }
   ],
   "source": [
    "x = tuple([1, 2, 3])\n",
    "print(x)\n",
    "print(type(x))"
   ]
  },
  {
   "cell_type": "code",
   "execution_count": 5,
   "id": "c5ef7a5d",
   "metadata": {},
   "outputs": [
    {
     "name": "stdout",
     "output_type": "stream",
     "text": [
      "('a', 'b', 'c', 'd')\n",
      "<class 'tuple'>\n"
     ]
    }
   ],
   "source": [
    "x = tuple(\"abcd\")\n",
    "print(x)\n",
    "print(type(x))"
   ]
  },
  {
   "cell_type": "code",
   "execution_count": 3,
   "id": "924964e0",
   "metadata": {},
   "outputs": [
    {
     "data": {
      "text/plain": [
       "\"('a', 'b', 'c', 'd')\""
      ]
     },
     "execution_count": 3,
     "metadata": {},
     "output_type": "execute_result"
    }
   ],
   "source": [
    "str(tuple(\"abcd\"))"
   ]
  },
  {
   "cell_type": "markdown",
   "id": "4b89ee94",
   "metadata": {
    "id": "4b89ee94"
   },
   "source": [
    "# Create an empty tuple"
   ]
  },
  {
   "cell_type": "code",
   "execution_count": 6,
   "id": "77f6781e",
   "metadata": {
    "id": "77f6781e"
   },
   "outputs": [
    {
     "name": "stdout",
     "output_type": "stream",
     "text": [
      "()\n",
      "<class 'tuple'>\n"
     ]
    }
   ],
   "source": [
    "x = ()\n",
    "print(x)\n",
    "print(type(x))"
   ]
  },
  {
   "cell_type": "code",
   "execution_count": 7,
   "id": "47c3dc7d",
   "metadata": {
    "id": "47c3dc7d"
   },
   "outputs": [
    {
     "name": "stdout",
     "output_type": "stream",
     "text": [
      "()\n",
      "<class 'tuple'>\n"
     ]
    }
   ],
   "source": [
    "x = tuple()\n",
    "print(x)\n",
    "print(type(x))"
   ]
  },
  {
   "cell_type": "markdown",
   "id": "b53e35ac",
   "metadata": {
    "id": "b53e35ac"
   },
   "source": [
    "# Create tuple with single item"
   ]
  },
  {
   "cell_type": "code",
   "execution_count": 8,
   "id": "4f9bb1ec",
   "metadata": {
    "id": "4f9bb1ec"
   },
   "outputs": [
    {
     "name": "stdout",
     "output_type": "stream",
     "text": [
      "(1,)\n",
      "<class 'tuple'>\n"
     ]
    }
   ],
   "source": [
    "x = (1,)\n",
    "print(x)\n",
    "print(type(x))"
   ]
  },
  {
   "cell_type": "code",
   "execution_count": 9,
   "id": "63542f7c",
   "metadata": {
    "id": "63542f7c"
   },
   "outputs": [
    {
     "ename": "TypeError",
     "evalue": "'int' object is not iterable",
     "output_type": "error",
     "traceback": [
      "\u001b[1;31m---------------------------------------------------------------------------\u001b[0m",
      "\u001b[1;31mTypeError\u001b[0m                                 Traceback (most recent call last)",
      "Cell \u001b[1;32mIn [9], line 1\u001b[0m\n\u001b[1;32m----> 1\u001b[0m x \u001b[38;5;241m=\u001b[39m \u001b[38;5;28;43mtuple\u001b[39;49m\u001b[43m(\u001b[49m\u001b[43m(\u001b[49m\u001b[38;5;241;43m1\u001b[39;49m\u001b[43m)\u001b[49m\u001b[43m)\u001b[49m\n\u001b[0;32m      2\u001b[0m \u001b[38;5;28mprint\u001b[39m(x)\n\u001b[0;32m      3\u001b[0m \u001b[38;5;28mprint\u001b[39m(\u001b[38;5;28mtype\u001b[39m(x))\n",
      "\u001b[1;31mTypeError\u001b[0m: 'int' object is not iterable"
     ]
    }
   ],
   "source": [
    "x = tuple((1))\n",
    "print(x)\n",
    "print(type(x))"
   ]
  },
  {
   "cell_type": "code",
   "execution_count": 10,
   "id": "e593e431",
   "metadata": {
    "id": "e593e431"
   },
   "outputs": [
    {
     "name": "stdout",
     "output_type": "stream",
     "text": [
      "(1,)\n",
      "<class 'tuple'>\n"
     ]
    }
   ],
   "source": [
    "x = (1,)\n",
    "print(x)\n",
    "print(type(x))"
   ]
  },
  {
   "cell_type": "code",
   "execution_count": 11,
   "id": "51e9399f",
   "metadata": {
    "id": "51e9399f"
   },
   "outputs": [
    {
     "name": "stdout",
     "output_type": "stream",
     "text": [
      "(1,)\n",
      "<class 'tuple'>\n"
     ]
    }
   ],
   "source": [
    "x = tuple((1,))\n",
    "print(x)\n",
    "print(type(x))"
   ]
  },
  {
   "cell_type": "markdown",
   "id": "2ca29d62",
   "metadata": {
    "id": "2ca29d62"
   },
   "source": [
    "# Properties\n",
    "\n",
    "1. Ordered (It means that the items have a defined order, and that order will not change.)"
   ]
  },
  {
   "cell_type": "code",
   "execution_count": 12,
   "id": "d227052c",
   "metadata": {
    "id": "d227052c"
   },
   "outputs": [
    {
     "name": "stdout",
     "output_type": "stream",
     "text": [
      "False\n"
     ]
    }
   ],
   "source": [
    "print((1, 2, 3) == (3, 2, 1))"
   ]
  },
  {
   "cell_type": "markdown",
   "id": "72b912d0",
   "metadata": {
    "id": "72b912d0"
   },
   "source": [
    "2. Unchangeable/Immutable (It means that we cannot change, add or remove items after the tuple has been created.)"
   ]
  },
  {
   "cell_type": "code",
   "execution_count": 11,
   "id": "19a89392",
   "metadata": {
    "id": "19a89392"
   },
   "outputs": [
    {
     "name": "stdout",
     "output_type": "stream",
     "text": [
      "(1, 2, 3)\n"
     ]
    }
   ],
   "source": [
    "x = (1, 2, 3)\n",
    "print(x)"
   ]
  },
  {
   "cell_type": "code",
   "execution_count": 12,
   "id": "9d8af555",
   "metadata": {
    "id": "9d8af555"
   },
   "outputs": [
    {
     "ename": "TypeError",
     "evalue": "'tuple' object does not support item assignment",
     "output_type": "error",
     "traceback": [
      "\u001b[1;31m---------------------------------------------------------------------------\u001b[0m",
      "\u001b[1;31mTypeError\u001b[0m                                 Traceback (most recent call last)",
      "Cell \u001b[1;32mIn [12], line 1\u001b[0m\n\u001b[1;32m----> 1\u001b[0m \u001b[43mx\u001b[49m\u001b[43m[\u001b[49m\u001b[38;5;241;43m0\u001b[39;49m\u001b[43m]\u001b[49m \u001b[38;5;241m=\u001b[39m \u001b[38;5;241m2\u001b[39m\n\u001b[0;32m      2\u001b[0m \u001b[38;5;28mprint\u001b[39m(x)\n",
      "\u001b[1;31mTypeError\u001b[0m: 'tuple' object does not support item assignment"
     ]
    }
   ],
   "source": [
    "x[0] = 2\n",
    "print(x)"
   ]
  },
  {
   "cell_type": "code",
   "execution_count": 15,
   "id": "4b3a48a3",
   "metadata": {
    "id": "4b3a48a3"
   },
   "outputs": [
    {
     "ename": "AttributeError",
     "evalue": "'tuple' object has no attribute 'replace'",
     "output_type": "error",
     "traceback": [
      "\u001b[1;31m---------------------------------------------------------------------------\u001b[0m",
      "\u001b[1;31mAttributeError\u001b[0m                            Traceback (most recent call last)",
      "Cell \u001b[1;32mIn [15], line 1\u001b[0m\n\u001b[1;32m----> 1\u001b[0m \u001b[38;5;28mprint\u001b[39m(\u001b[43mx\u001b[49m\u001b[38;5;241;43m.\u001b[39;49m\u001b[43mreplace\u001b[49m(\u001b[38;5;241m1\u001b[39m, \u001b[38;5;241m2\u001b[39m))\n",
      "\u001b[1;31mAttributeError\u001b[0m: 'tuple' object has no attribute 'replace'"
     ]
    }
   ],
   "source": [
    "print(x.replace(1, 2))"
   ]
  },
  {
   "cell_type": "markdown",
   "id": "929fda94",
   "metadata": {
    "id": "929fda94"
   },
   "source": [
    "3. Allow duplicates (It means that two or more items can have the same values.)"
   ]
  },
  {
   "cell_type": "code",
   "execution_count": 16,
   "id": "f1e084d6",
   "metadata": {
    "id": "f1e084d6"
   },
   "outputs": [
    {
     "name": "stdout",
     "output_type": "stream",
     "text": [
      "(1, 1, 2, 1, 2, 1, 3, 1, 1, 1)\n"
     ]
    }
   ],
   "source": [
    "x = (1, 1, 2, 1, 2, 1, 3, 1, 1, 1)\n",
    "print(x)"
   ]
  },
  {
   "cell_type": "markdown",
   "id": "085ce1d9",
   "metadata": {
    "id": "085ce1d9"
   },
   "source": [
    "4. Allow different datatypes (It means that a tuple can have items having different datatypes in it.)"
   ]
  },
  {
   "cell_type": "code",
   "execution_count": 17,
   "id": "857dc949",
   "metadata": {
    "id": "857dc949"
   },
   "outputs": [
    {
     "name": "stdout",
     "output_type": "stream",
     "text": [
      "(1, 2.5, True, 'Yes', (1, 2, 3))\n"
     ]
    }
   ],
   "source": [
    "x = (1, 2.5, True, \"Yes\", (1, 2, 3))\n",
    "print(x)"
   ]
  },
  {
   "cell_type": "markdown",
   "id": "ca4be928",
   "metadata": {
    "id": "ca4be928"
   },
   "source": [
    "5. Indexed (It means the items in tuples can be addressed using indexing and slicing.)"
   ]
  },
  {
   "cell_type": "code",
   "execution_count": 18,
   "id": "72169914",
   "metadata": {
    "id": "72169914"
   },
   "outputs": [],
   "source": [
    "x = (\"apple\", \"banana\", \"cherry\", \"orange\", \"kiwi\", \"melon\", \"mango\")"
   ]
  },
  {
   "cell_type": "code",
   "execution_count": 19,
   "id": "888544d5",
   "metadata": {
    "id": "888544d5"
   },
   "outputs": [
    {
     "name": "stdout",
     "output_type": "stream",
     "text": [
      "cherry\n"
     ]
    }
   ],
   "source": [
    "print(x[2])"
   ]
  },
  {
   "cell_type": "code",
   "execution_count": 20,
   "id": "896ad1f3",
   "metadata": {
    "id": "896ad1f3"
   },
   "outputs": [
    {
     "name": "stdout",
     "output_type": "stream",
     "text": [
      "melon\n"
     ]
    }
   ],
   "source": [
    "print(x[-2])"
   ]
  },
  {
   "cell_type": "code",
   "execution_count": 21,
   "id": "12c5d9a5",
   "metadata": {
    "id": "12c5d9a5"
   },
   "outputs": [
    {
     "name": "stdout",
     "output_type": "stream",
     "text": [
      "('banana', 'cherry', 'orange')\n"
     ]
    }
   ],
   "source": [
    "print(x[1:4])"
   ]
  },
  {
   "cell_type": "code",
   "execution_count": 22,
   "id": "9758eafe",
   "metadata": {
    "id": "9758eafe"
   },
   "outputs": [
    {
     "name": "stdout",
     "output_type": "stream",
     "text": [
      "('orange', 'kiwi')\n"
     ]
    }
   ],
   "source": [
    "print(x[-4:-2])"
   ]
  },
  {
   "cell_type": "markdown",
   "id": "8a8a39bd",
   "metadata": {
    "id": "8a8a39bd"
   },
   "source": [
    "# Tuple Methods\n",
    "#### count() \n",
    "<i> tuple.count(value) </i> <br>\n",
    "Returns the number of times a specified value occurs in a tuple."
   ]
  },
  {
   "cell_type": "code",
   "execution_count": 23,
   "id": "beba2550",
   "metadata": {
    "id": "beba2550"
   },
   "outputs": [],
   "source": [
    "x = (1, 1, 2, 1, 2, 1, 3, 1, 1, 1)"
   ]
  },
  {
   "cell_type": "code",
   "execution_count": 24,
   "id": "e6950bf7",
   "metadata": {
    "id": "e6950bf7"
   },
   "outputs": [
    {
     "name": "stdout",
     "output_type": "stream",
     "text": [
      "7\n"
     ]
    }
   ],
   "source": [
    "print(x.count(1))"
   ]
  },
  {
   "cell_type": "code",
   "execution_count": 25,
   "id": "ab9dc882",
   "metadata": {
    "id": "ab9dc882"
   },
   "outputs": [
    {
     "name": "stdout",
     "output_type": "stream",
     "text": [
      "0\n"
     ]
    }
   ],
   "source": [
    "print(x.count(4))"
   ]
  },
  {
   "cell_type": "markdown",
   "id": "4345e471",
   "metadata": {
    "id": "4345e471"
   },
   "source": [
    "#### index()\n",
    "<i > tuple.index(value) </i> <br>\n",
    "Searches the tuple for a specified value and returns the position of where it was found.\n"
   ]
  },
  {
   "cell_type": "code",
   "execution_count": null,
   "id": "646b51db",
   "metadata": {},
   "outputs": [],
   "source": [
    "x = (1, 1, 2, 1, 2, 1, 3, 1, 1, 1)"
   ]
  },
  {
   "cell_type": "code",
   "execution_count": 26,
   "id": "93745433",
   "metadata": {
    "id": "93745433"
   },
   "outputs": [
    {
     "name": "stdout",
     "output_type": "stream",
     "text": [
      "0\n"
     ]
    }
   ],
   "source": [
    "print(x.index(1))"
   ]
  },
  {
   "cell_type": "code",
   "execution_count": 27,
   "id": "1e4f5161",
   "metadata": {
    "id": "1e4f5161"
   },
   "outputs": [
    {
     "name": "stdout",
     "output_type": "stream",
     "text": [
      "6\n"
     ]
    }
   ],
   "source": [
    "print(x.index(3))"
   ]
  },
  {
   "cell_type": "code",
   "execution_count": 28,
   "id": "edc8c499",
   "metadata": {
    "id": "edc8c499"
   },
   "outputs": [
    {
     "ename": "ValueError",
     "evalue": "tuple.index(x): x not in tuple",
     "output_type": "error",
     "traceback": [
      "\u001b[1;31m---------------------------------------------------------------------------\u001b[0m",
      "\u001b[1;31mValueError\u001b[0m                                Traceback (most recent call last)",
      "Cell \u001b[1;32mIn [28], line 1\u001b[0m\n\u001b[1;32m----> 1\u001b[0m \u001b[38;5;28mprint\u001b[39m(\u001b[43mx\u001b[49m\u001b[38;5;241;43m.\u001b[39;49m\u001b[43mindex\u001b[49m\u001b[43m(\u001b[49m\u001b[38;5;241;43m4\u001b[39;49m\u001b[43m)\u001b[49m)\n",
      "\u001b[1;31mValueError\u001b[0m: tuple.index(x): x not in tuple"
     ]
    }
   ],
   "source": [
    "print(x.index(4))"
   ]
  },
  {
   "cell_type": "markdown",
   "id": "e7e26cf8",
   "metadata": {
    "id": "e7e26cf8"
   },
   "source": [
    "#### len()\n",
    "<i> len(tuple) </i> <br>\n",
    "Returns the length of tuple. (It is not a method of tuple)"
   ]
  },
  {
   "cell_type": "code",
   "execution_count": null,
   "id": "311d7fb0",
   "metadata": {},
   "outputs": [],
   "source": [
    "x = (1, 1, 2, 1, 2, 1, 3, 1, 1, 1)"
   ]
  },
  {
   "cell_type": "code",
   "execution_count": 1,
   "id": "a7d10ade",
   "metadata": {},
   "outputs": [],
   "source": [
    "x = ('apple', 'mango')"
   ]
  },
  {
   "cell_type": "code",
   "execution_count": 2,
   "id": "5d4f3eac",
   "metadata": {
    "id": "5d4f3eac"
   },
   "outputs": [
    {
     "name": "stdout",
     "output_type": "stream",
     "text": [
      "2\n"
     ]
    }
   ],
   "source": [
    "print(len(x))"
   ]
  },
  {
   "cell_type": "markdown",
   "id": "__BrK69QHXKH",
   "metadata": {
    "id": "__BrK69QHXKH"
   },
   "source": [
    "# Tuple of tuple"
   ]
  },
  {
   "cell_type": "code",
   "execution_count": 16,
   "id": "W20b5R3THcvT",
   "metadata": {
    "id": "W20b5R3THcvT"
   },
   "outputs": [
    {
     "name": "stdout",
     "output_type": "stream",
     "text": [
      "<class 'tuple'>\n"
     ]
    }
   ],
   "source": [
    "x = ((1, 2, 3), (4, 5, 6), (7, 8, 9))\n",
    "print(type(x))"
   ]
  },
  {
   "cell_type": "code",
   "execution_count": 17,
   "id": "EaBjhHZSHdVr",
   "metadata": {
    "id": "EaBjhHZSHdVr"
   },
   "outputs": [
    {
     "name": "stdout",
     "output_type": "stream",
     "text": [
      "(1, 2, 3)\n",
      "<class 'tuple'>\n"
     ]
    }
   ],
   "source": [
    "print(x[0])\n",
    "print(type(x[0]))"
   ]
  },
  {
   "cell_type": "code",
   "execution_count": 18,
   "id": "VKGSl959HdJZ",
   "metadata": {
    "id": "VKGSl959HdJZ"
   },
   "outputs": [
    {
     "name": "stdout",
     "output_type": "stream",
     "text": [
      "1\n",
      "<class 'int'>\n"
     ]
    }
   ],
   "source": [
    "print(x[0][0])\n",
    "print(type(x[0][0]))"
   ]
  },
  {
   "cell_type": "markdown",
   "id": "9d61f859",
   "metadata": {
    "id": "9d61f859"
   },
   "source": [
    "# Check if item is in tuple"
   ]
  },
  {
   "cell_type": "code",
   "execution_count": 33,
   "id": "853d9aa4",
   "metadata": {
    "id": "853d9aa4"
   },
   "outputs": [],
   "source": [
    "x = (\"apple\", \"banana\", \"cherry\", \"orange\", \"kiwi\", \"melon\", \"mango\")"
   ]
  },
  {
   "cell_type": "code",
   "execution_count": 34,
   "id": "64d8f8b6",
   "metadata": {
    "id": "64d8f8b6"
   },
   "outputs": [
    {
     "name": "stdout",
     "output_type": "stream",
     "text": [
      "True\n"
     ]
    }
   ],
   "source": [
    "print(\"cherry\" in x)"
   ]
  },
  {
   "cell_type": "code",
   "execution_count": 35,
   "id": "825162ac",
   "metadata": {
    "id": "825162ac"
   },
   "outputs": [
    {
     "name": "stdout",
     "output_type": "stream",
     "text": [
      "False\n"
     ]
    }
   ],
   "source": [
    "print(\"grape\" in x)"
   ]
  },
  {
   "cell_type": "code",
   "execution_count": 36,
   "id": "e76e28a0",
   "metadata": {
    "id": "e76e28a0"
   },
   "outputs": [
    {
     "name": "stdout",
     "output_type": "stream",
     "text": [
      "False\n"
     ]
    }
   ],
   "source": [
    "print(\"cherry\" not in x)"
   ]
  },
  {
   "cell_type": "code",
   "execution_count": 37,
   "id": "98472b2a",
   "metadata": {
    "id": "98472b2a"
   },
   "outputs": [
    {
     "name": "stdout",
     "output_type": "stream",
     "text": [
      "True\n"
     ]
    }
   ],
   "source": [
    "print(\"grape\" not in x)"
   ]
  },
  {
   "cell_type": "markdown",
   "id": "8486f15b",
   "metadata": {
    "id": "8486f15b"
   },
   "source": [
    "# Unpacking tuple"
   ]
  },
  {
   "cell_type": "code",
   "execution_count": 38,
   "id": "d33c688d",
   "metadata": {
    "id": "d33c688d"
   },
   "outputs": [
    {
     "name": "stdout",
     "output_type": "stream",
     "text": [
      "apple\n",
      "banana\n",
      "cherry\n"
     ]
    }
   ],
   "source": [
    "# fruits = (\"apple\", \"banana\", \"cherry\")\n",
    "\n",
    "# (green, yellow, red) = fruits\n",
    "\n",
    "(green, yellow, red) = (\"apple\", \"banana\", \"cherry\")\n",
    "\n",
    "print(green)\n",
    "print(yellow)\n",
    "print(red)"
   ]
  },
  {
   "cell_type": "code",
   "execution_count": 39,
   "id": "918e4645",
   "metadata": {
    "id": "918e4645"
   },
   "outputs": [
    {
     "name": "stdout",
     "output_type": "stream",
     "text": [
      "apple\n",
      "banana\n",
      "cherry\n"
     ]
    }
   ],
   "source": [
    "fruits = \"apple\", \"banana\", \"cherry\"\n",
    "\n",
    "green, yellow, red = fruits\n",
    "\n",
    "print(green)\n",
    "print(yellow)\n",
    "print(red)"
   ]
  },
  {
   "cell_type": "code",
   "execution_count": null,
   "id": "db5fa39e",
   "metadata": {},
   "outputs": [],
   "source": [
    "x = 1\n",
    "y = 2\n",
    "x, y = y, x"
   ]
  },
  {
   "cell_type": "code",
   "execution_count": 40,
   "id": "1e6dc127",
   "metadata": {
    "id": "1e6dc127"
   },
   "outputs": [
    {
     "ename": "ValueError",
     "evalue": "too many values to unpack (expected 3)",
     "output_type": "error",
     "traceback": [
      "\u001b[1;31m---------------------------------------------------------------------------\u001b[0m",
      "\u001b[1;31mValueError\u001b[0m                                Traceback (most recent call last)",
      "Cell \u001b[1;32mIn [40], line 3\u001b[0m\n\u001b[0;32m      1\u001b[0m fruits \u001b[38;5;241m=\u001b[39m (\u001b[38;5;124m\"\u001b[39m\u001b[38;5;124mapple\u001b[39m\u001b[38;5;124m\"\u001b[39m, \u001b[38;5;124m\"\u001b[39m\u001b[38;5;124mbanana\u001b[39m\u001b[38;5;124m\"\u001b[39m, \u001b[38;5;124m\"\u001b[39m\u001b[38;5;124mcherry\u001b[39m\u001b[38;5;124m\"\u001b[39m, \u001b[38;5;124m\"\u001b[39m\u001b[38;5;124mmango\u001b[39m\u001b[38;5;124m\"\u001b[39m)\n\u001b[1;32m----> 3\u001b[0m (green, yellow, red) \u001b[38;5;241m=\u001b[39m fruits\n\u001b[0;32m      5\u001b[0m \u001b[38;5;28mprint\u001b[39m(green)\n\u001b[0;32m      6\u001b[0m \u001b[38;5;28mprint\u001b[39m(yellow)\n",
      "\u001b[1;31mValueError\u001b[0m: too many values to unpack (expected 3)"
     ]
    }
   ],
   "source": [
    "fruits = (\"apple\", \"banana\", \"cherry\", \"mango\")\n",
    "\n",
    "(green, yellow, red) = fruits\n",
    "\n",
    "print(green)\n",
    "print(yellow)\n",
    "print(red)"
   ]
  },
  {
   "cell_type": "code",
   "execution_count": 41,
   "id": "a9449dd4",
   "metadata": {
    "id": "a9449dd4"
   },
   "outputs": [
    {
     "ename": "ValueError",
     "evalue": "not enough values to unpack (expected 4, got 3)",
     "output_type": "error",
     "traceback": [
      "\u001b[1;31m---------------------------------------------------------------------------\u001b[0m",
      "\u001b[1;31mValueError\u001b[0m                                Traceback (most recent call last)",
      "Cell \u001b[1;32mIn [41], line 3\u001b[0m\n\u001b[0;32m      1\u001b[0m fruits \u001b[38;5;241m=\u001b[39m (\u001b[38;5;124m\"\u001b[39m\u001b[38;5;124mapple\u001b[39m\u001b[38;5;124m\"\u001b[39m, \u001b[38;5;124m\"\u001b[39m\u001b[38;5;124mbanana\u001b[39m\u001b[38;5;124m\"\u001b[39m, \u001b[38;5;124m\"\u001b[39m\u001b[38;5;124mcherry\u001b[39m\u001b[38;5;124m\"\u001b[39m)\n\u001b[1;32m----> 3\u001b[0m (green, yellow, red, blue) \u001b[38;5;241m=\u001b[39m fruits\n\u001b[0;32m      5\u001b[0m \u001b[38;5;28mprint\u001b[39m(green)\n\u001b[0;32m      6\u001b[0m \u001b[38;5;28mprint\u001b[39m(yellow)\n",
      "\u001b[1;31mValueError\u001b[0m: not enough values to unpack (expected 4, got 3)"
     ]
    }
   ],
   "source": [
    "fruits = (\"apple\", \"banana\", \"cherry\")\n",
    "\n",
    "(green, yellow, red, blue) = fruits\n",
    "\n",
    "print(green)\n",
    "print(yellow)\n",
    "print(red)\n",
    "print(blue)"
   ]
  },
  {
   "cell_type": "code",
   "execution_count": 42,
   "id": "52101d1b",
   "metadata": {
    "id": "52101d1b"
   },
   "outputs": [
    {
     "name": "stdout",
     "output_type": "stream",
     "text": [
      "apple\n",
      "banana\n",
      "['cherry', 'mango', 'grape']\n"
     ]
    }
   ],
   "source": [
    "fruits = (\"apple\", \"banana\", \"cherry\", \"mango\", \"grape\")\n",
    "\n",
    "(green, yellow, *red) = fruits\n",
    "\n",
    "print(green)\n",
    "print(yellow)\n",
    "print(red)"
   ]
  },
  {
   "cell_type": "code",
   "execution_count": 43,
   "id": "13167589",
   "metadata": {
    "id": "13167589"
   },
   "outputs": [
    {
     "name": "stdout",
     "output_type": "stream",
     "text": [
      "<class 'list'>\n"
     ]
    }
   ],
   "source": [
    "print(type(red))"
   ]
  },
  {
   "cell_type": "code",
   "execution_count": 44,
   "id": "34d3494f",
   "metadata": {
    "id": "34d3494f"
   },
   "outputs": [
    {
     "ename": "SyntaxError",
     "evalue": "multiple starred expressions in assignment (1142101186.py, line 3)",
     "output_type": "error",
     "traceback": [
      "\u001b[1;36m  Cell \u001b[1;32mIn [44], line 3\u001b[1;36m\u001b[0m\n\u001b[1;33m    (green, *yellow, *red) = fruits\u001b[0m\n\u001b[1;37m    ^\u001b[0m\n\u001b[1;31mSyntaxError\u001b[0m\u001b[1;31m:\u001b[0m multiple starred expressions in assignment\n"
     ]
    }
   ],
   "source": [
    "fruits = (\"apple\", \"banana\", \"cherry\", \"mango\", \"grape\")\n",
    "\n",
    "(green, *yellow, *red) = fruits\n",
    "\n",
    "print(green)\n",
    "print(yellow)\n",
    "print(red)"
   ]
  },
  {
   "cell_type": "code",
   "execution_count": 45,
   "id": "91d00931",
   "metadata": {
    "id": "91d00931"
   },
   "outputs": [
    {
     "name": "stdout",
     "output_type": "stream",
     "text": [
      "['apple', 'banana']\n",
      "cherry\n",
      "mango\n"
     ]
    }
   ],
   "source": [
    "fruits = (\"apple\", \"banana\", \"cherry\", \"mango\")\n",
    "\n",
    "(*green, yellow, red) = fruits\n",
    "\n",
    "print(green)\n",
    "print(yellow)\n",
    "print(red)"
   ]
  },
  {
   "cell_type": "code",
   "execution_count": 46,
   "id": "84ac219a",
   "metadata": {},
   "outputs": [
    {
     "name": "stdout",
     "output_type": "stream",
     "text": [
      "apple\n",
      "['banana', 'cherry']\n",
      "mango\n"
     ]
    }
   ],
   "source": [
    "fruits = (\"apple\", \"banana\", \"cherry\", \"mango\")\n",
    "\n",
    "(green, *yellow, red) = fruits\n",
    "\n",
    "print(green)\n",
    "print(yellow)\n",
    "print(red)"
   ]
  },
  {
   "cell_type": "markdown",
   "id": "e7bd0850",
   "metadata": {
    "id": "e7bd0850"
   },
   "source": [
    "# Join tuples"
   ]
  },
  {
   "cell_type": "code",
   "execution_count": 47,
   "id": "5f4a88ce",
   "metadata": {
    "id": "5f4a88ce"
   },
   "outputs": [
    {
     "name": "stdout",
     "output_type": "stream",
     "text": [
      "('a', 'b', 'c', 1, 2, 3)\n"
     ]
    }
   ],
   "source": [
    "tuple1 = (\"a\", \"b\", \"c\")\n",
    "tuple2 = (1, 2, 3)\n",
    "tuple3 = tuple1 + tuple2\n",
    "print(tuple3) "
   ]
  },
  {
   "cell_type": "code",
   "execution_count": 48,
   "id": "d7d0277b",
   "metadata": {
    "id": "d7d0277b"
   },
   "outputs": [
    {
     "name": "stdout",
     "output_type": "stream",
     "text": [
      "('apple', 'banana', 'cherry', 'apple', 'banana', 'cherry')\n"
     ]
    }
   ],
   "source": [
    "fruits = (\"apple\", \"banana\", \"cherry\")\n",
    "fruits2 = fruits * 2\n",
    "print(fruits2) "
   ]
  },
  {
   "cell_type": "markdown",
   "id": "5bf348a3",
   "metadata": {
    "id": "65ba632e"
   },
   "source": [
    "You can add notes in the copy of this notebook, try out coding on your own, try to experiment with it. And if you have any confussion, you can ask in google classroom, or actual classroom.\n",
    "\n",
    "# Assignment\n",
    "<b>Q) Complete the question in the cell below. You cannot change the first and the last line and write however many lines you deem necessary in place of (Your code here).</b><br>\n",
    "\n",
    "Hint: There are two ways that I can think of. Both of those requires two sets of techniques that we studied above in combination to work. So you should look at the headings to find the two techniques.\n",
    "1. Unpack, make the change and make the tuple again.\n",
    "2. Slice it then concatenate."
   ]
  },
  {
   "cell_type": "code",
   "execution_count": 1,
   "id": "59dd93f1",
   "metadata": {},
   "outputs": [
    {
     "name": "stdout",
     "output_type": "stream",
     "text": [
      "(1, 2, 3, 4, 5)\n"
     ]
    }
   ],
   "source": [
    "x = (1, 2, 3, 4, 10)\n",
    "\n",
    "# Your code here\n",
    "\n",
    "print(x) # Output should be (1, 2, 3, 4, 5)"
   ]
  },
  {
   "cell_type": "code",
   "execution_count": 6,
   "id": "13d04993",
   "metadata": {},
   "outputs": [
    {
     "name": "stdout",
     "output_type": "stream",
     "text": [
      "(1, 2, 3, 4, 5)\n"
     ]
    }
   ],
   "source": [
    "x = (1, 2, 3, 4, 10)\n",
    "\n",
    "# Your code here\n",
    "*a, b = x\n",
    "b = 5\n",
    "x = tuple(a) + (b,)\n",
    "\n",
    "print(x) # Output should be (1, 2, 3, 4, 5)"
   ]
  },
  {
   "cell_type": "code",
   "execution_count": 9,
   "id": "250c5305",
   "metadata": {},
   "outputs": [
    {
     "name": "stdout",
     "output_type": "stream",
     "text": [
      "(1, 2, 3, 4, 5)\n"
     ]
    }
   ],
   "source": [
    "x = (1, 2, 3, 4, 10)\n",
    "\n",
    "# Your code here\n",
    "a = x[-1]\n",
    "a = 5\n",
    "x = x[:-1] + (a,)\n",
    "\n",
    "print(x) # Output should be (1, 2, 3, 4, 5)"
   ]
  },
  {
   "cell_type": "markdown",
   "id": "257b85e7",
   "metadata": {},
   "source": [
    "I won't accept the following codes:"
   ]
  },
  {
   "cell_type": "code",
   "execution_count": 50,
   "id": "bf71e0a6",
   "metadata": {},
   "outputs": [
    {
     "name": "stdout",
     "output_type": "stream",
     "text": [
      "(1, 2, 3, 4, 5)\n"
     ]
    }
   ],
   "source": [
    "x = (1, 2, 3, 4, 10)\n",
    "\n",
    "x = (1, 2, 3, 4, 5)\n",
    "\n",
    "print(x) # Output should be (1, 2, 3, 4, 5)"
   ]
  },
  {
   "cell_type": "code",
   "execution_count": 51,
   "id": "1b9ada5e",
   "metadata": {},
   "outputs": [
    {
     "name": "stdout",
     "output_type": "stream",
     "text": [
      "(1, 2, 3, 4, 5)\n"
     ]
    }
   ],
   "source": [
    "x = (1, 2, 3, 4, 10)\n",
    "\n",
    "x = list(x)\n",
    "x[-1] = 5\n",
    "x = tuple(x)\n",
    "\n",
    "print(x) # Output should be (1, 2, 3, 4, 5)"
   ]
  },
  {
   "cell_type": "markdown",
   "id": "cb01b937",
   "metadata": {},
   "source": [
    "Both these codes are correct, but the first one is too easy and as for the second one, it will pop up infront of you if try to google the problem and includes some techniques that we haven't studied yet. You can only use the techniques (headings) that are in this notebook. This is a test for your creativity and problem solving skills. So if you can think of any other code that I can't think of that will be great. Good Luck!"
   ]
  },
  {
   "cell_type": "code",
   "execution_count": 8,
   "id": "1af32378",
   "metadata": {},
   "outputs": [
    {
     "data": {
      "text/plain": [
       "{(1, 2, 3): 123}"
      ]
     },
     "execution_count": 8,
     "metadata": {},
     "output_type": "execute_result"
    }
   ],
   "source": [
    "{(1, 2, 3): 123}"
   ]
  },
  {
   "cell_type": "code",
   "execution_count": null,
   "id": "712039a5",
   "metadata": {},
   "outputs": [],
   "source": []
  }
 ],
 "metadata": {
  "colab": {
   "collapsed_sections": [
    "70f1186f",
    "488a8779",
    "4b89ee94",
    "b53e35ac",
    "2ca29d62",
    "8a8a39bd",
    "4345e471",
    "e7e26cf8",
    "__BrK69QHXKH",
    "9d61f859",
    "8486f15b",
    "e7bd0850"
   ],
   "provenance": []
  },
  "kernelspec": {
   "display_name": "Python 3 (ipykernel)",
   "language": "python",
   "name": "python3"
  },
  "language_info": {
   "codemirror_mode": {
    "name": "ipython",
    "version": 3
   },
   "file_extension": ".py",
   "mimetype": "text/x-python",
   "name": "python",
   "nbconvert_exporter": "python",
   "pygments_lexer": "ipython3",
   "version": "3.11.0"
  }
 },
 "nbformat": 4,
 "nbformat_minor": 5
}
