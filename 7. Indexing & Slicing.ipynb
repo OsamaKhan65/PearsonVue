{
 "cells": [
  {
   "cell_type": "markdown",
   "id": "dd935b8d",
   "metadata": {},
   "source": [
    "The Python string data type is a sequence made up of one or more individual characters that could consist of letters, numbers, whitespace characters, or symbols. As the string is a sequence, it can be accessed in the same ways that other sequence-based data types are, through indexing and slicing.\n",
    "\n",
    "# Indexing\n",
    "Indexing means referring to an element of an iterable by its position within the iterable. Each of a string’s characters corresponds to an index number and each character can be accessed using its index number. We can access characters in a String in Two ways :\n",
    "\n",
    "1. Accessing Characters by Positive Index Number: In this type of Indexing, we pass a Positive index (which we want to access) in square brackets. The index number starts from index number 0 (which denotes the first character of a string)."
   ]
  },
  {
   "cell_type": "code",
   "execution_count": 1,
   "id": "aa51ffae",
   "metadata": {},
   "outputs": [
    {
     "name": "stdout",
     "output_type": "stream",
     "text": [
      "T\n",
      " \n",
      "d\n"
     ]
    }
   ],
   "source": [
    "# declaring the string \n",
    "str = \"The quick brown fox jumps over the lazy dog.\"\n",
    "\n",
    "# accessing the character of str at 0th index \n",
    "print(str[0]) \n",
    "\n",
    "# accessing the character of str at 3rd index \n",
    "print(str[3]) \n",
    "\n",
    "# accessing the character of str at 40th index \n",
    "print(str[40])"
   ]
  },
  {
   "cell_type": "markdown",
   "id": "8e45dac0",
   "metadata": {},
   "source": [
    "2. Accessing Characters by Negative Index Number: In this type of Indexing, we pass the Negative index(which we want to access) in square brackets. Here the index number starts from index number -1 (which denotes the last character of a string). "
   ]
  },
  {
   "cell_type": "code",
   "execution_count": 3,
   "id": "18684dd7",
   "metadata": {},
   "outputs": [
    {
     "name": "stdout",
     "output_type": "stream",
     "text": [
      ".\n",
      " \n",
      "q\n"
     ]
    }
   ],
   "source": [
    "# declaring the string \n",
    "str = \"The quick brown fox jumps over the lazy dog.\"\n",
    "\n",
    "# accessing the character of str at last index \n",
    "print(str[-1]) \n",
    "\n",
    "# accessing the character of str at 5th index from the last \n",
    "print(str[-5]) \n",
    "\n",
    "# accessing the character of str at 40th index from the last \n",
    "print(str[-40]) "
   ]
  },
  {
   "cell_type": "markdown",
   "id": "8bf00e27",
   "metadata": {},
   "source": [
    "# Slicing\n",
    "Slicing in Python is a feature that enables accessing parts of the sequence. In slicing a string, we create a substring, which is essentially a string that exists within another string. We use slicing when we require a part of the string and not the complete string. Syntax :"
   ]
  },
  {
   "cell_type": "raw",
   "id": "d7f1474c",
   "metadata": {},
   "source": [
    "string[start : end : step]\n",
    "\n",
    "start : We provide the starting index.(default is 0)\n",
    "end : We provide the end index(this is not included in substring). (default is end of the string)\n",
    "step : It is an optional argument that determines the increment between each index for slicing. (default is 1)"
   ]
  },
  {
   "cell_type": "code",
   "execution_count": 5,
   "id": "70a9a8fb",
   "metadata": {},
   "outputs": [
    {
     "name": "stdout",
     "output_type": "stream",
     "text": [
      "The\n",
      "h \n",
      ".o zle\n"
     ]
    }
   ],
   "source": [
    "# declaring the string \n",
    "str = \"The quick brown fox jumps over the lazy dog.\"\n",
    "\n",
    "# slicing using indexing sequence \n",
    "print(str[: 3]) \n",
    "print(str[1 : 5 : 2]) \n",
    "print(str[-1 : -12 : -2]) "
   ]
  },
  {
   "cell_type": "code",
   "execution_count": 6,
   "id": "6f5a778e",
   "metadata": {},
   "outputs": [
    {
     "name": "stdout",
     "output_type": "stream",
     "text": [
      "Original String :-\n",
      "The quick brown fox jumps over the lazy dog.\n",
      "Reverse String :-\n",
      ".god yzal eht revo spmuj xof nworb kciuq ehT\n"
     ]
    }
   ],
   "source": [
    "# declaring the string \n",
    "str = \"The quick brown fox jumps over the lazy dog.\"\n",
    "\n",
    "print(\"Original String :-\") \n",
    "print(str) \n",
    "\n",
    "# reversing the string using slicing \n",
    "print(\"Reverse String :-\") \n",
    "print(str[: : -1]) "
   ]
  },
  {
   "cell_type": "code",
   "execution_count": null,
   "id": "edaf3eee",
   "metadata": {},
   "outputs": [],
   "source": []
  }
 ],
 "metadata": {
  "kernelspec": {
   "display_name": "Python 3 (ipykernel)",
   "language": "python",
   "name": "python3"
  },
  "language_info": {
   "codemirror_mode": {
    "name": "ipython",
    "version": 3
   },
   "file_extension": ".py",
   "mimetype": "text/x-python",
   "name": "python",
   "nbconvert_exporter": "python",
   "pygments_lexer": "ipython3",
   "version": "3.11.0"
  }
 },
 "nbformat": 4,
 "nbformat_minor": 5
}
