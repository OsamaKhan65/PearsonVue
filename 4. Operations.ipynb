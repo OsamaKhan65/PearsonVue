{
 "cells": [
  {
   "cell_type": "markdown",
   "id": "fb07e8d2",
   "metadata": {},
   "source": [
    "# Functions\n",
    "### Help"
   ]
  },
  {
   "cell_type": "code",
   "execution_count": 1,
   "id": "3f44cb97",
   "metadata": {},
   "outputs": [
    {
     "name": "stdout",
     "output_type": "stream",
     "text": [
      "\n",
      "Here is a list of the Python keywords.  Enter any keyword to get more help.\n",
      "\n",
      "False               class               from                or\n",
      "None                continue            global              pass\n",
      "True                def                 if                  raise\n",
      "and                 del                 import              return\n",
      "as                  elif                in                  try\n",
      "assert              else                is                  while\n",
      "async               except              lambda              with\n",
      "await               finally             nonlocal            yield\n",
      "break               for                 not                 \n",
      "\n"
     ]
    }
   ],
   "source": [
    "help('keywords')"
   ]
  },
  {
   "cell_type": "code",
   "execution_count": 2,
   "id": "55365dba",
   "metadata": {},
   "outputs": [
    {
     "name": "stdout",
     "output_type": "stream",
     "text": [
      "Help on built-in function print in module builtins:\n",
      "\n",
      "print(*args, sep=' ', end='\\n', file=None, flush=False)\n",
      "    Prints the values to a stream, or to sys.stdout by default.\n",
      "    \n",
      "    sep\n",
      "      string inserted between values, default a space.\n",
      "    end\n",
      "      string appended after the last value, default a newline.\n",
      "    file\n",
      "      a file-like object (stream); defaults to the current sys.stdout.\n",
      "    flush\n",
      "      whether to forcibly flush the stream.\n",
      "\n"
     ]
    }
   ],
   "source": [
    "help('print')"
   ]
  },
  {
   "cell_type": "markdown",
   "id": "aaf8f65b",
   "metadata": {},
   "source": [
    "### Print"
   ]
  },
  {
   "cell_type": "code",
   "execution_count": 3,
   "id": "8c69dd90",
   "metadata": {},
   "outputs": [
    {
     "name": "stdout",
     "output_type": "stream",
     "text": [
      "a\n",
      "1\n",
      "1.0\n",
      "True\n"
     ]
    }
   ],
   "source": [
    "print('a')\n",
    "print(1)\n",
    "print(1.0)\n",
    "print(True)"
   ]
  },
  {
   "cell_type": "code",
   "execution_count": 4,
   "id": "63e6efbb",
   "metadata": {},
   "outputs": [
    {
     "name": "stdout",
     "output_type": "stream",
     "text": [
      "a 1 1.0 True\n"
     ]
    }
   ],
   "source": [
    "print('a', 1, 1.0, True)"
   ]
  },
  {
   "cell_type": "code",
   "execution_count": 8,
   "id": "2bc3faed",
   "metadata": {},
   "outputs": [
    {
     "name": "stdout",
     "output_type": "stream",
     "text": [
      "a 1 1.0 True\n"
     ]
    }
   ],
   "source": [
    "print('a', 1, 1.0, True, sep=' ', end='\\n')"
   ]
  },
  {
   "cell_type": "code",
   "execution_count": 6,
   "id": "1b35c65c",
   "metadata": {},
   "outputs": [
    {
     "name": "stdout",
     "output_type": "stream",
     "text": [
      "a,1,1.0,True\n",
      "a-1-1.0-True\n"
     ]
    }
   ],
   "source": [
    "print('a', 1, 1.0, True, sep=',')\n",
    "print('a', 1, 1.0, True, sep='-')"
   ]
  },
  {
   "cell_type": "code",
   "execution_count": 7,
   "id": "8176e9c1",
   "metadata": {},
   "outputs": [
    {
     "name": "stdout",
     "output_type": "stream",
     "text": [
      "a,1,1.0,True__a-1-1.0-True\n"
     ]
    }
   ],
   "source": [
    "print('a', 1, 1.0, True, sep=',', end='__')\n",
    "print('a', 1, 1.0, True, sep='-')"
   ]
  },
  {
   "cell_type": "markdown",
   "id": "23eaed47",
   "metadata": {},
   "source": [
    "### Type"
   ]
  },
  {
   "cell_type": "code",
   "execution_count": 9,
   "id": "146d5667",
   "metadata": {},
   "outputs": [
    {
     "name": "stdout",
     "output_type": "stream",
     "text": [
      "<class 'str'>\n",
      "<class 'int'>\n",
      "<class 'float'>\n",
      "<class 'bool'>\n"
     ]
    }
   ],
   "source": [
    "print(type(\"a\"))\n",
    "print(type(1))\n",
    "print(type(1.0))\n",
    "print(type(True))"
   ]
  },
  {
   "cell_type": "markdown",
   "id": "90aa85d2",
   "metadata": {},
   "source": [
    "### Input"
   ]
  },
  {
   "cell_type": "code",
   "execution_count": 10,
   "id": "88f36f68",
   "metadata": {},
   "outputs": [
    {
     "name": "stdout",
     "output_type": "stream",
     "text": [
      "Enter something: 1\n",
      "<class 'str'>\n"
     ]
    }
   ],
   "source": [
    "x = input(\"Enter something: \")\n",
    "print(type(x))"
   ]
  },
  {
   "cell_type": "markdown",
   "id": "29ecb182",
   "metadata": {},
   "source": [
    "# Type Casting\n",
    "### Int"
   ]
  },
  {
   "cell_type": "code",
   "execution_count": 18,
   "id": "5a5ad487",
   "metadata": {},
   "outputs": [
    {
     "name": "stdout",
     "output_type": "stream",
     "text": [
      "1\n",
      "<class 'int'>\n"
     ]
    }
   ],
   "source": [
    "print(int('1'))\n",
    "print(type(int('1')))"
   ]
  },
  {
   "cell_type": "code",
   "execution_count": 19,
   "id": "110c35bd",
   "metadata": {},
   "outputs": [
    {
     "ename": "ValueError",
     "evalue": "invalid literal for int() with base 10: 'a'",
     "output_type": "error",
     "traceback": [
      "\u001b[1;31m---------------------------------------------------------------------------\u001b[0m",
      "\u001b[1;31mValueError\u001b[0m                                Traceback (most recent call last)",
      "Cell \u001b[1;32mIn [19], line 1\u001b[0m\n\u001b[1;32m----> 1\u001b[0m \u001b[38;5;28mprint\u001b[39m(\u001b[38;5;28;43mint\u001b[39;49m\u001b[43m(\u001b[49m\u001b[38;5;124;43m'\u001b[39;49m\u001b[38;5;124;43ma\u001b[39;49m\u001b[38;5;124;43m'\u001b[39;49m\u001b[43m)\u001b[49m)\n\u001b[0;32m      2\u001b[0m \u001b[38;5;28mprint\u001b[39m(\u001b[38;5;28mtype\u001b[39m(\u001b[38;5;28mint\u001b[39m(\u001b[38;5;124m'\u001b[39m\u001b[38;5;124ma\u001b[39m\u001b[38;5;124m'\u001b[39m)))\n",
      "\u001b[1;31mValueError\u001b[0m: invalid literal for int() with base 10: 'a'"
     ]
    }
   ],
   "source": [
    "print(int('a'))\n",
    "print(type(int('a')))"
   ]
  },
  {
   "cell_type": "code",
   "execution_count": 15,
   "id": "539aadf6",
   "metadata": {},
   "outputs": [
    {
     "name": "stdout",
     "output_type": "stream",
     "text": [
      "1\n",
      "<class 'int'>\n"
     ]
    }
   ],
   "source": [
    "print(int(1.0))\n",
    "print(type(int(1.0)))"
   ]
  },
  {
   "cell_type": "code",
   "execution_count": 17,
   "id": "a55672b5",
   "metadata": {},
   "outputs": [
    {
     "name": "stdout",
     "output_type": "stream",
     "text": [
      "1\n",
      "<class 'int'>\n"
     ]
    }
   ],
   "source": [
    "print(int(1.9))\n",
    "print(type(int(1.9)))"
   ]
  },
  {
   "cell_type": "code",
   "execution_count": 21,
   "id": "674f145e",
   "metadata": {},
   "outputs": [
    {
     "name": "stdout",
     "output_type": "stream",
     "text": [
      "1\n",
      "<class 'int'>\n"
     ]
    }
   ],
   "source": [
    "print(int(True))\n",
    "print(type(int(True)))"
   ]
  },
  {
   "cell_type": "code",
   "execution_count": 22,
   "id": "82cb0def",
   "metadata": {},
   "outputs": [
    {
     "name": "stdout",
     "output_type": "stream",
     "text": [
      "0\n",
      "<class 'int'>\n"
     ]
    }
   ],
   "source": [
    "print(int(False))\n",
    "print(type(int(False)))"
   ]
  },
  {
   "cell_type": "markdown",
   "id": "71dc75df",
   "metadata": {},
   "source": [
    "### Float"
   ]
  },
  {
   "cell_type": "code",
   "execution_count": 23,
   "id": "4f0db97b",
   "metadata": {},
   "outputs": [
    {
     "name": "stdout",
     "output_type": "stream",
     "text": [
      "1.0\n",
      "<class 'float'>\n"
     ]
    }
   ],
   "source": [
    "print(float('1'))\n",
    "print(type(float('1')))"
   ]
  },
  {
   "cell_type": "code",
   "execution_count": 24,
   "id": "8de29fb1",
   "metadata": {},
   "outputs": [
    {
     "ename": "ValueError",
     "evalue": "could not convert string to float: 'a'",
     "output_type": "error",
     "traceback": [
      "\u001b[1;31m---------------------------------------------------------------------------\u001b[0m",
      "\u001b[1;31mValueError\u001b[0m                                Traceback (most recent call last)",
      "Cell \u001b[1;32mIn [24], line 1\u001b[0m\n\u001b[1;32m----> 1\u001b[0m \u001b[38;5;28mprint\u001b[39m(\u001b[38;5;28;43mfloat\u001b[39;49m\u001b[43m(\u001b[49m\u001b[38;5;124;43m'\u001b[39;49m\u001b[38;5;124;43ma\u001b[39;49m\u001b[38;5;124;43m'\u001b[39;49m\u001b[43m)\u001b[49m)\n\u001b[0;32m      2\u001b[0m \u001b[38;5;28mprint\u001b[39m(\u001b[38;5;28mtype\u001b[39m(\u001b[38;5;28mfloat\u001b[39m(\u001b[38;5;124m'\u001b[39m\u001b[38;5;124ma\u001b[39m\u001b[38;5;124m'\u001b[39m)))\n",
      "\u001b[1;31mValueError\u001b[0m: could not convert string to float: 'a'"
     ]
    }
   ],
   "source": [
    "print(float('a'))\n",
    "print(type(float('a')))"
   ]
  },
  {
   "cell_type": "code",
   "execution_count": 25,
   "id": "648e5895",
   "metadata": {},
   "outputs": [
    {
     "name": "stdout",
     "output_type": "stream",
     "text": [
      "1.0\n",
      "<class 'float'>\n"
     ]
    }
   ],
   "source": [
    "print(float(1))\n",
    "print(type(float(1)))"
   ]
  },
  {
   "cell_type": "code",
   "execution_count": 28,
   "id": "85e97969",
   "metadata": {},
   "outputs": [
    {
     "name": "stdout",
     "output_type": "stream",
     "text": [
      "1.0\n",
      "<class 'float'>\n"
     ]
    }
   ],
   "source": [
    "print(float(True))\n",
    "print(type(float(True)))"
   ]
  },
  {
   "cell_type": "code",
   "execution_count": 29,
   "id": "728a09ba",
   "metadata": {},
   "outputs": [
    {
     "name": "stdout",
     "output_type": "stream",
     "text": [
      "0.0\n",
      "<class 'float'>\n"
     ]
    }
   ],
   "source": [
    "print(float(False))\n",
    "print(type(float(False)))"
   ]
  },
  {
   "cell_type": "markdown",
   "id": "75535e78",
   "metadata": {},
   "source": [
    "### Bool"
   ]
  },
  {
   "cell_type": "code",
   "execution_count": 21,
   "id": "0d3696b3",
   "metadata": {},
   "outputs": [
    {
     "name": "stdout",
     "output_type": "stream",
     "text": [
      "True\n",
      "<class 'bool'>\n"
     ]
    }
   ],
   "source": [
    "print(bool('1'))\n",
    "print(type(bool('1')))"
   ]
  },
  {
   "cell_type": "code",
   "execution_count": 31,
   "id": "f6064abd",
   "metadata": {},
   "outputs": [
    {
     "name": "stdout",
     "output_type": "stream",
     "text": [
      "True\n",
      "<class 'bool'>\n"
     ]
    }
   ],
   "source": [
    "print(bool('a'))\n",
    "print(type(bool('a')))"
   ]
  },
  {
   "cell_type": "code",
   "execution_count": 32,
   "id": "2ba823e0",
   "metadata": {},
   "outputs": [
    {
     "name": "stdout",
     "output_type": "stream",
     "text": [
      "False\n",
      "<class 'bool'>\n"
     ]
    }
   ],
   "source": [
    "print(bool(''))\n",
    "print(type(bool('')))"
   ]
  },
  {
   "cell_type": "code",
   "execution_count": 33,
   "id": "141b6060",
   "metadata": {},
   "outputs": [
    {
     "name": "stdout",
     "output_type": "stream",
     "text": [
      "True\n",
      "<class 'bool'>\n"
     ]
    }
   ],
   "source": [
    "print(bool(1))\n",
    "print(type(bool(1)))"
   ]
  },
  {
   "cell_type": "code",
   "execution_count": 34,
   "id": "dd6738ee",
   "metadata": {},
   "outputs": [
    {
     "name": "stdout",
     "output_type": "stream",
     "text": [
      "False\n",
      "<class 'bool'>\n"
     ]
    }
   ],
   "source": [
    "print(bool(0))\n",
    "print(type(bool(0)))"
   ]
  },
  {
   "cell_type": "code",
   "execution_count": 36,
   "id": "3107e9c4",
   "metadata": {},
   "outputs": [
    {
     "name": "stdout",
     "output_type": "stream",
     "text": [
      "True\n",
      "<class 'bool'>\n"
     ]
    }
   ],
   "source": [
    "print(bool(0.5))\n",
    "print(type(bool(0.5)))"
   ]
  },
  {
   "cell_type": "code",
   "execution_count": 37,
   "id": "28f6be77",
   "metadata": {},
   "outputs": [
    {
     "name": "stdout",
     "output_type": "stream",
     "text": [
      "False\n",
      "<class 'bool'>\n"
     ]
    }
   ],
   "source": [
    "print(bool(0.0))\n",
    "print(type(bool(0.0)))"
   ]
  },
  {
   "cell_type": "code",
   "execution_count": 25,
   "id": "b36ffe15",
   "metadata": {},
   "outputs": [
    {
     "name": "stdout",
     "output_type": "stream",
     "text": [
      "0\n",
      "0.0\n",
      "False\n",
      "\n"
     ]
    }
   ],
   "source": [
    "print(int())\n",
    "print(float())\n",
    "print(bool())\n",
    "print(str()) ''"
   ]
  },
  {
   "cell_type": "code",
   "execution_count": 26,
   "id": "7ec08e83",
   "metadata": {},
   "outputs": [
    {
     "data": {
      "text/plain": [
       "''"
      ]
     },
     "execution_count": 26,
     "metadata": {},
     "output_type": "execute_result"
    }
   ],
   "source": [
    "str()"
   ]
  },
  {
   "cell_type": "markdown",
   "id": "3b0c9a4e",
   "metadata": {},
   "source": [
    "### Str"
   ]
  },
  {
   "cell_type": "code",
   "execution_count": 38,
   "id": "47d1b9b2",
   "metadata": {},
   "outputs": [
    {
     "name": "stdout",
     "output_type": "stream",
     "text": [
      "1\n",
      "<class 'str'>\n"
     ]
    }
   ],
   "source": [
    "print(str(1))\n",
    "print(type(str(1)))"
   ]
  },
  {
   "cell_type": "code",
   "execution_count": 39,
   "id": "caa945a1",
   "metadata": {},
   "outputs": [
    {
     "name": "stdout",
     "output_type": "stream",
     "text": [
      "1.5\n",
      "<class 'str'>\n"
     ]
    }
   ],
   "source": [
    "print(str(1.5))\n",
    "print(type(str(1.5)))"
   ]
  },
  {
   "cell_type": "code",
   "execution_count": 40,
   "id": "090b6e81",
   "metadata": {},
   "outputs": [
    {
     "name": "stdout",
     "output_type": "stream",
     "text": [
      "True\n",
      "<class 'str'>\n"
     ]
    }
   ],
   "source": [
    "print(str(True))\n",
    "print(type(str(True)))"
   ]
  },
  {
   "cell_type": "code",
   "execution_count": 41,
   "id": "148de51e",
   "metadata": {},
   "outputs": [
    {
     "name": "stdout",
     "output_type": "stream",
     "text": [
      "False\n",
      "<class 'str'>\n"
     ]
    }
   ],
   "source": [
    "print(str(False))\n",
    "print(type(str(False)))"
   ]
  },
  {
   "cell_type": "code",
   "execution_count": 27,
   "id": "741895eb",
   "metadata": {},
   "outputs": [
    {
     "name": "stdout",
     "output_type": "stream",
     "text": [
      "1 <class 'int'>\n"
     ]
    }
   ],
   "source": [
    "x = 1\n",
    "print(x, type(x))"
   ]
  },
  {
   "cell_type": "markdown",
   "id": "3534b45b",
   "metadata": {},
   "source": [
    "# Operators\n",
    "### Arithmetic"
   ]
  },
  {
   "cell_type": "code",
   "execution_count": 2,
   "id": "699ff285",
   "metadata": {},
   "outputs": [
    {
     "name": "stdout",
     "output_type": "stream",
     "text": [
      "5\n",
      "-1\n",
      "6\n",
      "0.6666666666666666\n",
      "0\n",
      "2\n",
      "8\n"
     ]
    }
   ],
   "source": [
    "print(2+3) # Addition\n",
    "print(2-3) # Subtraction\n",
    "print(2*3) # Multiplication\n",
    "print(2/3) # Division\n",
    "\n",
    "print(2//3)# Floor Division \n",
    "print(2%3) # Remainder/modulus\n",
    "print(2**3)# Exponent"
   ]
  },
  {
   "cell_type": "code",
   "execution_count": 29,
   "id": "bfa878bc",
   "metadata": {},
   "outputs": [
    {
     "name": "stdout",
     "output_type": "stream",
     "text": [
      "2.0\n"
     ]
    }
   ],
   "source": [
    "print(4/2)"
   ]
  },
  {
   "cell_type": "code",
   "execution_count": 28,
   "id": "4df07175",
   "metadata": {},
   "outputs": [
    {
     "name": "stdout",
     "output_type": "stream",
     "text": [
      "-2\n"
     ]
    }
   ],
   "source": [
    "print(-5//4)"
   ]
  },
  {
   "cell_type": "code",
   "execution_count": 3,
   "id": "ad115a04",
   "metadata": {},
   "outputs": [
    {
     "name": "stdout",
     "output_type": "stream",
     "text": [
      "5.0\n",
      "-1.0\n",
      "6.0\n",
      "0.6666666666666666\n",
      "0.0\n",
      "2.0\n",
      "8.0\n"
     ]
    }
   ],
   "source": [
    "print(2.0+3)\n",
    "print(2.0-3)\n",
    "print(2.0*3)\n",
    "print(2.0/3)\n",
    "\n",
    "print(2.0//3)\n",
    "print(2.0%3)\n",
    "print(2.0**3)"
   ]
  },
  {
   "cell_type": "markdown",
   "id": "447ffec6",
   "metadata": {},
   "source": [
    "### Comparitive"
   ]
  },
  {
   "cell_type": "code",
   "execution_count": 4,
   "id": "88e2fb7f",
   "metadata": {},
   "outputs": [
    {
     "name": "stdout",
     "output_type": "stream",
     "text": [
      "False\n",
      "True\n",
      "False\n",
      "False\n",
      "True\n",
      "True\n"
     ]
    }
   ],
   "source": [
    "print(2 == 3) # Equal to\n",
    "print(2 != 3) # Not equal to\n",
    "print(2 >= 3) # Greater than or equal to\n",
    "print(2 >  3) # Greater than\n",
    "print(2 <= 3) # Less than or equal to\n",
    "print(2 <  3) # Less than"
   ]
  },
  {
   "cell_type": "markdown",
   "id": "8738ece5",
   "metadata": {},
   "source": [
    "### Logical"
   ]
  },
  {
   "cell_type": "code",
   "execution_count": 5,
   "id": "323dba76",
   "metadata": {},
   "outputs": [
    {
     "name": "stdout",
     "output_type": "stream",
     "text": [
      "False\n",
      "False\n",
      "False\n",
      "True\n"
     ]
    }
   ],
   "source": [
    "print(False and False)\n",
    "print(False and True)\n",
    "print(True  and False)\n",
    "print(True  and True)"
   ]
  },
  {
   "cell_type": "code",
   "execution_count": 6,
   "id": "66f64663",
   "metadata": {},
   "outputs": [
    {
     "name": "stdout",
     "output_type": "stream",
     "text": [
      "False\n",
      "True\n",
      "True\n",
      "True\n"
     ]
    }
   ],
   "source": [
    "print(False or False)\n",
    "print(False or True)\n",
    "print(True  or False)\n",
    "print(True  or True)"
   ]
  },
  {
   "cell_type": "code",
   "execution_count": 7,
   "id": "f62a4963",
   "metadata": {},
   "outputs": [
    {
     "name": "stdout",
     "output_type": "stream",
     "text": [
      "False\n",
      "True\n"
     ]
    }
   ],
   "source": [
    "print(not True)\n",
    "print(not False)"
   ]
  },
  {
   "cell_type": "markdown",
   "id": "8729a0d0",
   "metadata": {},
   "source": [
    "### Augmented (Short-hand)"
   ]
  },
  {
   "cell_type": "code",
   "execution_count": 8,
   "id": "1cb7b831",
   "metadata": {},
   "outputs": [],
   "source": [
    "x = 1   # Assignment\n",
    "x += 1  # x = x + 1\n",
    "x -= 1  # x = x - 1\n",
    "x *= 1  # x = x * 1\n",
    "x /= 1  # x = x / 1\n",
    "x //= 1 # x = x // 1\n",
    "x %=  1 # x = x %  1\n",
    "x **= 1 # x = x ** 1"
   ]
  },
  {
   "cell_type": "markdown",
   "id": "ec1c54eb",
   "metadata": {},
   "source": [
    "### Identity"
   ]
  },
  {
   "cell_type": "code",
   "execution_count": 10,
   "id": "4900f8f3",
   "metadata": {},
   "outputs": [
    {
     "name": "stdout",
     "output_type": "stream",
     "text": [
      "True\n",
      "False\n"
     ]
    }
   ],
   "source": [
    "x = 1\n",
    "y = 1\n",
    "print(x is y)\n",
    "print(x is not y)"
   ]
  },
  {
   "cell_type": "code",
   "execution_count": 11,
   "id": "5fae60d4",
   "metadata": {},
   "outputs": [
    {
     "name": "stdout",
     "output_type": "stream",
     "text": [
      "False\n",
      "True\n"
     ]
    }
   ],
   "source": [
    "x = \"a\"\n",
    "y = \"b\"\n",
    "print(x is y)\n",
    "print(x is not y)"
   ]
  },
  {
   "cell_type": "code",
   "execution_count": 32,
   "id": "3b4558a5",
   "metadata": {},
   "outputs": [
    {
     "name": "stdout",
     "output_type": "stream",
     "text": [
      "False\n",
      "True\n"
     ]
    }
   ],
   "source": [
    "x = 1\n",
    "y = \"1\"\n",
    "print(x is y)\n",
    "print(x is not y)"
   ]
  },
  {
   "cell_type": "markdown",
   "id": "9fe0afcb",
   "metadata": {},
   "source": [
    "### Membership"
   ]
  },
  {
   "cell_type": "code",
   "execution_count": 12,
   "id": "211514c7",
   "metadata": {},
   "outputs": [
    {
     "name": "stdout",
     "output_type": "stream",
     "text": [
      "True\n",
      "False\n"
     ]
    }
   ],
   "source": [
    "x = \"abcdefg\"\n",
    "print(\"a\" in x)\n",
    "print(\"a\" not in x)"
   ]
  },
  {
   "cell_type": "code",
   "execution_count": 13,
   "id": "4b34c770",
   "metadata": {},
   "outputs": [
    {
     "name": "stdout",
     "output_type": "stream",
     "text": [
      "False\n",
      "True\n"
     ]
    }
   ],
   "source": [
    "x = \"abcdefg\"\n",
    "print(\"t\" in x)\n",
    "print(\"t\" not in x)"
   ]
  },
  {
   "cell_type": "code",
   "execution_count": 15,
   "id": "5d69a306",
   "metadata": {},
   "outputs": [
    {
     "ename": "TypeError",
     "evalue": "argument of type 'int' is not iterable",
     "output_type": "error",
     "traceback": [
      "\u001b[1;31m---------------------------------------------------------------------------\u001b[0m",
      "\u001b[1;31mTypeError\u001b[0m                                 Traceback (most recent call last)",
      "Cell \u001b[1;32mIn [15], line 2\u001b[0m\n\u001b[0;32m      1\u001b[0m x \u001b[38;5;241m=\u001b[39m \u001b[38;5;241m12345\u001b[39m\n\u001b[1;32m----> 2\u001b[0m \u001b[38;5;28mprint\u001b[39m(\u001b[38;5;241;43m1\u001b[39;49m\u001b[43m \u001b[49m\u001b[38;5;129;43;01min\u001b[39;49;00m\u001b[43m \u001b[49m\u001b[43mx\u001b[49m)\n\u001b[0;32m      3\u001b[0m \u001b[38;5;28mprint\u001b[39m(\u001b[38;5;241m1\u001b[39m \u001b[38;5;129;01mnot\u001b[39;00m \u001b[38;5;129;01min\u001b[39;00m x)\n",
      "\u001b[1;31mTypeError\u001b[0m: argument of type 'int' is not iterable"
     ]
    }
   ],
   "source": [
    "x = 12345\n",
    "print(1 in x)\n",
    "print(1 not in x)"
   ]
  },
  {
   "cell_type": "markdown",
   "id": "c577b638",
   "metadata": {},
   "source": [
    "# Order of Operations\n",
    "1. Brackets\n",
    "2. Exponent (**)\n",
    "3. Multiplication and Division (*, /, //, %)\n",
    "4. Addition and Subtraction (+, -)\n",
    "\n",
    "\n",
    "5. Comparitive\n",
    "\n",
    "\n",
    "6. not\n",
    "7. and\n",
    "8. or"
   ]
  },
  {
   "cell_type": "markdown",
   "id": "381744ef",
   "metadata": {},
   "source": [
    "# String"
   ]
  },
  {
   "cell_type": "code",
   "execution_count": 20,
   "id": "bb57cf32",
   "metadata": {},
   "outputs": [
    {
     "name": "stdout",
     "output_type": "stream",
     "text": [
      "Hi, my name is John.\n",
      "Hi, my name is John.\n"
     ]
    }
   ],
   "source": [
    "x = 'Hi, my name is John.'\n",
    "print(x)\n",
    "x = \"Hi, my name is John.\"\n",
    "print(x)"
   ]
  },
  {
   "cell_type": "code",
   "execution_count": 21,
   "id": "ac61a9f9",
   "metadata": {},
   "outputs": [
    {
     "ename": "SyntaxError",
     "evalue": "unterminated string literal (detected at line 1) (3978286233.py, line 1)",
     "output_type": "error",
     "traceback": [
      "\u001b[1;36m  Cell \u001b[1;32mIn [21], line 1\u001b[1;36m\u001b[0m\n\u001b[1;33m    x = 'I don't study python'\u001b[0m\n\u001b[1;37m                             ^\u001b[0m\n\u001b[1;31mSyntaxError\u001b[0m\u001b[1;31m:\u001b[0m unterminated string literal (detected at line 1)\n"
     ]
    }
   ],
   "source": [
    "x = 'I don't study python'\n",
    "print(x)"
   ]
  },
  {
   "cell_type": "code",
   "execution_count": 22,
   "id": "45a0fefe",
   "metadata": {},
   "outputs": [
    {
     "name": "stdout",
     "output_type": "stream",
     "text": [
      "I don't study python\n"
     ]
    }
   ],
   "source": [
    "x = \"I don't study python\"\n",
    "print(x)"
   ]
  },
  {
   "cell_type": "code",
   "execution_count": 23,
   "id": "33d5ab4f",
   "metadata": {},
   "outputs": [
    {
     "name": "stdout",
     "output_type": "stream",
     "text": [
      "He said \"My name is John.\"\n"
     ]
    }
   ],
   "source": [
    "x = 'He said \"My name is John.\"'\n",
    "print(x)"
   ]
  },
  {
   "cell_type": "code",
   "execution_count": 24,
   "id": "25744993",
   "metadata": {},
   "outputs": [
    {
     "ename": "SyntaxError",
     "evalue": "invalid syntax (1387494687.py, line 1)",
     "output_type": "error",
     "traceback": [
      "\u001b[1;36m  Cell \u001b[1;32mIn [24], line 1\u001b[1;36m\u001b[0m\n\u001b[1;33m    x = \"He said \"My name is John.\"\"\u001b[0m\n\u001b[1;37m                  ^\u001b[0m\n\u001b[1;31mSyntaxError\u001b[0m\u001b[1;31m:\u001b[0m invalid syntax\n"
     ]
    }
   ],
   "source": [
    "x = \"He said \"My name is John.\"\"\n",
    "print(x)"
   ]
  },
  {
   "cell_type": "code",
   "execution_count": 30,
   "id": "b831f58e",
   "metadata": {},
   "outputs": [
    {
     "ename": "SyntaxError",
     "evalue": "(unicode error) 'unicodeescape' codec can't decode bytes in position 2-3: truncated \\UXXXXXXXX escape (1835317042.py, line 1)",
     "output_type": "error",
     "traceback": [
      "\u001b[1;36m  Cell \u001b[1;32mIn [30], line 1\u001b[1;36m\u001b[0m\n\u001b[1;33m    print(\"C:\\User\\Documents\\test.txt\")\u001b[0m\n\u001b[1;37m                                      ^\u001b[0m\n\u001b[1;31mSyntaxError\u001b[0m\u001b[1;31m:\u001b[0m (unicode error) 'unicodeescape' codec can't decode bytes in position 2-3: truncated \\UXXXXXXXX escape\n"
     ]
    }
   ],
   "source": [
    "print(\"C:\\User\\Documents\\test.txt\")"
   ]
  },
  {
   "cell_type": "markdown",
   "id": "f194c836",
   "metadata": {},
   "source": [
    "# Escape Sequences"
   ]
  },
  {
   "cell_type": "code",
   "execution_count": 26,
   "id": "c0c76169",
   "metadata": {},
   "outputs": [
    {
     "data": {
      "text/plain": [
       "'\"'"
      ]
     },
     "execution_count": 26,
     "metadata": {},
     "output_type": "execute_result"
    }
   ],
   "source": [
    "'\\n' # New line\n",
    "'\\t' # Tab Space\n",
    "\n",
    "'\\\\' # BackSlash\n",
    "'\\'' # Single qoutation\n",
    "'\\\"' # Double qoutation"
   ]
  },
  {
   "cell_type": "code",
   "execution_count": 29,
   "id": "897b2d6e",
   "metadata": {},
   "outputs": [
    {
     "name": "stdout",
     "output_type": "stream",
     "text": [
      "Twinkle twinkle little star,\n",
      "\tHow I wonder what you are?\n",
      "\n",
      "Up above the world so high,\n",
      "\tLike a diamond in the sky.\n"
     ]
    }
   ],
   "source": [
    "print(\"Twinkle twinkle little star,\\n\\tHow I wonder what you are?\\n\\nUp above the world so high,\\n\\tLike a diamond in the sky.\")"
   ]
  },
  {
   "cell_type": "code",
   "execution_count": 32,
   "id": "6a7404e7",
   "metadata": {},
   "outputs": [
    {
     "name": "stdout",
     "output_type": "stream",
     "text": [
      "He said, \"My name is John and I don't study python.\"\n"
     ]
    }
   ],
   "source": [
    "x = \"He said, \\\"My name is John and I don\\'t study python.\\\"\"\n",
    "print(x)"
   ]
  },
  {
   "cell_type": "code",
   "execution_count": 34,
   "id": "a3336b40",
   "metadata": {},
   "outputs": [
    {
     "name": "stdout",
     "output_type": "stream",
     "text": [
      "He said, \"My name is John and I don't study python.\"\n"
     ]
    }
   ],
   "source": [
    "x = 'He said, \\\"My name is John and I don\\'t study python.\\\"'\n",
    "print(x)"
   ]
  },
  {
   "cell_type": "code",
   "execution_count": 35,
   "id": "872b171c",
   "metadata": {},
   "outputs": [
    {
     "name": "stdout",
     "output_type": "stream",
     "text": [
      "C:\\User\\Documents\\test.txt\n"
     ]
    }
   ],
   "source": [
    "print(\"C:\\\\User\\\\Documents\\\\test.txt\")"
   ]
  },
  {
   "cell_type": "code",
   "execution_count": 33,
   "id": "a331529f",
   "metadata": {},
   "outputs": [
    {
     "name": "stdout",
     "output_type": "stream",
     "text": [
      "Twinkle twinkle little star,\n",
      "        How I wonder what you are?\n",
      "\n",
      "Up above the world so high,\n",
      "        Like a diamond in the sky.\n"
     ]
    }
   ],
   "source": [
    "print(\"\"\"Twinkle twinkle little star,\n",
    "        How I wonder what you are?\n",
    "\n",
    "Up above the world so high,\n",
    "        Like a diamond in the sky.\"\"\")"
   ]
  },
  {
   "cell_type": "code",
   "execution_count": 34,
   "id": "d7ea1fb3",
   "metadata": {},
   "outputs": [
    {
     "name": "stdout",
     "output_type": "stream",
     "text": [
      "He said, \"My name is John and I don't study python.\"\n"
     ]
    }
   ],
   "source": [
    "print('''He said, \"My name is John and I don't study python.\"''')"
   ]
  },
  {
   "cell_type": "code",
   "execution_count": 37,
   "id": "3076f6b8",
   "metadata": {},
   "outputs": [
    {
     "name": "stdout",
     "output_type": "stream",
     "text": [
      "C:\\User\\Documents\\test.txt\n"
     ]
    }
   ],
   "source": [
    "print(\"\"\"C:\\\\User\\\\Documents\\\\test.txt\"\"\")"
   ]
  },
  {
   "cell_type": "markdown",
   "id": "d8d1243f",
   "metadata": {},
   "source": [
    "# String functions\n",
    "### Len"
   ]
  },
  {
   "cell_type": "code",
   "execution_count": 36,
   "id": "6157dc5f",
   "metadata": {},
   "outputs": [
    {
     "name": "stdout",
     "output_type": "stream",
     "text": [
      "5\n"
     ]
    }
   ],
   "source": [
    "print(len(\"a b c\"))"
   ]
  },
  {
   "cell_type": "markdown",
   "id": "89b1fca6",
   "metadata": {},
   "source": [
    "### Ord"
   ]
  },
  {
   "cell_type": "code",
   "execution_count": 37,
   "id": "8702c315",
   "metadata": {},
   "outputs": [
    {
     "name": "stdout",
     "output_type": "stream",
     "text": [
      "97\n"
     ]
    }
   ],
   "source": [
    "print(ord('a'))"
   ]
  },
  {
   "cell_type": "code",
   "execution_count": 38,
   "id": "886a7811",
   "metadata": {},
   "outputs": [
    {
     "name": "stdout",
     "output_type": "stream",
     "text": [
      "49\n"
     ]
    }
   ],
   "source": [
    "print(ord('1'))"
   ]
  },
  {
   "cell_type": "code",
   "execution_count": 39,
   "id": "5ad380df",
   "metadata": {},
   "outputs": [
    {
     "name": "stdout",
     "output_type": "stream",
     "text": [
      "65\n"
     ]
    }
   ],
   "source": [
    "print(ord('A'))"
   ]
  },
  {
   "cell_type": "markdown",
   "id": "a37f3a4d",
   "metadata": {},
   "source": [
    "### Chr"
   ]
  },
  {
   "cell_type": "code",
   "execution_count": 40,
   "id": "d32e4ca6",
   "metadata": {},
   "outputs": [
    {
     "name": "stdout",
     "output_type": "stream",
     "text": [
      "A\n"
     ]
    }
   ],
   "source": [
    "print(chr(65))"
   ]
  },
  {
   "cell_type": "code",
   "execution_count": 43,
   "id": "26091bed",
   "metadata": {},
   "outputs": [
    {
     "name": "stdout",
     "output_type": "stream",
     "text": [
      "3\n"
     ]
    }
   ],
   "source": [
    "print(chr(51))"
   ]
  },
  {
   "cell_type": "markdown",
   "id": "68ab600f",
   "metadata": {},
   "source": [
    "# String Methods"
   ]
  },
  {
   "cell_type": "code",
   "execution_count": 44,
   "id": "3232c9fd",
   "metadata": {},
   "outputs": [],
   "source": [
    "x = \"aBc xYz\""
   ]
  },
  {
   "cell_type": "code",
   "execution_count": 46,
   "id": "cf4a9b23",
   "metadata": {},
   "outputs": [
    {
     "name": "stdout",
     "output_type": "stream",
     "text": [
      "abc xyz\n",
      "ABC XYZ\n",
      "Abc Xyz\n",
      "Abc xyz\n",
      "AbC XyZ\n"
     ]
    }
   ],
   "source": [
    "print(x.lower())\n",
    "print(x.upper())\n",
    "print(x.title())\n",
    "print(x.capitalize())\n",
    "print(x.swapcase())"
   ]
  },
  {
   "cell_type": "code",
   "execution_count": 6,
   "id": "3985762c",
   "metadata": {},
   "outputs": [],
   "source": [
    "x = 'The quick brown fox jumps over the lazy dog.'"
   ]
  },
  {
   "cell_type": "code",
   "execution_count": 8,
   "id": "0f13526f",
   "metadata": {},
   "outputs": [
    {
     "name": "stdout",
     "output_type": "stream",
     "text": [
      "12\n"
     ]
    }
   ],
   "source": [
    "print(x.find('o'))"
   ]
  },
  {
   "cell_type": "code",
   "execution_count": 9,
   "id": "7456cd1d",
   "metadata": {},
   "outputs": [
    {
     "name": "stdout",
     "output_type": "stream",
     "text": [
      "31\n"
     ]
    }
   ],
   "source": [
    "print(x.find('t'))"
   ]
  },
  {
   "cell_type": "code",
   "execution_count": 10,
   "id": "12967d72",
   "metadata": {},
   "outputs": [
    {
     "name": "stdout",
     "output_type": "stream",
     "text": [
      "0\n"
     ]
    }
   ],
   "source": [
    "print(x.find('T'))"
   ]
  },
  {
   "cell_type": "code",
   "execution_count": 11,
   "id": "1953b6d6",
   "metadata": {},
   "outputs": [
    {
     "name": "stdout",
     "output_type": "stream",
     "text": [
      "-1\n"
     ]
    }
   ],
   "source": [
    "print(x.find('1'))"
   ]
  },
  {
   "cell_type": "code",
   "execution_count": 12,
   "id": "88a232b6",
   "metadata": {},
   "outputs": [
    {
     "name": "stdout",
     "output_type": "stream",
     "text": [
      "31\n"
     ]
    }
   ],
   "source": [
    "print(x.find('the'))"
   ]
  },
  {
   "cell_type": "code",
   "execution_count": 13,
   "id": "d9a113a5",
   "metadata": {},
   "outputs": [
    {
     "name": "stdout",
     "output_type": "stream",
     "text": [
      "12\n"
     ]
    }
   ],
   "source": [
    "print(x.find('.', 16, 44))\n",
    "print(x.find('.', 0, len(x)))"
   ]
  },
  {
   "cell_type": "code",
   "execution_count": 44,
   "id": "46e26ce3",
   "metadata": {},
   "outputs": [
    {
     "name": "stdout",
     "output_type": "stream",
     "text": [
      "abcabcabcabcabc\n"
     ]
    }
   ],
   "source": [
    "x = 'abc' * 5\n",
    "print(x)"
   ]
  },
  {
   "cell_type": "code",
   "execution_count": null,
   "id": "01072abe",
   "metadata": {},
   "outputs": [],
   "source": []
  }
 ],
 "metadata": {
  "kernelspec": {
   "display_name": "Python 3 (ipykernel)",
   "language": "python",
   "name": "python3"
  },
  "language_info": {
   "codemirror_mode": {
    "name": "ipython",
    "version": 3
   },
   "file_extension": ".py",
   "mimetype": "text/x-python",
   "name": "python",
   "nbconvert_exporter": "python",
   "pygments_lexer": "ipython3",
   "version": "3.11.0"
  }
 },
 "nbformat": 4,
 "nbformat_minor": 5
}
