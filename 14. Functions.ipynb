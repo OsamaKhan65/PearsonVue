{
 "cells": [
  {
   "cell_type": "markdown",
   "id": "9900ecd4",
   "metadata": {},
   "source": [
    "print()\n",
    "input()\n",
    "len()\n",
    "sum()\n",
    "min()\n",
    "max()"
   ]
  },
  {
   "cell_type": "code",
   "execution_count": 2,
   "id": "53c30999",
   "metadata": {},
   "outputs": [],
   "source": [
    "def addition(x, y):\n",
    "    print(x+y)"
   ]
  },
  {
   "cell_type": "code",
   "execution_count": 3,
   "id": "de374650",
   "metadata": {},
   "outputs": [
    {
     "name": "stdout",
     "output_type": "stream",
     "text": [
      "5\n"
     ]
    }
   ],
   "source": [
    "addition(1, 4)"
   ]
  },
  {
   "cell_type": "code",
   "execution_count": 11,
   "id": "e1fba5d3",
   "metadata": {},
   "outputs": [],
   "source": [
    "def length(iterable):\n",
    "    n = 0\n",
    "    for i in iterable:\n",
    "        n+=1\n",
    "    return n"
   ]
  },
  {
   "cell_type": "code",
   "execution_count": 7,
   "id": "c7884b92",
   "metadata": {},
   "outputs": [
    {
     "name": "stdout",
     "output_type": "stream",
     "text": [
      "3\n"
     ]
    }
   ],
   "source": [
    "length(\"abc\")"
   ]
  },
  {
   "cell_type": "code",
   "execution_count": 12,
   "id": "18f164d2",
   "metadata": {},
   "outputs": [
    {
     "name": "stdout",
     "output_type": "stream",
     "text": [
      "3\n"
     ]
    }
   ],
   "source": [
    "print(length('abc'))"
   ]
  },
  {
   "cell_type": "code",
   "execution_count": 13,
   "id": "6299c3c0",
   "metadata": {},
   "outputs": [
    {
     "name": "stdout",
     "output_type": "stream",
     "text": [
      "3\n"
     ]
    }
   ],
   "source": [
    "print(len('abc'))"
   ]
  },
  {
   "cell_type": "code",
   "execution_count": 14,
   "id": "4ca8997f",
   "metadata": {},
   "outputs": [
    {
     "data": {
      "text/plain": [
       "82"
      ]
     },
     "execution_count": 14,
     "metadata": {},
     "output_type": "execute_result"
    }
   ],
   "source": [
    "def maximum(x):\n",
    "    m = x[0]\n",
    "    for i in x:\n",
    "        if i>m:\n",
    "            m = i\n",
    "    return m\n",
    "\n",
    "maximum((16, 20, 37, 82, 43))"
   ]
  },
  {
   "cell_type": "code",
   "execution_count": 24,
   "id": "aefc3b95",
   "metadata": {},
   "outputs": [],
   "source": [
    "def seperate(x):\n",
    "    integers = []\n",
    "    strings = []\n",
    "\n",
    "    for i in x:\n",
    "        if type(i) == int:\n",
    "            integers.append(i)\n",
    "        elif type(i) == str:\n",
    "            strings.append(i)\n",
    "    return integers, strings"
   ]
  },
  {
   "cell_type": "code",
   "execution_count": 25,
   "id": "03ff70ee",
   "metadata": {},
   "outputs": [
    {
     "name": "stdout",
     "output_type": "stream",
     "text": [
      "([1, 4, 9, 4], ['1', '6', '2', '1'])\n"
     ]
    }
   ],
   "source": [
    "print(seperate([1, '1', 4, '6', '2', 9, '1', 4]))"
   ]
  },
  {
   "cell_type": "code",
   "execution_count": 11,
   "id": "8436ef7e",
   "metadata": {},
   "outputs": [
    {
     "name": "stdout",
     "output_type": "stream",
     "text": [
      "1 2 3\n"
     ]
    }
   ],
   "source": [
    "print(1, 2, 3)"
   ]
  },
  {
   "cell_type": "code",
   "execution_count": 13,
   "id": "807ad988",
   "metadata": {},
   "outputs": [
    {
     "data": {
      "text/plain": [
       "6"
      ]
     },
     "execution_count": 13,
     "metadata": {},
     "output_type": "execute_result"
    }
   ],
   "source": [
    "sum((1, 2, 3))"
   ]
  },
  {
   "cell_type": "code",
   "execution_count": null,
   "id": "ecee7896",
   "metadata": {},
   "outputs": [],
   "source": [
    "def my_mean():\n",
    "    # call my_sum()"
   ]
  },
  {
   "cell_type": "code",
   "execution_count": 9,
   "id": "90e8f19c",
   "metadata": {},
   "outputs": [],
   "source": [
    "def my_sum(*x):\n",
    "    add = 0\n",
    "    for i in x:\n",
    "        add += i\n",
    "    return add"
   ]
  },
  {
   "cell_type": "code",
   "execution_count": 10,
   "id": "2c076b15",
   "metadata": {},
   "outputs": [
    {
     "ename": "UnboundLocalError",
     "evalue": "cannot access local variable 'add' where it is not associated with a value",
     "output_type": "error",
     "traceback": [
      "\u001b[1;31m---------------------------------------------------------------------------\u001b[0m",
      "\u001b[1;31mUnboundLocalError\u001b[0m                         Traceback (most recent call last)",
      "Cell \u001b[1;32mIn [10], line 1\u001b[0m\n\u001b[1;32m----> 1\u001b[0m \u001b[38;5;28mprint\u001b[39m(\u001b[43mmy_sum\u001b[49m\u001b[43m(\u001b[49m\u001b[38;5;241;43m1\u001b[39;49m\u001b[43m,\u001b[49m\u001b[43m \u001b[49m\u001b[38;5;241;43m2\u001b[39;49m\u001b[43m,\u001b[49m\u001b[43m \u001b[49m\u001b[38;5;241;43m3\u001b[39;49m\u001b[43m)\u001b[49m)\n",
      "Cell \u001b[1;32mIn [9], line 4\u001b[0m, in \u001b[0;36mmy_sum\u001b[1;34m(*x)\u001b[0m\n\u001b[0;32m      1\u001b[0m \u001b[38;5;28;01mdef\u001b[39;00m \u001b[38;5;21mmy_sum\u001b[39m(\u001b[38;5;241m*\u001b[39mx):\n\u001b[0;32m      2\u001b[0m \u001b[38;5;66;03m#     add = 0\u001b[39;00m\n\u001b[0;32m      3\u001b[0m     \u001b[38;5;28;01mfor\u001b[39;00m i \u001b[38;5;129;01min\u001b[39;00m x:\n\u001b[1;32m----> 4\u001b[0m         \u001b[43madd\u001b[49m \u001b[38;5;241m+\u001b[39m\u001b[38;5;241m=\u001b[39m i\n\u001b[0;32m      5\u001b[0m     \u001b[38;5;28;01mreturn\u001b[39;00m add\n",
      "\u001b[1;31mUnboundLocalError\u001b[0m: cannot access local variable 'add' where it is not associated with a value"
     ]
    }
   ],
   "source": [
    "print(my_sum(1, 2, 3))"
   ]
  },
  {
   "cell_type": "code",
   "execution_count": null,
   "id": "8dc22636",
   "metadata": {},
   "outputs": [],
   "source": []
  }
 ],
 "metadata": {
  "kernelspec": {
   "display_name": "Python 3 (ipykernel)",
   "language": "python",
   "name": "python3"
  },
  "language_info": {
   "codemirror_mode": {
    "name": "ipython",
    "version": 3
   },
   "file_extension": ".py",
   "mimetype": "text/x-python",
   "name": "python",
   "nbconvert_exporter": "python",
   "pygments_lexer": "ipython3",
   "version": "3.11.0"
  }
 },
 "nbformat": 4,
 "nbformat_minor": 5
}
