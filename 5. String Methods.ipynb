{
 "cells": [
  {
   "cell_type": "markdown",
   "id": "776c3ef8",
   "metadata": {},
   "source": [
    "# Case Methods"
   ]
  },
  {
   "cell_type": "code",
   "execution_count": 2,
   "id": "16588bda",
   "metadata": {},
   "outputs": [],
   "source": [
    "x = 'ABC def 123 !#%'"
   ]
  },
  {
   "cell_type": "code",
   "execution_count": 3,
   "id": "ae88e310",
   "metadata": {},
   "outputs": [
    {
     "name": "stdout",
     "output_type": "stream",
     "text": [
      "ABC DEF 123 !#%\n",
      "abc def 123 !#%\n",
      "Abc Def 123 !#%\n",
      "Abc def 123 !#%\n",
      "abc DEF 123 !#%\n"
     ]
    }
   ],
   "source": [
    "print(x.upper()) # convert every alphabet into uppercase\n",
    "print(x.lower()) # convert every alphabet into lowercase\n",
    "print(x.title()) # convert first alphabet of every word into uppercase rest are converted to lowercase\n",
    "print(x.capitalize()) # convert first alphabet of first word into uppercase rest are converted to lowercase\n",
    "print(x.swapcase()) # swapcase for every alphabet"
   ]
  },
  {
   "cell_type": "markdown",
   "id": "6e1138ef",
   "metadata": {},
   "source": [
    "# Find the location of substring in a string\n",
    "The find and index both accepts one required parameter/argument that is the substring to look for and returns their index at which the first character of substring is found. If the substring is not in the string find returns -1 and index raises an error.\n",
    "\n",
    "It can also accept the starting index and ending +1 index so as not to look in the whole string but a specific part of it."
   ]
  },
  {
   "cell_type": "code",
   "execution_count": 5,
   "id": "87d3bee8",
   "metadata": {},
   "outputs": [],
   "source": [
    "x = 'abcabc'"
   ]
  },
  {
   "cell_type": "code",
   "execution_count": 10,
   "id": "899364aa",
   "metadata": {},
   "outputs": [
    {
     "name": "stdout",
     "output_type": "stream",
     "text": [
      "0\n",
      "0\n"
     ]
    }
   ],
   "source": [
    "print(x.find('abc'))\n",
    "print(x.index('abc'))"
   ]
  },
  {
   "cell_type": "code",
   "execution_count": 7,
   "id": "f6d4cb4e",
   "metadata": {},
   "outputs": [
    {
     "name": "stdout",
     "output_type": "stream",
     "text": [
      "1\n",
      "1\n"
     ]
    }
   ],
   "source": [
    "print(x.find('b'))\n",
    "print(x.index('b'))"
   ]
  },
  {
   "cell_type": "code",
   "execution_count": 8,
   "id": "49a1008e",
   "metadata": {},
   "outputs": [
    {
     "name": "stdout",
     "output_type": "stream",
     "text": [
      "4\n",
      "4\n"
     ]
    }
   ],
   "source": [
    "print(x.find('b', 3))\n",
    "print(x.index('b', 3))"
   ]
  },
  {
   "cell_type": "code",
   "execution_count": 9,
   "id": "843542fc",
   "metadata": {},
   "outputs": [
    {
     "name": "stdout",
     "output_type": "stream",
     "text": [
      "-1\n"
     ]
    },
    {
     "ename": "ValueError",
     "evalue": "substring not found",
     "output_type": "error",
     "traceback": [
      "\u001b[1;31m---------------------------------------------------------------------------\u001b[0m",
      "\u001b[1;31mValueError\u001b[0m                                Traceback (most recent call last)",
      "Cell \u001b[1;32mIn [9], line 2\u001b[0m\n\u001b[0;32m      1\u001b[0m \u001b[38;5;28mprint\u001b[39m(x\u001b[38;5;241m.\u001b[39mfind(\u001b[38;5;124m'\u001b[39m\u001b[38;5;124mb\u001b[39m\u001b[38;5;124m'\u001b[39m, \u001b[38;5;241m2\u001b[39m, \u001b[38;5;241m4\u001b[39m))\n\u001b[1;32m----> 2\u001b[0m \u001b[38;5;28mprint\u001b[39m(\u001b[43mx\u001b[49m\u001b[38;5;241;43m.\u001b[39;49m\u001b[43mindex\u001b[49m\u001b[43m(\u001b[49m\u001b[38;5;124;43m'\u001b[39;49m\u001b[38;5;124;43mb\u001b[39;49m\u001b[38;5;124;43m'\u001b[39;49m\u001b[43m,\u001b[49m\u001b[43m \u001b[49m\u001b[38;5;241;43m2\u001b[39;49m\u001b[43m,\u001b[49m\u001b[43m \u001b[49m\u001b[38;5;241;43m4\u001b[39;49m\u001b[43m)\u001b[49m)\n",
      "\u001b[1;31mValueError\u001b[0m: substring not found"
     ]
    }
   ],
   "source": [
    "print(x.find('b', 2, 4))\n",
    "print(x.index('b', 2, 4))"
   ]
  },
  {
   "cell_type": "markdown",
   "id": "adcd278d",
   "metadata": {},
   "source": [
    "# Count"
   ]
  },
  {
   "cell_type": "code",
   "execution_count": 12,
   "id": "57d266ac",
   "metadata": {},
   "outputs": [],
   "source": [
    "x = 'abcabc'"
   ]
  },
  {
   "cell_type": "code",
   "execution_count": 18,
   "id": "23b51560",
   "metadata": {},
   "outputs": [
    {
     "name": "stdout",
     "output_type": "stream",
     "text": [
      "2\n"
     ]
    }
   ],
   "source": [
    "print(x.count('abc'))"
   ]
  },
  {
   "cell_type": "code",
   "execution_count": 19,
   "id": "687ade49",
   "metadata": {},
   "outputs": [
    {
     "name": "stdout",
     "output_type": "stream",
     "text": [
      "1\n"
     ]
    }
   ],
   "source": [
    "print(x.count('abca'))"
   ]
  },
  {
   "cell_type": "code",
   "execution_count": 20,
   "id": "13e4db95",
   "metadata": {},
   "outputs": [
    {
     "name": "stdout",
     "output_type": "stream",
     "text": [
      "1\n"
     ]
    }
   ],
   "source": [
    "print(x.count('ab', 2, 5))"
   ]
  },
  {
   "cell_type": "markdown",
   "id": "ded5976c",
   "metadata": {},
   "source": [
    "# Start and End with"
   ]
  },
  {
   "cell_type": "code",
   "execution_count": 26,
   "id": "aca9089d",
   "metadata": {},
   "outputs": [],
   "source": [
    "x = 'abc'"
   ]
  },
  {
   "cell_type": "code",
   "execution_count": 29,
   "id": "d3a6c4e6",
   "metadata": {},
   "outputs": [
    {
     "name": "stdout",
     "output_type": "stream",
     "text": [
      "True\n",
      "True\n",
      "False\n",
      "True\n"
     ]
    }
   ],
   "source": [
    "print(x.startswith('a'))\n",
    "print(x.startswith('ab'))\n",
    "print(x.startswith('c'))\n",
    "print(x.startswith('c', 2, 3))"
   ]
  },
  {
   "cell_type": "code",
   "execution_count": 31,
   "id": "0e77ba75",
   "metadata": {},
   "outputs": [
    {
     "name": "stdout",
     "output_type": "stream",
     "text": [
      "True\n",
      "True\n",
      "False\n",
      "True\n"
     ]
    }
   ],
   "source": [
    "print(x.endswith('c'))\n",
    "print(x.endswith('bc'))\n",
    "print(x.endswith('a'))\n",
    "print(x.endswith('a', 0, 1))"
   ]
  },
  {
   "cell_type": "markdown",
   "id": "b1dfc69d",
   "metadata": {},
   "source": [
    "# is Methods"
   ]
  },
  {
   "cell_type": "code",
   "execution_count": 43,
   "id": "b0025df8",
   "metadata": {},
   "outputs": [
    {
     "name": "stdout",
     "output_type": "stream",
     "text": [
      "True\n",
      "True\n",
      "False\n",
      "False\n",
      "True\n"
     ]
    }
   ],
   "source": [
    "print('xyz'.isalnum())\n",
    "print('123'.isalnum())\n",
    "print('x y z'.isalnum())\n",
    "print('x_y_z'.isalnum())\n",
    "print('xyz123'.isalnum())"
   ]
  },
  {
   "cell_type": "code",
   "execution_count": 44,
   "id": "17e14784",
   "metadata": {},
   "outputs": [
    {
     "name": "stdout",
     "output_type": "stream",
     "text": [
      "True\n",
      "False\n",
      "False\n",
      "False\n",
      "False\n"
     ]
    }
   ],
   "source": [
    "print('xyz'.isalpha())\n",
    "print('123'.isalpha())\n",
    "print('x y z'.isalpha())\n",
    "print('x_y_z'.isalpha())\n",
    "print('xyz123'.isalpha())"
   ]
  },
  {
   "cell_type": "code",
   "execution_count": 60,
   "id": "4dea43d1",
   "metadata": {},
   "outputs": [
    {
     "name": "stdout",
     "output_type": "stream",
     "text": [
      "False\n",
      "True\n",
      "False\n",
      "False\n",
      "False\n",
      "False\n"
     ]
    }
   ],
   "source": [
    "print('xyz'.isnumeric())\n",
    "print('123'.isnumeric())\n",
    "print('1 2 3'.isnumeric())\n",
    "print('1.2'.isnumeric())\n",
    "print('-1'.isnumeric())\n",
    "print('xyz123'.isnumeric())"
   ]
  },
  {
   "cell_type": "code",
   "execution_count": 2,
   "id": "ea976fe9",
   "metadata": {},
   "outputs": [
    {
     "name": "stdout",
     "output_type": "stream",
     "text": [
      "True\n",
      "False\n",
      "False\n"
     ]
    }
   ],
   "source": [
    "print('abc 123'.islower())\n",
    "print('aBC 123'.islower())\n",
    "print('ABC 123'.islower())"
   ]
  },
  {
   "cell_type": "code",
   "execution_count": 3,
   "id": "5dfb5263",
   "metadata": {},
   "outputs": [
    {
     "name": "stdout",
     "output_type": "stream",
     "text": [
      "False\n",
      "False\n",
      "True\n"
     ]
    }
   ],
   "source": [
    "print('abc 123'.isupper())\n",
    "print('aBC 123'.isupper())\n",
    "print('ABC 123'.isupper())"
   ]
  },
  {
   "cell_type": "code",
   "execution_count": 6,
   "id": "10d2a1e7",
   "metadata": {},
   "outputs": [
    {
     "name": "stdout",
     "output_type": "stream",
     "text": [
      "False\n",
      "True\n",
      "True\n",
      "False\n"
     ]
    }
   ],
   "source": [
    "print('abc 123'.istitle())\n",
    "print('Abc 123'.istitle())\n",
    "print('123 Abc'.istitle())\n",
    "print('ABC 123'.istitle())"
   ]
  },
  {
   "cell_type": "code",
   "execution_count": 10,
   "id": "7bc59541",
   "metadata": {},
   "outputs": [
    {
     "name": "stdout",
     "output_type": "stream",
     "text": [
      "False\n",
      "True\n",
      "True\n",
      "True\n",
      "True\n"
     ]
    }
   ],
   "source": [
    "print(' abc '.isspace())\n",
    "print('  '.isspace())\n",
    "print('\\n'.isspace())\n",
    "print('\\t'.isspace())\n",
    "print('\\t \\n'.isspace())"
   ]
  },
  {
   "cell_type": "markdown",
   "id": "ed195429",
   "metadata": {},
   "source": [
    "# Replace\n",
    "Takes in two parameters/arguments, first is the value that needs to be replaced and other is the value that should be used to replace the previous one. It can also take in an optional value of count that specifies how many times the replace should be applied, if it is not specified all the occurances are replaced."
   ]
  },
  {
   "cell_type": "code",
   "execution_count": 27,
   "id": "0c88b8a6",
   "metadata": {},
   "outputs": [],
   "source": [
    "x = 'abcabc'"
   ]
  },
  {
   "cell_type": "code",
   "execution_count": 28,
   "id": "1ce756b7",
   "metadata": {},
   "outputs": [
    {
     "name": "stdout",
     "output_type": "stream",
     "text": [
      "1bc1bc\n"
     ]
    }
   ],
   "source": [
    "print(x.replace('a', '1'))"
   ]
  },
  {
   "cell_type": "code",
   "execution_count": 29,
   "id": "66301c9f",
   "metadata": {},
   "outputs": [
    {
     "name": "stdout",
     "output_type": "stream",
     "text": [
      "abcabc\n"
     ]
    }
   ],
   "source": [
    "print(x.replace('d', '1'))"
   ]
  },
  {
   "cell_type": "code",
   "execution_count": 30,
   "id": "8e4cf563",
   "metadata": {},
   "outputs": [
    {
     "name": "stdout",
     "output_type": "stream",
     "text": [
      "bcbc\n"
     ]
    }
   ],
   "source": [
    "print(x.replace('a', ''))"
   ]
  },
  {
   "cell_type": "code",
   "execution_count": 31,
   "id": "332f6d44",
   "metadata": {},
   "outputs": [
    {
     "name": "stdout",
     "output_type": "stream",
     "text": [
      "1bcabc\n"
     ]
    }
   ],
   "source": [
    "print(x.replace('a', '1', 1))"
   ]
  },
  {
   "cell_type": "markdown",
   "id": "85fb3385",
   "metadata": {},
   "source": [
    "# Strip\n",
    "It removes the leading and trailing white spaces from the string if no argument is given. Otherwise it removes all the leading and trailing characters that are given as a string"
   ]
  },
  {
   "cell_type": "code",
   "execution_count": 35,
   "id": "23fa1ff2",
   "metadata": {},
   "outputs": [
    {
     "name": "stdout",
     "output_type": "stream",
     "text": [
      ".abc.\n",
      ".abc  .\n",
      ".  abc.\n"
     ]
    }
   ],
   "source": [
    "print('.'+'  abc  '.strip()+'.')\n",
    "print('.'+'  abc  '.lstrip()+'.')\n",
    "print('.'+'  abc  '.rstrip()+'.')"
   ]
  },
  {
   "cell_type": "code",
   "execution_count": 36,
   "id": "8b5991dd",
   "metadata": {},
   "outputs": [
    {
     "name": "stdout",
     "output_type": "stream",
     "text": [
      "abc\n",
      "abc890\n",
      "123abc\n"
     ]
    }
   ],
   "source": [
    "print('123abc890'.strip('0123456789'))\n",
    "print('123abc890'.lstrip('0123456789'))\n",
    "print('123abc890'.rstrip('0123456789'))"
   ]
  },
  {
   "cell_type": "markdown",
   "id": "cd31fb0b",
   "metadata": {},
   "source": [
    "# Split\n",
    "Splits the string by spaces if no argument is provided. Otherwise splits the string by that substring. The final answer is a list of strings."
   ]
  },
  {
   "cell_type": "code",
   "execution_count": 39,
   "id": "879e520f",
   "metadata": {},
   "outputs": [
    {
     "name": "stdout",
     "output_type": "stream",
     "text": [
      "['My', 'name', 'is', 'John']\n"
     ]
    }
   ],
   "source": [
    "print(\"My name is John\".split())"
   ]
  },
  {
   "cell_type": "code",
   "execution_count": 40,
   "id": "9b3cf4a6",
   "metadata": {},
   "outputs": [
    {
     "name": "stdout",
     "output_type": "stream",
     "text": [
      "['My nam', ' is John']\n"
     ]
    }
   ],
   "source": [
    "print(\"My name is John\".split('e'))"
   ]
  },
  {
   "cell_type": "markdown",
   "id": "350482ec",
   "metadata": {},
   "source": [
    "# Join\n",
    "Join is the opposite of split it joins the given list of string together by the string."
   ]
  },
  {
   "cell_type": "code",
   "execution_count": 41,
   "id": "a4a4a8b9",
   "metadata": {},
   "outputs": [
    {
     "name": "stdout",
     "output_type": "stream",
     "text": [
      "My name is John\n"
     ]
    }
   ],
   "source": [
    "print(' '.join(['My', 'name', 'is', 'John']))"
   ]
  },
  {
   "cell_type": "code",
   "execution_count": 42,
   "id": "616260b0",
   "metadata": {},
   "outputs": [
    {
     "name": "stdout",
     "output_type": "stream",
     "text": [
      "My_name_is_John\n"
     ]
    }
   ],
   "source": [
    "print('_'.join(['My', 'name', 'is', 'John']))"
   ]
  },
  {
   "cell_type": "code",
   "execution_count": 43,
   "id": "a93dadb6",
   "metadata": {},
   "outputs": [
    {
     "name": "stdout",
     "output_type": "stream",
     "text": [
      "My-name-is-John\n"
     ]
    }
   ],
   "source": [
    "print('-'.join(['My', 'name', 'is', 'John']))"
   ]
  },
  {
   "cell_type": "code",
   "execution_count": 44,
   "id": "0d572e56",
   "metadata": {},
   "outputs": [
    {
     "name": "stdout",
     "output_type": "stream",
     "text": [
      "MynameisJohn\n"
     ]
    }
   ],
   "source": [
    "print(''.join(['My', 'name', 'is', 'John']))"
   ]
  },
  {
   "cell_type": "code",
   "execution_count": null,
   "id": "f90a4965",
   "metadata": {},
   "outputs": [],
   "source": []
  }
 ],
 "metadata": {
  "kernelspec": {
   "display_name": "Python 3 (ipykernel)",
   "language": "python",
   "name": "python3"
  },
  "language_info": {
   "codemirror_mode": {
    "name": "ipython",
    "version": 3
   },
   "file_extension": ".py",
   "mimetype": "text/x-python",
   "name": "python",
   "nbconvert_exporter": "python",
   "pygments_lexer": "ipython3",
   "version": "3.11.0"
  }
 },
 "nbformat": 4,
 "nbformat_minor": 5
}
