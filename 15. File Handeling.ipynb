{
 "cells": [
  {
   "cell_type": "code",
   "execution_count": 3,
   "id": "ce6b679b",
   "metadata": {},
   "outputs": [],
   "source": [
    "f = open(\"test.txt\", 'r')\n",
    "print(f.read())\n",
    "f.close()"
   ]
  },
  {
   "cell_type": "code",
   "execution_count": null,
   "id": "e7418fb2",
   "metadata": {},
   "outputs": [],
   "source": []
  },
  {
   "cell_type": "code",
   "execution_count": 6,
   "id": "7ae0eb57",
   "metadata": {},
   "outputs": [],
   "source": [
    "with open('test.txt', 'r') as f:\n",
    "    print(f.read())"
   ]
  },
  {
   "cell_type": "code",
   "execution_count": null,
   "id": "96436e51",
   "metadata": {},
   "outputs": [],
   "source": [
    "f.read() # read whole file as string\n",
    "f.readline() # read line by line\n",
    "f.readlines() # read whole file as list of lines"
   ]
  },
  {
   "cell_type": "code",
   "execution_count": 3,
   "id": "dcfe50a9",
   "metadata": {},
   "outputs": [
    {
     "name": "stdout",
     "output_type": "stream",
     "text": [
      "12\n"
     ]
    }
   ],
   "source": [
    "with open('test.txt', 'a') as f:\n",
    "    print(f.write('Hello World!'))"
   ]
  },
  {
   "cell_type": "code",
   "execution_count": 5,
   "id": "6f250198",
   "metadata": {},
   "outputs": [
    {
     "name": "stdout",
     "output_type": "stream",
     "text": [
      "None\n"
     ]
    }
   ],
   "source": [
    "with open('test.txt', 'w') as f:\n",
    "    print(f.writelines(['abc\\n', 'ijk\\n', 'xyz\\n']))"
   ]
  },
  {
   "cell_type": "code",
   "execution_count": 6,
   "id": "d79a498d",
   "metadata": {},
   "outputs": [
    {
     "name": "stdout",
     "output_type": "stream",
     "text": [
      "None\n"
     ]
    }
   ],
   "source": [
    "with open('abc.txt', 'a') as f:\n",
    "    print(f.writelines(['abc\\n', 'ijk\\n', 'xyz\\n']))"
   ]
  },
  {
   "cell_type": "code",
   "execution_count": null,
   "id": "65c89b92",
   "metadata": {},
   "outputs": [],
   "source": [
    "# Make a file manually that have two lines of text, then add a line in\n",
    "# between these lines using a code"
   ]
  },
  {
   "cell_type": "code",
   "execution_count": 1,
   "id": "31c70493",
   "metadata": {},
   "outputs": [
    {
     "name": "stdout",
     "output_type": "stream",
     "text": [
      "Name,Class,Subject,Marks\n",
      "XYZ,SY,Coding,80\n",
      "\n"
     ]
    }
   ],
   "source": [
    "with open(r'C:\\Users\\dell\\Desktop\\Book1.csv', 'r') as f:\n",
    "    print(f.read())"
   ]
  },
  {
   "cell_type": "code",
   "execution_count": null,
   "id": "59ce8473",
   "metadata": {},
   "outputs": [],
   "source": [
    "# Create a csv file, read it using python and save the contents in a\n",
    "# dictionary"
   ]
  },
  {
   "cell_type": "code",
   "execution_count": 6,
   "id": "36450bb3",
   "metadata": {},
   "outputs": [],
   "source": [
    "with open(r'C:\\Users\\dell\\Desktop\\Book1.csv', 'r') as f:\n",
    "    keys = f.readline().strip().split(',')\n",
    "    values = [i.split(',') for i in f.read().splitlines()]"
   ]
  },
  {
   "cell_type": "code",
   "execution_count": 10,
   "id": "1caafb0e",
   "metadata": {},
   "outputs": [],
   "source": [
    "csv = {}\n",
    "for n, k in enumerate(keys):\n",
    "    csv[k] = [i[n] for i in values]"
   ]
  },
  {
   "cell_type": "code",
   "execution_count": 11,
   "id": "bb2c2166",
   "metadata": {},
   "outputs": [
    {
     "data": {
      "text/plain": [
       "{'Name': ['XYZ', 'ABC'],\n",
       " 'Class': ['SY', 'FY'],\n",
       " 'Subject': ['Coding', 'Coding'],\n",
       " 'Marks': ['80', '90']}"
      ]
     },
     "execution_count": 11,
     "metadata": {},
     "output_type": "execute_result"
    }
   ],
   "source": [
    "csv"
   ]
  },
  {
   "cell_type": "code",
   "execution_count": null,
   "id": "1d85df76",
   "metadata": {},
   "outputs": [],
   "source": []
  }
 ],
 "metadata": {
  "kernelspec": {
   "display_name": "Python 3 (ipykernel)",
   "language": "python",
   "name": "python3"
  },
  "language_info": {
   "codemirror_mode": {
    "name": "ipython",
    "version": 3
   },
   "file_extension": ".py",
   "mimetype": "text/x-python",
   "name": "python",
   "nbconvert_exporter": "python",
   "pygments_lexer": "ipython3",
   "version": "3.11.0"
  }
 },
 "nbformat": 4,
 "nbformat_minor": 5
}
