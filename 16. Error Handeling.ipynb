{
 "cells": [
  {
   "cell_type": "markdown",
   "id": "c90255bc",
   "metadata": {},
   "source": [
    "# Error Handling\n",
    "\n",
    "When we try to run a python code sometimes an error occurs and the program gets terminated there and then. Most of the time this feature is helpful because it tells us that there is a mistake in the code, but sometimes the error is due to some other reasons and the only way to move forward is to find an alternate way or ignore the error. For this type of error handelling we have following keywords:"
   ]
  },
  {
   "cell_type": "raw",
   "id": "a572abb4",
   "metadata": {},
   "source": [
    "try\n",
    "except\n",
    "else\n",
    "finally"
   ]
  },
  {
   "cell_type": "markdown",
   "id": "c0dd557d",
   "metadata": {},
   "source": [
    "Let us write a code that takes an integer as input from the user and adds 10 to it and print the answer."
   ]
  },
  {
   "cell_type": "code",
   "execution_count": 27,
   "id": "52b9f583",
   "metadata": {},
   "outputs": [
    {
     "name": "stdout",
     "output_type": "stream",
     "text": [
      "Enter an integer: 1\n",
      "11\n"
     ]
    }
   ],
   "source": [
    "x = int(input(\"Enter an integer: \"))\n",
    "x += 10\n",
    "print(x)"
   ]
  },
  {
   "cell_type": "markdown",
   "id": "74168f5a",
   "metadata": {},
   "source": [
    "This codes works as it is supposed to.\n",
    "\n",
    "## Try Except\n",
    "\n",
    "But what happens if the user enters an alphabet or a special character?"
   ]
  },
  {
   "cell_type": "code",
   "execution_count": 28,
   "id": "7dc7bd23",
   "metadata": {},
   "outputs": [
    {
     "name": "stdout",
     "output_type": "stream",
     "text": [
      "Enter an integer: a\n"
     ]
    },
    {
     "ename": "ValueError",
     "evalue": "invalid literal for int() with base 10: 'a'",
     "output_type": "error",
     "traceback": [
      "\u001b[1;31m---------------------------------------------------------------------------\u001b[0m",
      "\u001b[1;31mValueError\u001b[0m                                Traceback (most recent call last)",
      "Cell \u001b[1;32mIn [28], line 1\u001b[0m\n\u001b[1;32m----> 1\u001b[0m x \u001b[38;5;241m=\u001b[39m \u001b[38;5;28;43mint\u001b[39;49m\u001b[43m(\u001b[49m\u001b[38;5;28;43minput\u001b[39;49m\u001b[43m(\u001b[49m\u001b[38;5;124;43m\"\u001b[39;49m\u001b[38;5;124;43mEnter an integer: \u001b[39;49m\u001b[38;5;124;43m\"\u001b[39;49m\u001b[43m)\u001b[49m\u001b[43m)\u001b[49m\n\u001b[0;32m      2\u001b[0m x \u001b[38;5;241m+\u001b[39m\u001b[38;5;241m=\u001b[39m \u001b[38;5;241m10\u001b[39m\n\u001b[0;32m      3\u001b[0m \u001b[38;5;28mprint\u001b[39m(x)\n",
      "\u001b[1;31mValueError\u001b[0m: invalid literal for int() with base 10: 'a'"
     ]
    }
   ],
   "source": [
    "x = int(input(\"Enter an integer: \"))\n",
    "x += 10\n",
    "print(x)"
   ]
  },
  {
   "cell_type": "markdown",
   "id": "58200e42",
   "metadata": {},
   "source": [
    "We get a value error, because a cannot be changed to integer. So we can modify this code to ask the user again if he entered a non-numeric value."
   ]
  },
  {
   "cell_type": "code",
   "execution_count": 29,
   "id": "529b85ff",
   "metadata": {},
   "outputs": [
    {
     "name": "stdout",
     "output_type": "stream",
     "text": [
      "Enter an integer: 1\n",
      "11\n"
     ]
    }
   ],
   "source": [
    "try:\n",
    "    x = int(input(\"Enter an integer: \"))\n",
    "except:\n",
    "    x = int(input(\"Sorry! Wrong value! Please try entring an integer: \"))\n",
    "x += 10\n",
    "print(x)"
   ]
  },
  {
   "cell_type": "code",
   "execution_count": 2,
   "id": "dfd665cc",
   "metadata": {},
   "outputs": [
    {
     "name": "stdout",
     "output_type": "stream",
     "text": [
      "Enter an integer: a\n",
      "Sorry! Wrong value! Please try entring an integer: b\n"
     ]
    },
    {
     "ename": "ValueError",
     "evalue": "invalid literal for int() with base 10: 'b'",
     "output_type": "error",
     "traceback": [
      "\u001b[1;31m---------------------------------------------------------------------------\u001b[0m",
      "\u001b[1;31mValueError\u001b[0m                                Traceback (most recent call last)",
      "Cell \u001b[1;32mIn [2], line 2\u001b[0m\n\u001b[0;32m      1\u001b[0m \u001b[38;5;28;01mtry\u001b[39;00m:\n\u001b[1;32m----> 2\u001b[0m     x \u001b[38;5;241m=\u001b[39m \u001b[38;5;28;43mint\u001b[39;49m\u001b[43m(\u001b[49m\u001b[38;5;28;43minput\u001b[39;49m\u001b[43m(\u001b[49m\u001b[38;5;124;43m\"\u001b[39;49m\u001b[38;5;124;43mEnter an integer: \u001b[39;49m\u001b[38;5;124;43m\"\u001b[39;49m\u001b[43m)\u001b[49m\u001b[43m)\u001b[49m\n\u001b[0;32m      3\u001b[0m \u001b[38;5;28;01mexcept\u001b[39;00m:\n",
      "\u001b[1;31mValueError\u001b[0m: invalid literal for int() with base 10: 'a'",
      "\nDuring handling of the above exception, another exception occurred:\n",
      "\u001b[1;31mValueError\u001b[0m                                Traceback (most recent call last)",
      "Cell \u001b[1;32mIn [2], line 4\u001b[0m\n\u001b[0;32m      2\u001b[0m     x \u001b[38;5;241m=\u001b[39m \u001b[38;5;28mint\u001b[39m(\u001b[38;5;28minput\u001b[39m(\u001b[38;5;124m\"\u001b[39m\u001b[38;5;124mEnter an integer: \u001b[39m\u001b[38;5;124m\"\u001b[39m))\n\u001b[0;32m      3\u001b[0m \u001b[38;5;28;01mexcept\u001b[39;00m:\n\u001b[1;32m----> 4\u001b[0m     x \u001b[38;5;241m=\u001b[39m \u001b[38;5;28;43mint\u001b[39;49m\u001b[43m(\u001b[49m\u001b[38;5;28;43minput\u001b[39;49m\u001b[43m(\u001b[49m\u001b[38;5;124;43m\"\u001b[39;49m\u001b[38;5;124;43mSorry! Wrong value! Please try entring an integer: \u001b[39;49m\u001b[38;5;124;43m\"\u001b[39;49m\u001b[43m)\u001b[49m\u001b[43m)\u001b[49m\n\u001b[0;32m      5\u001b[0m x \u001b[38;5;241m+\u001b[39m\u001b[38;5;241m=\u001b[39m \u001b[38;5;241m10\u001b[39m\n\u001b[0;32m      6\u001b[0m \u001b[38;5;28mprint\u001b[39m(x)\n",
      "\u001b[1;31mValueError\u001b[0m: invalid literal for int() with base 10: 'b'"
     ]
    }
   ],
   "source": [
    "try:\n",
    "    x = int(input(\"Enter an integer: \"))\n",
    "except:\n",
    "    x = int(input(\"Sorry! Wrong value! Please try entring an integer: \"))\n",
    "x += 10\n",
    "print(x)"
   ]
  },
  {
   "cell_type": "markdown",
   "id": "d94ffbaa",
   "metadata": {},
   "source": [
    "In this we have used try and except, the try statement runs the code that is the part of it. If that piece of code returns an error, instead of returning an error and terminating the code it proceeds to run the code under except statement. And keep in mind that the except block only gets executed if the try block returns an error."
   ]
  },
  {
   "cell_type": "markdown",
   "id": "c7970c01",
   "metadata": {},
   "source": [
    "Now let's try to run the code above again, but this time without the except block."
   ]
  },
  {
   "cell_type": "code",
   "execution_count": 31,
   "id": "aa3d32f7",
   "metadata": {},
   "outputs": [
    {
     "ename": "SyntaxError",
     "evalue": "expected 'except' or 'finally' block (3513633163.py, line 3)",
     "output_type": "error",
     "traceback": [
      "\u001b[1;36m  Cell \u001b[1;32mIn [31], line 3\u001b[1;36m\u001b[0m\n\u001b[1;33m    x += 10\u001b[0m\n\u001b[1;37m    ^\u001b[0m\n\u001b[1;31mSyntaxError\u001b[0m\u001b[1;31m:\u001b[0m expected 'except' or 'finally' block\n"
     ]
    }
   ],
   "source": [
    "try:\n",
    "    x = int(input(\"Enter an integer: \"))\n",
    "x += 10\n",
    "print(x)"
   ]
  },
  {
   "cell_type": "markdown",
   "id": "5bbf9bd5",
   "metadata": {},
   "source": [
    "We got an error that a try block must be followed by except or finally block."
   ]
  },
  {
   "cell_type": "markdown",
   "id": "86534133",
   "metadata": {},
   "source": [
    "# Else\n",
    "\n",
    "We just looked at how except only gets executed if there is an error in try block. The exact opposite of except is else block, which runs if there was no error in the try block."
   ]
  },
  {
   "cell_type": "code",
   "execution_count": 2,
   "id": "3f5fa940",
   "metadata": {},
   "outputs": [
    {
     "name": "stdout",
     "output_type": "stream",
     "text": [
      "Enter an integer: a\n",
      "Sorry! Wrong value!\n"
     ]
    },
    {
     "ename": "NameError",
     "evalue": "name 'x' is not defined",
     "output_type": "error",
     "traceback": [
      "\u001b[1;31m---------------------------------------------------------------------------\u001b[0m",
      "\u001b[1;31mNameError\u001b[0m                                 Traceback (most recent call last)",
      "Cell \u001b[1;32mIn [2], line 6\u001b[0m\n\u001b[0;32m      3\u001b[0m \u001b[38;5;28;01mexcept\u001b[39;00m:\n\u001b[0;32m      4\u001b[0m     \u001b[38;5;28mprint\u001b[39m(\u001b[38;5;124m\"\u001b[39m\u001b[38;5;124mSorry! Wrong value!\u001b[39m\u001b[38;5;124m\"\u001b[39m)\n\u001b[1;32m----> 6\u001b[0m \u001b[43mx\u001b[49m \u001b[38;5;241m+\u001b[39m\u001b[38;5;241m=\u001b[39m \u001b[38;5;241m10\u001b[39m\n\u001b[0;32m      7\u001b[0m \u001b[38;5;28mprint\u001b[39m(x)\n",
      "\u001b[1;31mNameError\u001b[0m: name 'x' is not defined"
     ]
    }
   ],
   "source": [
    "try:\n",
    "    x = int(input(\"Enter an integer: \"))\n",
    "except:\n",
    "    print(\"Sorry! Wrong value!\")\n",
    "\n",
    "x += 10\n",
    "print(x)"
   ]
  },
  {
   "cell_type": "code",
   "execution_count": 3,
   "id": "ee9e1d6d",
   "metadata": {},
   "outputs": [
    {
     "name": "stdout",
     "output_type": "stream",
     "text": [
      "Enter an integer: 1\n",
      "11\n"
     ]
    }
   ],
   "source": [
    "try:\n",
    "    x = int(input(\"Enter an integer: \"))\n",
    "except:\n",
    "    print(\"Sorry! Wrong value!\")\n",
    "else:\n",
    "    x += 10\n",
    "    print(x)"
   ]
  },
  {
   "cell_type": "markdown",
   "id": "ee361b69",
   "metadata": {},
   "source": [
    "In the second scenareo try returned an error so except got executed and else didn't, while in the first one it was exactly the reverse."
   ]
  },
  {
   "cell_type": "markdown",
   "id": "7aa79d07",
   "metadata": {},
   "source": [
    "# Multiple Excepts\n",
    "\n",
    "We can also have more than one except blocks for a single try block."
   ]
  },
  {
   "cell_type": "code",
   "execution_count": null,
   "id": "dcdbcb5d",
   "metadata": {},
   "outputs": [],
   "source": [
    "# Write a code that two inputs from the user, converts them into int\n",
    "# and divides them."
   ]
  },
  {
   "cell_type": "code",
   "execution_count": 33,
   "id": "6db4b7e4",
   "metadata": {},
   "outputs": [
    {
     "name": "stdout",
     "output_type": "stream",
     "text": [
      "Enter an integer: a\n",
      "Sorry! Wrong value!\n"
     ]
    }
   ],
   "source": [
    "try:\n",
    "    x = int(input(\"Enter an integer: \"))\n",
    "except:\n",
    "    print(\"Sorry! Wrong value!\")\n",
    "else:\n",
    "    x += 10\n",
    "    print(x)"
   ]
  },
  {
   "cell_type": "code",
   "execution_count": 5,
   "id": "741f6828",
   "metadata": {},
   "outputs": [
    {
     "ename": "TypeError",
     "evalue": "unsupported operand type(s) for /: 'int' and 'str'",
     "output_type": "error",
     "traceback": [
      "\u001b[1;31m---------------------------------------------------------------------------\u001b[0m",
      "\u001b[1;31mTypeError\u001b[0m                                 Traceback (most recent call last)",
      "Cell \u001b[1;32mIn [5], line 1\u001b[0m\n\u001b[1;32m----> 1\u001b[0m \u001b[38;5;241;43m1\u001b[39;49m\u001b[38;5;241;43m/\u001b[39;49m\u001b[38;5;124;43m'\u001b[39;49m\u001b[38;5;124;43ma\u001b[39;49m\u001b[38;5;124;43m'\u001b[39;49m\n",
      "\u001b[1;31mTypeError\u001b[0m: unsupported operand type(s) for /: 'int' and 'str'"
     ]
    }
   ],
   "source": [
    "1/'a'"
   ]
  },
  {
   "cell_type": "code",
   "execution_count": 34,
   "id": "2a2783c3",
   "metadata": {},
   "outputs": [
    {
     "name": "stdout",
     "output_type": "stream",
     "text": [
      "Enter dividend: 1\n",
      "Enter divisor : 2\n",
      "1 divided by 2 is equal to 0.5.\n"
     ]
    }
   ],
   "source": [
    "try:\n",
    "    x = int(input(\"Enter dividend: \"))\n",
    "    y = int(input(\"Enter divisor : \"))\n",
    "    ans = x/y\n",
    "except ValueError:\n",
    "    print(\"Sorry! Non-numerical value recieved.\")\n",
    "except ZeroDivisionError:\n",
    "    print(\"Sorry! Divisor cannot be zero.\")\n",
    "else:\n",
    "    print(f\"{x} divided by {y} is equal to {ans}.\")"
   ]
  },
  {
   "cell_type": "code",
   "execution_count": 35,
   "id": "51cb7d12",
   "metadata": {},
   "outputs": [
    {
     "name": "stdout",
     "output_type": "stream",
     "text": [
      "Enter dividend: 1\n",
      "Enter divisor : a\n",
      "Sorry! Non-numerical value recieved.\n"
     ]
    }
   ],
   "source": [
    "try:\n",
    "    x = int(input(\"Enter dividend: \"))\n",
    "    y = int(input(\"Enter divisor : \"))\n",
    "    ans = x/y\n",
    "except ValueError:\n",
    "    print(\"Sorry! Non-numerical value recieved.\")\n",
    "except ZeroDivisionError:\n",
    "    print(\"Sorry! Divisor cannot be zero.\")\n",
    "else:\n",
    "    print(f\"{x} divided by {y} is equal to {ans}.\")"
   ]
  },
  {
   "cell_type": "code",
   "execution_count": 36,
   "id": "a1fb382a",
   "metadata": {},
   "outputs": [
    {
     "name": "stdout",
     "output_type": "stream",
     "text": [
      "Enter dividend: 1\n",
      "Enter divisor : 0\n",
      "Sorry! Divisor cannot be zero.\n"
     ]
    }
   ],
   "source": [
    "try:\n",
    "    x = int(input(\"Enter dividend: \"))\n",
    "    y = int(input(\"Enter divisor : \"))\n",
    "    ans = x/y\n",
    "except ValueError:\n",
    "    print(\"Sorry! Non-numerical value recieved.\")\n",
    "except ZeroDivisionError:\n",
    "    print(\"Sorry! Divisor cannot be zero.\")\n",
    "else:\n",
    "    print(f\"{x} divided by {y} is equal to {ans}.\")"
   ]
  },
  {
   "cell_type": "markdown",
   "id": "d2ba6640",
   "metadata": {},
   "source": [
    "# Finally\n",
    "\n",
    "Lastly, there is the finally block which runs no matter if the error occurs in try or not."
   ]
  },
  {
   "cell_type": "code",
   "execution_count": 37,
   "id": "4314eb30",
   "metadata": {},
   "outputs": [
    {
     "name": "stdout",
     "output_type": "stream",
     "text": [
      "Enter dividend: 1\n",
      "Enter divisor : 2\n",
      "1 divided by 2 is equal to 0.5.\n",
      "Thank you! Have a nice day.\n"
     ]
    }
   ],
   "source": [
    "try:\n",
    "    x = int(input(\"Enter dividend: \"))\n",
    "    y = int(input(\"Enter divisor : \"))\n",
    "    ans = x/y\n",
    "except ValueError:\n",
    "    print(\"Sorry! Non-numerical value recieved.\")\n",
    "except ZeroDivisionError:\n",
    "    print(\"Sorry! Divisor cannot be zero.\")\n",
    "else:\n",
    "    print(f\"{x} divided by {y} is equal to {ans}.\")\n",
    "finally:\n",
    "    print(\"Thank you! Have a nice day.\")"
   ]
  },
  {
   "cell_type": "code",
   "execution_count": 38,
   "id": "e19d8243",
   "metadata": {},
   "outputs": [
    {
     "name": "stdout",
     "output_type": "stream",
     "text": [
      "Enter dividend: 1\n",
      "Enter divisor : a\n",
      "Sorry! Non-numerical value recieved.\n",
      "Thank you! Have a nice day.\n"
     ]
    }
   ],
   "source": [
    "try:\n",
    "    x = int(input(\"Enter dividend: \"))\n",
    "    y = int(input(\"Enter divisor : \"))\n",
    "    ans = x/y\n",
    "except ValueError:\n",
    "    print(\"Sorry! Non-numerical value recieved.\")\n",
    "except ZeroDivisionError:\n",
    "    print(\"Sorry! Divisor cannot be zero.\")\n",
    "else:\n",
    "    print(f\"{x} divided by {y} is equal to {ans}.\")\n",
    "finally:\n",
    "    print(\"Thank you! Have a nice day.\")"
   ]
  },
  {
   "cell_type": "code",
   "execution_count": 39,
   "id": "771a93b8",
   "metadata": {},
   "outputs": [
    {
     "name": "stdout",
     "output_type": "stream",
     "text": [
      "Enter dividend: 1\n",
      "Enter divisor : 0\n",
      "Sorry! Divisor cannot be zero.\n",
      "Thank you! Have a nice day.\n"
     ]
    }
   ],
   "source": [
    "try:\n",
    "    x = int(input(\"Enter dividend: \"))\n",
    "    y = int(input(\"Enter divisor : \"))\n",
    "    ans = x/y\n",
    "except ValueError:\n",
    "    print(\"Sorry! Non-numerical value recieved.\")\n",
    "except ZeroDivisionError:\n",
    "    print(\"Sorry! Divisor cannot be zero.\")\n",
    "else:\n",
    "    print(f\"{x} divided by {y} is equal to {ans}.\")\n",
    "finally:\n",
    "    print(\"Thank you! Have a nice day.\")"
   ]
  },
  {
   "cell_type": "markdown",
   "id": "25065501",
   "metadata": {},
   "source": [
    "# Nested Try Except\n",
    "\n",
    "You can also have nested structures just like nested loops and conditions."
   ]
  },
  {
   "cell_type": "code",
   "execution_count": 40,
   "id": "cc6b8fda",
   "metadata": {},
   "outputs": [
    {
     "name": "stdout",
     "output_type": "stream",
     "text": [
      "Enter dividend: 1\n",
      "Enter divisor : 2\n",
      "1 divided by 2 is equal to 0.5.\n",
      "Thank you! Have a nice day.\n"
     ]
    }
   ],
   "source": [
    "try:\n",
    "    x = int(input(\"Enter dividend: \"))\n",
    "    y = int(input(\"Enter divisor : \"))\n",
    "    try:\n",
    "        ans = x/y\n",
    "    except:\n",
    "        print(\"Sorry! Divisor cannot be zero.\")\n",
    "    else:\n",
    "        print(f\"{x} divided by {y} is equal to {ans}.\")\n",
    "except:\n",
    "    print(\"Sorry! Non-numerical value recieved.\")\n",
    "finally:\n",
    "    print(\"Thank you! Have a nice day.\")"
   ]
  },
  {
   "cell_type": "code",
   "execution_count": 41,
   "id": "7cd4b20a",
   "metadata": {},
   "outputs": [
    {
     "name": "stdout",
     "output_type": "stream",
     "text": [
      "Enter dividend: 1\n",
      "Enter divisor : a\n",
      "Sorry! Non-numerical value recieved.\n",
      "Thank you! Have a nice day.\n"
     ]
    }
   ],
   "source": [
    "try:\n",
    "    x = int(input(\"Enter dividend: \"))\n",
    "    y = int(input(\"Enter divisor : \"))\n",
    "    try:\n",
    "        ans = x/y\n",
    "    except:\n",
    "        print(\"Sorry! Divisor cannot be zero.\")\n",
    "    else:\n",
    "        print(f\"{x} divided by {y} is equal to {ans}.\")\n",
    "except:\n",
    "    print(\"Sorry! Non-numerical value recieved.\")\n",
    "finally:\n",
    "    print(\"Thank you! Have a nice day.\")"
   ]
  },
  {
   "cell_type": "code",
   "execution_count": 42,
   "id": "856f1b5d",
   "metadata": {},
   "outputs": [
    {
     "name": "stdout",
     "output_type": "stream",
     "text": [
      "Enter dividend: 1\n",
      "Enter divisor : 0\n",
      "Sorry! Divisor cannot be zero.\n",
      "Thank you! Have a nice day.\n"
     ]
    }
   ],
   "source": [
    "try:\n",
    "    x = int(input(\"Enter dividend: \"))\n",
    "    y = int(input(\"Enter divisor : \"))\n",
    "    try:\n",
    "        ans = x/y\n",
    "    except:\n",
    "        print(\"Sorry! Divisor cannot be zero.\")\n",
    "    else:\n",
    "        print(f\"{x} divided by {y} is equal to {ans}.\")\n",
    "except:\n",
    "    print(\"Sorry! Non-numerical value recieved.\")\n",
    "finally:\n",
    "    print(\"Thank you! Have a nice day.\")"
   ]
  },
  {
   "cell_type": "markdown",
   "id": "f56c0d91",
   "metadata": {},
   "source": [
    "This code works just like the one above it but instead of specifying the type of error we have used nested blocks."
   ]
  },
  {
   "cell_type": "markdown",
   "id": "5161e828",
   "metadata": {},
   "source": [
    "# Raise\n",
    "\n",
    "Up until now we have seen how we can handle any error which might occur and keep the code running. But what we can also do is create our very oun errors. Let's take this example again:"
   ]
  },
  {
   "cell_type": "code",
   "execution_count": 43,
   "id": "5d27e4bc",
   "metadata": {},
   "outputs": [
    {
     "name": "stdout",
     "output_type": "stream",
     "text": [
      "Enter a positive integer: -2\n",
      "8\n"
     ]
    }
   ],
   "source": [
    "x = int(input(\"Enter a positive integer: \"))\n",
    "x += 10\n",
    "print(x)"
   ]
  },
  {
   "cell_type": "markdown",
   "id": "258fbb97",
   "metadata": {},
   "source": [
    "Let's say we only want to allow positive integers, and if the user enters a negative integer we must raise an error."
   ]
  },
  {
   "cell_type": "code",
   "execution_count": 44,
   "id": "c8ee748a",
   "metadata": {},
   "outputs": [
    {
     "name": "stdout",
     "output_type": "stream",
     "text": [
      "Enter a positive integer: a\n"
     ]
    },
    {
     "ename": "ValueError",
     "evalue": "invalid literal for int() with base 10: 'a'",
     "output_type": "error",
     "traceback": [
      "\u001b[1;31m---------------------------------------------------------------------------\u001b[0m",
      "\u001b[1;31mValueError\u001b[0m                                Traceback (most recent call last)",
      "Cell \u001b[1;32mIn [44], line 1\u001b[0m\n\u001b[1;32m----> 1\u001b[0m x \u001b[38;5;241m=\u001b[39m \u001b[38;5;28;43mint\u001b[39;49m\u001b[43m(\u001b[49m\u001b[38;5;28;43minput\u001b[39;49m\u001b[43m(\u001b[49m\u001b[38;5;124;43m\"\u001b[39;49m\u001b[38;5;124;43mEnter a positive integer: \u001b[39;49m\u001b[38;5;124;43m\"\u001b[39;49m\u001b[43m)\u001b[49m\u001b[43m)\u001b[49m\n\u001b[0;32m      2\u001b[0m \u001b[38;5;28;01mif\u001b[39;00m x \u001b[38;5;241m<\u001b[39m \u001b[38;5;241m0\u001b[39m:\n\u001b[0;32m      3\u001b[0m     \u001b[38;5;28;01mraise\u001b[39;00m \u001b[38;5;167;01mValueError\u001b[39;00m(\u001b[38;5;124m\"\u001b[39m\u001b[38;5;124mOnly positive integers allowed!\u001b[39m\u001b[38;5;124m\"\u001b[39m)\n",
      "\u001b[1;31mValueError\u001b[0m: invalid literal for int() with base 10: 'a'"
     ]
    }
   ],
   "source": [
    "x = int(input(\"Enter a positive integer: \"))\n",
    "if x < 0:\n",
    "    raise ValueError(\"Only positive integers allowed!\")\n",
    "x += 10\n",
    "print(x)"
   ]
  },
  {
   "cell_type": "code",
   "execution_count": 45,
   "id": "4407da61",
   "metadata": {},
   "outputs": [
    {
     "name": "stdout",
     "output_type": "stream",
     "text": [
      "Enter a positive integer: -2\n"
     ]
    },
    {
     "ename": "ValueError",
     "evalue": "Only positive integers allowed!",
     "output_type": "error",
     "traceback": [
      "\u001b[1;31m---------------------------------------------------------------------------\u001b[0m",
      "\u001b[1;31mValueError\u001b[0m                                Traceback (most recent call last)",
      "Cell \u001b[1;32mIn [45], line 3\u001b[0m\n\u001b[0;32m      1\u001b[0m x \u001b[38;5;241m=\u001b[39m \u001b[38;5;28mint\u001b[39m(\u001b[38;5;28minput\u001b[39m(\u001b[38;5;124m\"\u001b[39m\u001b[38;5;124mEnter a positive integer: \u001b[39m\u001b[38;5;124m\"\u001b[39m))\n\u001b[0;32m      2\u001b[0m \u001b[38;5;28;01mif\u001b[39;00m x \u001b[38;5;241m<\u001b[39m \u001b[38;5;241m0\u001b[39m:\n\u001b[1;32m----> 3\u001b[0m     \u001b[38;5;28;01mraise\u001b[39;00m \u001b[38;5;167;01mValueError\u001b[39;00m(\u001b[38;5;124m\"\u001b[39m\u001b[38;5;124mOnly positive integers allowed!\u001b[39m\u001b[38;5;124m\"\u001b[39m)\n\u001b[0;32m      4\u001b[0m x \u001b[38;5;241m+\u001b[39m\u001b[38;5;241m=\u001b[39m \u001b[38;5;241m10\u001b[39m\n\u001b[0;32m      5\u001b[0m \u001b[38;5;28mprint\u001b[39m(x)\n",
      "\u001b[1;31mValueError\u001b[0m: Only positive integers allowed!"
     ]
    }
   ],
   "source": [
    "x = int(input(\"Enter a positive integer: \"))\n",
    "if x < 0:\n",
    "    raise ValueError(\"Only positive integers allowed!\")\n",
    "x += 10\n",
    "print(x)"
   ]
  },
  {
   "cell_type": "code",
   "execution_count": 46,
   "id": "8bd588c0",
   "metadata": {},
   "outputs": [
    {
     "name": "stdout",
     "output_type": "stream",
     "text": [
      "Enter a positive integer: 1\n",
      "11\n"
     ]
    }
   ],
   "source": [
    "x = int(input(\"Enter a positive integer: \"))\n",
    "if x < 0:\n",
    "    raise ValueError(\"Only positive integers allowed!\")\n",
    "x += 10\n",
    "print(x)"
   ]
  },
  {
   "cell_type": "markdown",
   "id": "b5c229cf",
   "metadata": {},
   "source": [
    "Here in the first example the error occured because python cannot convert a to integer. But the second one is because we raised it mannually."
   ]
  },
  {
   "cell_type": "code",
   "execution_count": 6,
   "id": "90404c79",
   "metadata": {},
   "outputs": [],
   "source": [
    "import math"
   ]
  },
  {
   "cell_type": "code",
   "execution_count": 7,
   "id": "f2a9e933",
   "metadata": {},
   "outputs": [
    {
     "ename": "ValueError",
     "evalue": "factorial() not defined for negative values",
     "output_type": "error",
     "traceback": [
      "\u001b[1;31m---------------------------------------------------------------------------\u001b[0m",
      "\u001b[1;31mValueError\u001b[0m                                Traceback (most recent call last)",
      "Cell \u001b[1;32mIn [7], line 1\u001b[0m\n\u001b[1;32m----> 1\u001b[0m \u001b[43mmath\u001b[49m\u001b[38;5;241;43m.\u001b[39;49m\u001b[43mfactorial\u001b[49m\u001b[43m(\u001b[49m\u001b[38;5;241;43m-\u001b[39;49m\u001b[38;5;241;43m2\u001b[39;49m\u001b[43m)\u001b[49m\n",
      "\u001b[1;31mValueError\u001b[0m: factorial() not defined for negative values"
     ]
    }
   ],
   "source": [
    "math.factorial(-2)"
   ]
  },
  {
   "cell_type": "code",
   "execution_count": 8,
   "id": "d977234b",
   "metadata": {},
   "outputs": [
    {
     "ename": "TypeError",
     "evalue": "'str' object cannot be interpreted as an integer",
     "output_type": "error",
     "traceback": [
      "\u001b[1;31m---------------------------------------------------------------------------\u001b[0m",
      "\u001b[1;31mTypeError\u001b[0m                                 Traceback (most recent call last)",
      "Cell \u001b[1;32mIn [8], line 1\u001b[0m\n\u001b[1;32m----> 1\u001b[0m \u001b[43mmath\u001b[49m\u001b[38;5;241;43m.\u001b[39;49m\u001b[43mfactorial\u001b[49m\u001b[43m(\u001b[49m\u001b[38;5;124;43m\"\u001b[39;49m\u001b[38;5;124;43m2\u001b[39;49m\u001b[38;5;124;43m\"\u001b[39;49m\u001b[43m)\u001b[49m\n",
      "\u001b[1;31mTypeError\u001b[0m: 'str' object cannot be interpreted as an integer"
     ]
    }
   ],
   "source": [
    "math.factorial(\"2\")"
   ]
  },
  {
   "cell_type": "code",
   "execution_count": 9,
   "id": "ccdde3af",
   "metadata": {},
   "outputs": [],
   "source": [
    "def add(a, b):\n",
    "    if a<0:\n",
    "        raise ValueError(\"Error!\")"
   ]
  },
  {
   "cell_type": "code",
   "execution_count": 10,
   "id": "7fc38f86",
   "metadata": {},
   "outputs": [],
   "source": [
    "add(4, 5)"
   ]
  },
  {
   "cell_type": "code",
   "execution_count": 11,
   "id": "a3ad858c",
   "metadata": {},
   "outputs": [
    {
     "ename": "ValueError",
     "evalue": "Error!",
     "output_type": "error",
     "traceback": [
      "\u001b[1;31m---------------------------------------------------------------------------\u001b[0m",
      "\u001b[1;31mValueError\u001b[0m                                Traceback (most recent call last)",
      "Cell \u001b[1;32mIn [11], line 1\u001b[0m\n\u001b[1;32m----> 1\u001b[0m \u001b[43madd\u001b[49m\u001b[43m(\u001b[49m\u001b[38;5;241;43m-\u001b[39;49m\u001b[38;5;241;43m4\u001b[39;49m\u001b[43m,\u001b[49m\u001b[43m \u001b[49m\u001b[38;5;241;43m5\u001b[39;49m\u001b[43m)\u001b[49m\n",
      "Cell \u001b[1;32mIn [9], line 3\u001b[0m, in \u001b[0;36madd\u001b[1;34m(a, b)\u001b[0m\n\u001b[0;32m      1\u001b[0m \u001b[38;5;28;01mdef\u001b[39;00m \u001b[38;5;21madd\u001b[39m(a, b):\n\u001b[0;32m      2\u001b[0m     \u001b[38;5;28;01mif\u001b[39;00m a\u001b[38;5;241m<\u001b[39m\u001b[38;5;241m0\u001b[39m:\n\u001b[1;32m----> 3\u001b[0m         \u001b[38;5;28;01mraise\u001b[39;00m \u001b[38;5;167;01mValueError\u001b[39;00m(\u001b[38;5;124m\"\u001b[39m\u001b[38;5;124mError!\u001b[39m\u001b[38;5;124m\"\u001b[39m)\n",
      "\u001b[1;31mValueError\u001b[0m: Error!"
     ]
    }
   ],
   "source": [
    "add(-4, 5)"
   ]
  },
  {
   "cell_type": "code",
   "execution_count": null,
   "id": "1932dec6",
   "metadata": {},
   "outputs": [],
   "source": []
  }
 ],
 "metadata": {
  "kernelspec": {
   "display_name": "Python 3 (ipykernel)",
   "language": "python",
   "name": "python3"
  },
  "language_info": {
   "codemirror_mode": {
    "name": "ipython",
    "version": 3
   },
   "file_extension": ".py",
   "mimetype": "text/x-python",
   "name": "python",
   "nbconvert_exporter": "python",
   "pygments_lexer": "ipython3",
   "version": "3.11.0"
  }
 },
 "nbformat": 4,
 "nbformat_minor": 5
}
